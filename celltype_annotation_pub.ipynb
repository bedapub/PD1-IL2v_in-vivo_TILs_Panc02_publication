{
 "cells": [
  {
   "cell_type": "markdown",
   "metadata": {},
   "source": [
    "# Annotating Cell Types\n",
    "\n",
    "This workbook was run after the standard workflow."
   ]
  },
  {
   "cell_type": "code",
   "execution_count": null,
   "metadata": {},
   "outputs": [],
   "source": [
    "import besca as bc\n",
    "import numpy as np\n",
    "import pandas as pd\n",
    "import scanpy as sc\n",
    "import matplotlib.pyplot as plt\n",
    "from scipy import sparse, io\n",
    "import os\n",
    "import time\n",
    "import logging\n",
    "import seaborn as sns\n",
    "#import cosg as cosg ### gene makrers with cosg\n",
    "sc.logging.print_header()\n",
    "\n",
    "# for standard processing, set verbosity to minimum\n",
    "sc.settings.verbosity = 0  # verbosity: errors (0), warnings (1), info (2), hints (3)\n",
    "sc.settings.set_figure_params(dpi=80)\n",
    "version = '2.8'\n",
    "start0 = time.time()"
   ]
  },
  {
   "cell_type": "code",
   "execution_count": null,
   "metadata": {},
   "outputs": [],
   "source": [
    "#define standardized filepaths based on above input\n",
    "root_path = os.getcwd()\n",
    "bescapath_full = os.path.dirname(bc.__file__)\n",
    "bescapath = os.path.split(bescapath_full)[0]\n",
    "\n",
    "analysis_name = 'sw_besca_24_pub'\n",
    "species='mouse' ## or mouse for now\n",
    "conversion=None\n",
    "#analysis_name = 'standard_workflow_besca2_CLR' #use _CLR or _DSB for citeseq analysis\n",
    "annot_author = 'schwalip' ### replace with userid\n",
    "\n",
    "# Choose the clustering to base the annotation on.\n",
    "# leiden (RNA), citeseq (protein)\n",
    "clusters='leiden' \n",
    "\n",
    "# Which UMAP basis to use for visualization\n",
    "# umap or umap_citeseq\n",
    "umap_basis='umap'\n",
    "\n",
    "# Specify if Cite-seq data\n",
    "citeseq=True\n",
    "\n",
    "# Specify if signatures should be exported to gmtx\n",
    "export_sigs=True\n",
    "\n",
    "# Specify if you are connected to a mongoDB that you want to use to explore similarity with previous data\n",
    "mongodb_explore=False\n"
   ]
  },
  {
   "cell_type": "markdown",
   "metadata": {},
   "source": [
    "The chunk of code below is usefull if this is the initial installation of besca and that you are running this notebook as a test. It will download if needed the test datasets and export the labelling. \n",
    "This export is usually done at the end of the standard workflow. Exported files  are necessary for the annotations."
   ]
  },
  {
   "cell_type": "code",
   "execution_count": null,
   "metadata": {},
   "outputs": [],
   "source": [
    "use_example_dataset = False\n",
    "if use_example_dataset:\n",
    "    analysis_name='pbmc3k_processed'\n",
    "    results_folder = os.path.split(os.getcwd())[0] + '/besca/datasets/data/'\n",
    "    clusters='leiden'\n",
    "    umap_basis='umap'\n",
    "    citeseq = False\n",
    "    # This line will either download, or load the datasets\n",
    "    adata = bc.datasets.pbmc3k_processed()\n",
    "    # This line exports the annotation for the annotation.\n",
    "    adata = bc.st.additional_labeling(adata, labeling_to_use= clusters, labeling_name = clusters, \n",
    "                                      labeling_description = 'Exporting a postori the labels for annotation',\n",
    "                                      labeling_author = 'Testing', \n",
    "                                      results_folder= results_folder)\n",
    "else:\n",
    "    if clusters == 'leiden':\n",
    "        results_folder = os.path.join(root_path, 'analyzed')\n",
    "        if citeseq:\n",
    "            results_folder = os.path.join(results_folder, analysis_name, 'citeseq' , 'citeseq') \n",
    "            adata = sc.read_h5ad(os.path.join(results_folder + '_merged' ,analysis_name + '.h5ad') ) \n",
    "        else:\n",
    "            results_folder = os.path.join(results_folder, analysis_name)\n",
    "            adata = sc.read_h5ad(os.path.join(results_folder, analysis_name + '.h5ad') )\n",
    "    else:\n",
    "        results_folder = os.path.join(root_path, 'analyzed', analysis_name, 'citeseq', clusters)\n",
    "        adata = sc.read_h5ad(os.path.join(results_folder + '_merged' ,analysis_name + '.h5ad') )\n",
    "        clusters='leiden_citeseq'"
   ]
  },
  {
   "cell_type": "code",
   "execution_count": null,
   "metadata": {},
   "outputs": [],
   "source": [
    "### Create export file and folder names\n",
    "results_file = os.path.join(results_folder, analysis_name + '.annotated.h5ad')\n",
    "figdir=os.path.join(root_path, 'analyzed', analysis_name+'/figures/')\n",
    "sc.settings.figdir = figdir\n",
    "if not os.path.exists(figdir):\n",
    "    os.makedirs(figdir)"
   ]
  },
  {
   "cell_type": "code",
   "execution_count": null,
   "metadata": {},
   "outputs": [],
   "source": [
    "sc.pl.embedding(adata, color = [clusters], basis = umap_basis , legend_loc='on data')"
   ]
  },
  {
   "cell_type": "code",
   "execution_count": null,
   "metadata": {},
   "outputs": [],
   "source": [
    "sc.pl.embedding(adata, color = ['treatment_id'], basis = umap_basis )"
   ]
  },
  {
   "cell_type": "code",
   "execution_count": null,
   "metadata": {},
   "outputs": [],
   "source": [
    "if citeseq:\n",
    "    # Expression pattern of the antibodies\n",
    "    # Can be usefull to refine the annotations, if the clusters are RNA-based\n",
    "    ab_names = adata.var[adata.var.feature_type=='Antibody Capture']\n",
    "    sc.pl.embedding(adata, basis = umap_basis, color=ab_names.index.tolist(), color_map = 'viridis',vmin=-1.5)"
   ]
  },
  {
   "cell_type": "code",
   "execution_count": null,
   "metadata": {},
   "outputs": [],
   "source": [
    "oi=[x.split('_')[1] for x in list(ab_names['SYMBOL'])]\n",
    "sc.pl.umap( adata, color =  oi, color_map = 'viridis')"
   ]
  },
  {
   "cell_type": "code",
   "execution_count": null,
   "metadata": {},
   "outputs": [],
   "source": [
    "sc.pl.umap( adata, color = ['Xcl1','Cd200','S1pr1','S1pr5','Esm1'] , color_map = 'viridis')"
   ]
  },
  {
   "cell_type": "markdown",
   "metadata": {},
   "source": [
    "### Explore top marker genes per cluster "
   ]
  },
  {
   "cell_type": "code",
   "execution_count": null,
   "metadata": {},
   "outputs": [],
   "source": [
    "DEgenes=bc.tl.dge.get_de(adata,clusters,demethod='wilcoxon',topnr=5000, logfc=1,padj=0.05)\n"
   ]
  },
  {
   "cell_type": "code",
   "execution_count": null,
   "metadata": {},
   "outputs": [],
   "source": []
  },
  {
   "cell_type": "code",
   "execution_count": null,
   "metadata": {},
   "outputs": [],
   "source": [
    "### Select only top genes (in order of p-val) for 2 clusters and plot expression per cluster\n",
    "### Sort according to FC for more specific genes\n",
    "tops=list(DEgenes['6'].sort_values('Log2FC',ascending=False)['Name'][0:30])+list(DEgenes['1'].sort_values('Log2FC',ascending=False)['Name'][0:10])\n",
    "sc.pl.dotplot(adata, var_names=tops,groupby=clusters, dot_max=0.6)"
   ]
  },
  {
   "cell_type": "code",
   "execution_count": null,
   "metadata": {},
   "outputs": [],
   "source": [
    "Th17=['Cd163l1','Abi3bp','Il17a','Kcnc1','Rorc', 'Cryba4']"
   ]
  },
  {
   "cell_type": "code",
   "execution_count": null,
   "metadata": {},
   "outputs": [],
   "source": [
    "sc.pl.dotplot(adata, var_names=Th17,groupby=clusters, dot_max=0.6)"
   ]
  },
  {
   "cell_type": "markdown",
   "metadata": {},
   "source": [
    "Cluster 22 - Th17 cells"
   ]
  },
  {
   "cell_type": "code",
   "execution_count": null,
   "metadata": {},
   "outputs": [],
   "source": [
    "### Select only top genes (in order of p-val) for 2 clusters and plot expression per cluster\n",
    "### Sort according to FC for more specific genes\n",
    "tops=list(DEgenes['4'].sort_values('Log2FC',ascending=False)['Name'][0:30])+list(DEgenes['3'].sort_values('Log2FC',ascending=False)['Name'][0:10])\n",
    "sc.pl.dotplot(adata, var_names=tops,groupby=clusters, dot_max=0.6)"
   ]
  },
  {
   "cell_type": "markdown",
   "metadata": {},
   "source": [
    "### Explore distribution of various cell populations"
   ]
  },
  {
   "cell_type": "code",
   "execution_count": null,
   "metadata": {},
   "outputs": [],
   "source": [
    "# One can load besca-provided signatures using the function below\n",
    "signature_dict = bc.datasets.load_immune_signatures(refined=False)\n",
    "\n",
    "signature_dict"
   ]
  },
  {
   "cell_type": "markdown",
   "metadata": {},
   "source": [
    "Additionaly it is possible to read an compute scanpy score using this function below.\n",
    "\n",
    "If the gmt file is composed of combined signature (UP and DN), a common score will be computed: \n",
    "$$Total\\_SCORE= Score_{UP} - Score_{DN}$$"
   ]
  },
  {
   "cell_type": "code",
   "execution_count": null,
   "metadata": {},
   "outputs": [],
   "source": [
    "gmt_file= bescapath + '/besca/datasets/genesets/Immune.gmt'\n",
    "\n",
    "if species=='mouse':\n",
    "    # Genes converted to mouse homologs\n",
    "    mousehuman_file = bescapath + '/besca/datasets/homologs/MGItoHGNC.csv'\n",
    "    mousehuman=pd.read_csv(mousehuman_file,sep='\\t',header='infer', encoding=\"unicode_escape\")\n",
    "    mousehuman.index=mousehuman['MGI']\n",
    "    conversion=pd.Series(data=mousehuman['HGNC'], index=mousehuman.index)\n"
   ]
  },
  {
   "cell_type": "code",
   "execution_count": null,
   "metadata": {},
   "outputs": [],
   "source": [
    "\n",
    "bc.tl.sig.combined_signature_score(adata, gmt_file,\n",
    "                             UP_suffix='_UP', DN_suffix='_DN', method='scanpy',\n",
    "                             overwrite=False, verbose=False,\n",
    "                             use_raw=True, conversion=conversion)"
   ]
  },
  {
   "cell_type": "code",
   "execution_count": null,
   "metadata": {},
   "outputs": [],
   "source": [
    "scores = [x for x in adata.obs.columns if 'scanpy' in x]"
   ]
  },
  {
   "cell_type": "code",
   "execution_count": null,
   "metadata": {},
   "outputs": [],
   "source": [
    "sc.pl.embedding(adata, basis = umap_basis, color= scores)"
   ]
  },
  {
   "cell_type": "markdown",
   "metadata": {},
   "source": [
    "## Signatures for specific sub-populations"
   ]
  },
  {
   "cell_type": "code",
   "execution_count": null,
   "metadata": {},
   "outputs": [],
   "source": [
    "## Provided with besca; change this for own gmt file\n",
    "gmt_file_anno= bescapath + '/besca/datasets/genesets/CellNames_scseqCMs6_sigs.gmt'\n"
   ]
  },
  {
   "cell_type": "code",
   "execution_count": null,
   "metadata": {},
   "outputs": [],
   "source": [
    "### Plot all signatures containing \"scanpy\" in name\n",
    "scores = [x for x in adata.obs.columns if 'scanpy' in x]\n",
    "sc.pl.embedding(adata, basis = umap_basis, color= scores, color_map = 'viridis')"
   ]
  },
  {
   "cell_type": "code",
   "execution_count": null,
   "metadata": {},
   "outputs": [],
   "source": [
    "bc.tl.sig.combined_signature_score(adata, gmt_file_anno,\n",
    "                             UP_suffix='_UP', DN_suffix='_DN', method='scanpy',\n",
    "                             overwrite=False, verbose=False,\n",
    "                             use_raw=True, conversion=conversion)\n",
    "\n",
    "scores = [x for x in adata.obs.columns if 'scanpy' in x]"
   ]
  },
  {
   "cell_type": "code",
   "execution_count": null,
   "metadata": {},
   "outputs": [],
   "source": [
    "### Plot all signatures containing \"scanpy\" in name\n",
    "scores = [x for x in adata.obs.columns if 'scanpy' in x]\n",
    "sc.pl.embedding(adata, basis = umap_basis, color= scores, color_map = 'viridis')"
   ]
  },
  {
   "cell_type": "code",
   "execution_count": null,
   "metadata": {},
   "outputs": [],
   "source": [
    "### Plot only selected signatures\n",
    "sc.pl.embedding(adata, basis = umap_basis, color= ['score_Myeloid_scanpy','score_Bcell_scanpy','score_Tcell_scanpy','score_NKcell_scanpy'], color_map = 'viridis')"
   ]
  },
  {
   "cell_type": "code",
   "execution_count": null,
   "metadata": {},
   "outputs": [],
   "source": [
    "ab_names"
   ]
  },
  {
   "cell_type": "code",
   "execution_count": null,
   "metadata": {},
   "outputs": [],
   "source": [
    "# Signatures from https://www.pnas.org/content/116/28/14113\n",
    "jadhav_mem=['Sell','Il7r','Bcl2','Klrg1','Il2rb']\n",
    "jadhav_eff=['Ifng','Tnf','Il2','Il21','Il6','Gzma','Gzmb','Prf1','Fasl','Tnsf10']\n",
    "jadhav_stem=['Nsg2','P2rx7','Lrig1','Tcf7','Aff3','Crtam','Kbtbd11','Nt5e','Cxcr5','Cxcl10','Cd83','Ccr7','Traf1']\n",
    "jadhav_exh=['Chn2','Lilr4b','Pim1','Slamf1','Prdm1','Gzmb','Fasl','Tmcc3','1700017B05Rik', 'Il10','Lgals3','Ccl3','Ccl4','Cd48']"
   ]
  },
  {
   "cell_type": "code",
   "execution_count": null,
   "metadata": {},
   "outputs": [],
   "source": [
    "# Selected (publication) and all Gzm genes \n",
    "gzmessel=['Gzma','Gzmb','Gzmc','Gzmf']\n",
    "gzmesall=['Gzma','Gzmb','Gzmc','Gzme','Gzmd','Gzmf','Gzmk']"
   ]
  },
  {
   "cell_type": "code",
   "execution_count": null,
   "metadata": {},
   "outputs": [],
   "source": [
    "sc.tl.score_genes(adata,gene_list=jadhav_mem,score_name='Memory_j')\n",
    "sc.tl.score_genes(adata,gene_list=jadhav_eff,score_name='Effector_j')\n",
    "sc.tl.score_genes(adata,gene_list=jadhav_stem,score_name='Resource_j')\n",
    "sc.tl.score_genes(adata,gene_list=jadhav_exh,score_name='Exhausted_j')\n",
    "sc.tl.score_genes(adata,gene_list=gzmessel,score_name='Gzms')"
   ]
  },
  {
   "cell_type": "code",
   "execution_count": null,
   "metadata": {},
   "outputs": [],
   "source": [
    "sc.pl.umap(adata, color=gzmesall, color_map='viridis')"
   ]
  },
  {
   "cell_type": "code",
   "execution_count": null,
   "metadata": {},
   "outputs": [],
   "source": [
    "sc.pl.umap(adata, color='Gzms', color_map='viridis', vmax=3.5)"
   ]
  },
  {
   "cell_type": "code",
   "execution_count": null,
   "metadata": {},
   "outputs": [],
   "source": [
    "# Yost et al. exhaustion and acttivation signatures\n",
    "yost_exh=['Krt86','Layn','Entpd1','Acp5','Galnt2','Tigit','Havcr2','Gzmb','Ahi1','Atp8b4','Itgae',\n",
    "          'Vcam1','Golim4','Mtss1','Jaml','Sox4','Pde7b','Cxcr6','Csf1','Tnfrsf18','Asb2','Gem','Sla2',\n",
    "          'Myo7a','Sqle']\n",
    "yost_act=['Nfkbia','Junb','Jun','Tnf','Ier2','Ifng','Slc2a3','Cd69','Fos','Nr4a2','Ubc','Gadd45b','Nr4a1',\n",
    "         'Tsc22d3','Hspa1b','Dusp1','Zfp36l1','Ppp1r15a','Actb','Bhlhe40','Fosb','Pim1',\n",
    "         'Clic1','Hspa1a','Cdkn1a','Nfkbiz','Zc3h12a','Tmsb10','Csrnp1']"
   ]
  },
  {
   "cell_type": "code",
   "execution_count": null,
   "metadata": {},
   "outputs": [],
   "source": [
    "# Signature from https://www.nature.com/articles/nature19330\n",
    "resource={}\n",
    "resource['UP']=['Tcf7','CXCR5_Cxcr5','PD1_Pdcd1','Pdcd1','SLAMF6_Slamf6','Slamf6','Cxcr3','CXCR3_Cxcr3','Cd28','Bcl6','Plagl1']\n",
    "resource['DN']=['TIM3_Havcr2','Havcr2','Cd244a','Entpd1','CD39_Entpd1']\n",
    "resourceext={}\n",
    "resourceext['UP']=['Tcf7','CXCR5_Cxcr5','PD1_Pdcd1','Pdcd1','SLAMF6_Slamf6','SLAMF6_Slamf6','Slamf6','Cxcr3','CXCR3_Cxcr3','Icos','Tnfsf14','Tnfrsf4','Il2','Tnf','Lag3','LAG3_Lag3', 'Ctla4','Bcl6','Plagl1']\n",
    "resourceext['DN']=['TIM3_Havcr2','Havcr2','Cd244a','Entpd1','CD39_Entpd1','Prdm1','Id2','Il2rb','Klrg1','Ccl3','Ccl4','Ccl5','Csf1']\n",
    "\n",
    "sigs={}\n",
    "sigs['resourceCD8Tcell']=resource\n",
    "sigs['resourceCD8Tcellext']=resourceext"
   ]
  },
  {
   "cell_type": "code",
   "execution_count": null,
   "metadata": {},
   "outputs": [],
   "source": [
    "bc.tl.sig.combined_signature_score(adata, signature_dict=sigs)\n",
    "sc.tl.score_genes(adata,gene_list=sigs['resourceCD8Tcell']['UP'],score_name='resourceCD8Tcell_UP')\n",
    "sc.tl.score_genes(adata,gene_list=sigs['resourceCD8Tcell']['DN'],score_name='resourceCD8Tcell_DOWN')"
   ]
  },
  {
   "cell_type": "code",
   "execution_count": null,
   "metadata": {},
   "outputs": [],
   "source": [
    "sc.pl.matrixplot(adata, var_names=list(set(sigs['resourceCD8Tcellext']['UP']).union(set(sigs['resourceCD8Tcellext']['DN']))), \n",
    "                 groupby='leiden',standard_scale='var',dendrogram=True, save='Heatmap-resource-leiden.pdf')"
   ]
  },
  {
   "cell_type": "code",
   "execution_count": null,
   "metadata": {},
   "outputs": [],
   "source": [
    "sc.pl.matrixplot(adata, var_names=yost_exh, groupby='leiden',standard_scale='var',dendrogram=True, save='Heatmap-yost_exh-leiden.pdf')"
   ]
  },
  {
   "cell_type": "code",
   "execution_count": null,
   "metadata": {},
   "outputs": [],
   "source": [
    "sc.pl.matrixplot(adata, var_names=yost_act, groupby='leiden',standard_scale='var',dendrogram=True, save='Heatmap-yost_act-leiden.pdf')"
   ]
  },
  {
   "cell_type": "code",
   "execution_count": null,
   "metadata": {},
   "outputs": [],
   "source": [
    "sc.tl.score_genes(adata,gene_list=yost_act,score_name='Activation_Yost')\n",
    "sc.tl.score_genes(adata,gene_list=yost_exh,score_name='Exhaustion_Yost')\n",
    "Th17=['Cd163l1','Abi3bp','Il17a','Kcnc1','Rorc', 'Cryba4']\n",
    "sc.tl.score_genes(adata,gene_list=Th17,score_name='score_Th17_scanpy')\n",
    "#https://www.cell.com/cell/pdfExtended/S0092-8674(15)01696-7\n",
    "Ifna=['Ifit3','Slfn5','Ifit1','Rsad2','Oas3','Cxcl10','Ifi204','Irf7','Oas2','Rfp4','Stat1','Usp18','Socs1','Gbp4','Ifn7']\n",
    "sc.tl.score_genes(adata,gene_list=Ifna,score_name='score_Ifna_scanpy')"
   ]
  },
  {
   "cell_type": "code",
   "execution_count": null,
   "metadata": {},
   "outputs": [],
   "source": [
    "sc.settings.set_figure_params()\n",
    "sc.pl.umap(adata, color=['Activation_Yost','Exhaustion_Yost', \n",
    "                         'score_ExhCD8Tcell_scanpy', 'score_resourceCD8Tcell_scanpy', \n",
    "                         'score_resourceCD8Tcellext_scanpy',\n",
    "                        'resourceCD8Tcell_UP','resourceCD8Tcell_DOWN',\n",
    "                         'score_NaiCD8Tcell_scanpy','score_Ifna_scanpy'], ncols=3,color_map='viridis')"
   ]
  },
  {
   "cell_type": "code",
   "execution_count": null,
   "metadata": {},
   "outputs": [],
   "source": [
    "subtab=adata.obs.loc[:,['Activation_Yost','Exhaustion_Yost', 'score_ExhCD8Tcell_scanpy','sample_id','treatment_id']].copy()\n",
    "subtabl=adata.obs.loc[:,['Activation_Yost','Exhaustion_Yost', 'score_ExhCD8Tcell_scanpy','score_resourceCD8Tcell_scanpy',\n",
    "                         'score_resourceCD8Tcellext_scanpy','resourceCD8Tcell_UP','resourceCD8Tcell_DOWN',\n",
    "                         'score_NaiCD8Tcell_scanpy','score_Ifna_scanpy','score_Th17_scanpy','score_RegTcell_scanpy',\n",
    "                         'score_ProlifCD8Tcell_scanpy','score_Myeloid_scanpy','sample_id','leiden']].copy()"
   ]
  },
  {
   "cell_type": "code",
   "execution_count": null,
   "metadata": {},
   "outputs": [],
   "source": [
    "#adata.obs.loc[:,['leiden','celltype']]"
   ]
  },
  {
   "cell_type": "code",
   "execution_count": null,
   "metadata": {},
   "outputs": [],
   "source": [
    "subtabMeans=subtab.groupby('sample_id').mean()\n",
    "subtabMeans['Treat']=[x.split(\"_tum\")[0] for x in list(subtabMeans.index)]"
   ]
  },
  {
   "cell_type": "code",
   "execution_count": null,
   "metadata": {},
   "outputs": [],
   "source": [
    "subtabMeansl=subtabl.groupby(['sample_id', 'leiden']).mean()\n",
    "subtabMeansl['Treat']=[x[0].split(\"_tum\")[0] for x in list(subtabMeansl.index)]\n",
    "subtabMeansl['cluster']=[x[1] for x in list(subtabMeansl.index)]"
   ]
  },
  {
   "cell_type": "code",
   "execution_count": null,
   "metadata": {},
   "outputs": [],
   "source": [
    "figdir"
   ]
  },
  {
   "cell_type": "code",
   "execution_count": null,
   "metadata": {},
   "outputs": [],
   "source": [
    "\n",
    "fig=sns.clustermap(subtabMeansl.groupby('cluster').mean(), standard_scale=1, col_cluster=False,figsize=(6,10))\n",
    "fig.savefig(figdir+\"Heatmap-signatures-resourceFocus.png\")"
   ]
  },
  {
   "cell_type": "code",
   "execution_count": null,
   "metadata": {},
   "outputs": [],
   "source": [
    "sns.boxplot(x=\"Activation_Yost\",y=\"Treat\",data=subtabMeans)\n",
    "sns.swarmplot(x=\"Activation_Yost\",y=\"Treat\",data=subtabMeans, color='black')"
   ]
  },
  {
   "cell_type": "code",
   "execution_count": null,
   "metadata": {},
   "outputs": [],
   "source": [
    "sorted_index_desc = subtabMeansl.groupby('cluster').mean()['Activation_Yost'].sort_values(ascending=False).index\n",
    "\n",
    "sns.set(rc={'figure.figsize':(11.7,8.27)})\n",
    "sns.set_style('ticks')\n",
    "sns.boxplot(x=\"Activation_Yost\",y=\"cluster\",data=subtabMeansl, order=sorted_index_desc, color='lightgray')\n",
    "sns.swarmplot(x=\"Activation_Yost\",y=\"cluster\",hue='Treat',data=subtabMeansl, order=sorted_index_desc)"
   ]
  },
  {
   "cell_type": "code",
   "execution_count": null,
   "metadata": {},
   "outputs": [],
   "source": [
    "sns.boxplot(x=\"Exhaustion_Yost\",y=\"Treat\",data=subtabMeans)\n",
    "sns.swarmplot(x=\"Exhaustion_Yost\",y=\"Treat\",data=subtabMeans, color='black')"
   ]
  },
  {
   "cell_type": "code",
   "execution_count": null,
   "metadata": {},
   "outputs": [],
   "source": [
    "sns.set(rc={'figure.figsize':(11.7,8.27)})\n",
    "sns.set_style('ticks')\n",
    "sns.boxplot(x=\"Exhaustion_Yost\",y=\"cluster\",data=subtabMeansl, order=sorted_index_desc, color='lightgray')\n",
    "sns.swarmplot(x=\"Exhaustion_Yost\",y=\"cluster\",hue='Treat',data=subtabMeansl, order=sorted_index_desc)"
   ]
  },
  {
   "cell_type": "code",
   "execution_count": null,
   "metadata": {},
   "outputs": [],
   "source": [
    "sorted_index_desc = subtabMeansl.groupby('cluster').mean()['Exhaustion_Yost'].sort_values(ascending=False).index\n",
    "\n",
    "sns.set(rc={'figure.figsize':(11.7,8.27)})\n",
    "sns.set_style('ticks')\n",
    "sns.boxplot(x=\"Exhaustion_Yost\",y=\"cluster\",data=subtabMeansl, order=sorted_index_desc, color='lightgray')\n",
    "sns.swarmplot(x=\"Exhaustion_Yost\",y=\"cluster\",hue='Treat',data=subtabMeansl, order=sorted_index_desc)"
   ]
  },
  {
   "cell_type": "code",
   "execution_count": null,
   "metadata": {},
   "outputs": [],
   "source": [
    "sns.boxplot(x=\"score_ExhCD8Tcell_scanpy\",y=\"Treat\",data=subtabMeans)\n",
    "sns.swarmplot(x=\"score_ExhCD8Tcell_scanpy\",y=\"Treat\",data=subtabMeans, color='black')"
   ]
  },
  {
   "cell_type": "code",
   "execution_count": null,
   "metadata": {},
   "outputs": [],
   "source": [
    "sns.set(rc={'figure.figsize':(11.7,8.27)})\n",
    "sns.set_style('ticks')\n",
    "sns.boxplot(x=\"score_ExhCD8Tcell_scanpy\",y=\"cluster\",data=subtabMeansl, order=sorted_index_desc, color='lightgray')\n",
    "sns.swarmplot(x=\"score_ExhCD8Tcell_scanpy\",y=\"cluster\",hue='Treat',data=subtabMeansl, order=sorted_index_desc)"
   ]
  },
  {
   "cell_type": "code",
   "execution_count": null,
   "metadata": {},
   "outputs": [],
   "source": [
    "sorted_index_desc = subtabMeansl.groupby('cluster').mean()['score_ExhCD8Tcell_scanpy'].sort_values(ascending=False).index\n",
    "\n",
    "sns.set(rc={'figure.figsize':(11.7,8.27)})\n",
    "sns.set_style('ticks')\n",
    "sns.boxplot(x=\"score_ExhCD8Tcell_scanpy\",y=\"cluster\",data=subtabMeansl, order=sorted_index_desc, color='lightgray')\n",
    "sns.swarmplot(x=\"score_ExhCD8Tcell_scanpy\",y=\"cluster\",hue='Treat',data=subtabMeansl, order=sorted_index_desc)"
   ]
  },
  {
   "cell_type": "markdown",
   "metadata": {},
   "source": [
    "#### Broad overview of gene of interest expression "
   ]
  },
  {
   "cell_type": "code",
   "execution_count": null,
   "metadata": {},
   "outputs": [],
   "source": [
    "goi=['Ptprc','Trac','Cd3d','Cd8a','Cd44','CD44_Cd44','Cd4','Foxp3','Lrrc32','Il2ra','CD25_Il2ra',\n",
    "     'Il7r','IL7RA_Il7r','Cd28','CD28_Cd28',\n",
    "         'Slamf6','SLAMF6_Slamf6','Sell','CD62L_Sell',\n",
    "                            'Tcf7','Cxcr5','CXCR5_Cxcr5','Cxcr3','CXCR3_Cxcr3','S1pr1','S1pr5','Esm1','Klrg1','Il18r1',\n",
    "     'Pdcd1','PD1_Pdcd1','Havcr2','TIM3_Havcr2','Tnfrsf9','41BB_Tnfrsf9','Lag3','LAG3_Lag3',\n",
    "      'Tigit','TIGIT_Tigit',\n",
    "     'Entpd1','CD39_Entpd1','Tox','Tox2','Greb1','Gzmk',\n",
    "     'Il10','Gzmb','Klrc2','Lncpint','Ifitm1','Ifitm2','Iigp1','Oas3','Klrc3','Ccl1','Ccl3','Crtam','Cd83','Gzme','Gzmd','Gzmf',\n",
    "     'Ifit1','Isg15','Cxcl10','Xaf1',\n",
    "     'Il21r','IL21R_Il21r','Xcl1','Igfbp7','Slc15a1','Bace2','Ltf','Mrc2','Bmp7','Fcrl6',\n",
    "     'Mki67','Stmn1','Rorc',\n",
    "     'Cd163l1','Il17a','Csf1r','Msr1','Apoe','Hspa1a','Dnajb1','Hspb1','Bag3']\n",
    "sc.pl.matrixplot(adata, var_names=goi, groupby='leiden',standard_scale='var',dendrogram=True, save='Heatmap-goi-leiden.pdf')"
   ]
  },
  {
   "cell_type": "markdown",
   "metadata": {
    "toc-hr-collapsed": true,
    "toc-nb-collapsed": true
   },
   "source": [
    "# Automated annotation\n",
    "\n",
    "A decision-tree-based annotation that reads signatures from a provided .gmt file and hierarchy as well as cutoffs and signature ordering from a configuration file and attributes each cell to a specific type according to signature enrichment. \n",
    "\n",
    "This is an aid to start ther annotation and annotation can then be further refined by adding further signatures or adjusting the configuration files. It was tested mainly on PBMCs and oncology (tumor biopsies) related samples.\n"
   ]
  },
  {
   "cell_type": "markdown",
   "metadata": {},
   "source": [
    "## Loading markers and signature"
   ]
  },
  {
   "cell_type": "code",
   "execution_count": null,
   "metadata": {},
   "outputs": [],
   "source": [
    "from itertools import repeat\n",
    "mymarkers = bc.tl.sig.read_GMT_sign(gmt_file_anno,directed=False)\n",
    "if species=='mouse':\n",
    "    for signature in mymarkers.keys():\n",
    "        mymarkers[signature] = [i for i in map(bc.tl.sig._helper._to_geneid, repeat(conversion), mymarkers[signature]) if i is not None]\n"
   ]
  },
  {
   "cell_type": "code",
   "execution_count": null,
   "metadata": {},
   "outputs": [],
   "source": [
    "mymarkers = bc.tl.sig.filter_siggenes(adata, mymarkers) ### remove genes not present in dataset or empty signatures"
   ]
  },
  {
   "cell_type": "code",
   "execution_count": null,
   "metadata": {},
   "outputs": [],
   "source": [
    "sc.pl.embedding(adata, basis = umap_basis, color= mymarkers['Hematopoietic'])"
   ]
  },
  {
   "cell_type": "code",
   "execution_count": null,
   "metadata": {},
   "outputs": [],
   "source": [
    "sc.pl.embedding(adata, basis = umap_basis, color= mymarkers['CommonLymphoidPC'])"
   ]
  },
  {
   "cell_type": "code",
   "execution_count": null,
   "metadata": {},
   "outputs": [],
   "source": [
    "sc.pl.embedding(adata, basis = umap_basis, color= mymarkers['NKcell'])"
   ]
  },
  {
   "cell_type": "markdown",
   "metadata": {},
   "source": [
    "### Select Ubiquitously expressed genes for cutoff adjustment to invidual datasets"
   ]
  },
  {
   "cell_type": "code",
   "execution_count": null,
   "metadata": {},
   "outputs": [],
   "source": [
    "## Cutoff in the configuration file will be calculated relative to the enrichment of this ubiquitous signature\n",
    "## For best performance, choose genes that are uniformly distributed across all clusters on a given dataset \n",
    "## Ideally, expression is moderate rather than high\n",
    "#mymarkers['Ubi'] = [ 'ZNF207', 'HNRNPU','SNRPD3', 'SRRM1'] # alternatives: ['B2M','ACTB', 'HNRNPK'] \n",
    "mymarkers['Ubi'] = ['B2m','Actb', 'Hnrnpk','Hnrnpu'] ### used for cutoff adjustment to individual dataset, can be modified"
   ]
  },
  {
   "cell_type": "code",
   "execution_count": null,
   "metadata": {},
   "outputs": [],
   "source": [
    "### Inspect gene expression for ubi genes, checking for uniform distribution across clusters\n",
    "sc.pl.embedding(adata, basis = umap_basis, color= mymarkers['Ubi'])"
   ]
  },
  {
   "cell_type": "code",
   "execution_count": null,
   "metadata": {},
   "outputs": [],
   "source": [
    "sc.pl.dotplot(adata, var_names= mymarkers['Ubi'], groupby=clusters)"
   ]
  },
  {
   "cell_type": "code",
   "execution_count": null,
   "metadata": {},
   "outputs": [],
   "source": [
    "### Inspect gene expression for an example signature\n",
    "sc.pl.embedding(adata, basis = umap_basis, color= mymarkers['NClassMonocyte'])"
   ]
  },
  {
   "cell_type": "markdown",
   "metadata": {},
   "source": [
    "## Configuration of the annotation\n",
    "\n",
    "We read the configuration file, containing hierarchy, cutoff and signature priority information. \n",
    "A new version of this file should be created and maintained with each annotation. \n",
    "The included example is optimised for the annotation of the 6.6k PBMC dataset. "
   ]
  },
  {
   "cell_type": "code",
   "execution_count": null,
   "metadata": {},
   "outputs": [],
   "source": [
    "configfile=bescapath + '/besca/datasets/genesets/CellNames_scseqCMs6_config.tsv' ### replace this with your config\n",
    "if species=='mouse':\n",
    "    configfile=bescapath + '/besca/datasets/genesets/CellNames_scseqCMs6_config.mouse.tsv' ### replace this with your config"
   ]
  },
  {
   "cell_type": "code",
   "execution_count": null,
   "metadata": {},
   "outputs": [],
   "source": [
    "sigconfig,levsk=bc.tl.sig.read_annotconfig(configfile)"
   ]
  },
  {
   "cell_type": "code",
   "execution_count": null,
   "metadata": {},
   "outputs": [],
   "source": [
    "# Optional configuatation: The order of cells at different levels can be manually changed if needed\n",
    "#levsk[0]=['ColorectalCancer', 'Epithelial','Fibroblast','Endothelial','Erythrocyte','HematoStem',\n",
    "#          'Hepatocyte','MelMelanoma','Neural','Adipocyte','Hematopoietic','Schwann','Chondrocyte','Glial']"
   ]
  },
  {
   "cell_type": "markdown",
   "metadata": {},
   "source": [
    "#### Get an overview of the cell type hierarchy included in the configuration file"
   ]
  },
  {
   "cell_type": "code",
   "execution_count": null,
   "metadata": {},
   "outputs": [],
   "source": [
    "plt=bc.pl.nomenclature_network(configfile, font_size=8)\n",
    "plt.savefig(figdir+\"Nomenclatureplot.svg\", format=\"svg\")"
   ]
  },
  {
   "cell_type": "markdown",
   "metadata": {},
   "source": [
    "Fract_pos was exported by BESCA in the standard worflow test, \n",
    "contains information of fraction positive cells per genes per cluster.\n",
    "\n",
    "We use these values as a basis for a wilcoxon test per signature per cluster. "
   ]
  },
  {
   "cell_type": "code",
   "execution_count": null,
   "metadata": {},
   "outputs": [],
   "source": [
    "## Optional: For an alternative clustering to be used as annotation, one needs to export the corresponding fract_pos\n",
    "\n",
    "#adata = bc.st.clustering(adata, results_folder, myres=2, method = clusters) ## higher clustering resolution\n",
    "#bc.export.clustering(adata, outpath = os.path.join(results_folder, 'labelings', clusters+'_r2'), method = clusters)\n",
    "#bc.export.labeling_info(outpath=os.path.join(results_folder, 'labelings', clusters+'_r2'), description=clusters+' clustering with r=2', method='leiden')"
   ]
  },
  {
   "cell_type": "code",
   "execution_count": null,
   "metadata": {},
   "outputs": [],
   "source": [
    "f=pd.read_csv(results_folder + '/labelings/' + clusters + '/fract_pos.gct' ,sep=\"\\t\",skiprows=2)\n",
    "df=bc.tl.sig.score_mw(f,mymarkers)\n",
    "\n",
    "### Set a cutoff based on Ubi and scale with values from config file\n",
    "### Change the factor 0.5 to systematically be more stringent (higher e.g. 1) or leniant (lower e.g. 0.25)\n",
    "myc=np.median(df.loc['Ubi',:]*0.25) ### Set a cutoff based on Ubi and scale with values from config file\n"
   ]
  },
  {
   "cell_type": "code",
   "execution_count": null,
   "metadata": {},
   "outputs": [],
   "source": [
    "### Check the cutoff \n",
    "myc"
   ]
  },
  {
   "cell_type": "code",
   "execution_count": null,
   "metadata": {},
   "outputs": [],
   "source": [
    "### Check the ubiquitous signature score (should be as uniform as possible across clusters)\n",
    "df.loc[\"Ubi\",:]"
   ]
  },
  {
   "cell_type": "code",
   "execution_count": null,
   "metadata": {},
   "outputs": [],
   "source": [
    "df.iloc[0:3,0:7]"
   ]
  },
  {
   "cell_type": "markdown",
   "metadata": {},
   "source": [
    "#### For an overview of highest scoring signatures, one can generate a heatmap"
   ]
  },
  {
   "cell_type": "code",
   "execution_count": null,
   "metadata": {},
   "outputs": [],
   "source": [
    "sns.clustermap(df.loc[df.max(axis=1)>myc*2,:].astype(float),figsize=(12, 8))\n",
    "plt.savefig(figdir+\"SignatureHeatmap_all.svg\", format=\"svg\")"
   ]
  },
  {
   "cell_type": "markdown",
   "metadata": {},
   "source": [
    "For each signature, positive and negative clusters are determined. Only positive clusters are maintained. Cutoffs can be individualised based on the config file (scaling factor) and myc, which is determined based on ubiquitously expressed genes. "
   ]
  },
  {
   "cell_type": "code",
   "execution_count": null,
   "metadata": {},
   "outputs": [],
   "source": [
    "### Remove ubiquitous signature for the scoring part\n",
    "df=df.drop('Ubi')"
   ]
  },
  {
   "cell_type": "code",
   "execution_count": null,
   "metadata": {},
   "outputs": [],
   "source": [
    "# Optional: Cutoffs can also be manually adjusted if needed \n",
    "# Always adjust from lowest to highest level and remember to check priorities as well (order)\n",
    "# sigconfig.loc['Epithelial','Cutoff']=1.5 ### Increase for being more stringent, decrease for more leniant\n",
    "# Cutoffs can also be manually adjusted if needed \n",
    "sigconfig.loc['CD8Tcell','Cutoff']=2\n",
    "sigconfig.loc['EMCD8Tcell','Cutoff']=4.7\n",
    "sigconfig.loc['NaiCD8Tcell','Cutoff']=2.5\n",
    "sigconfig.loc['CytotoxCD8Tcell','Cutoff']=2.75\n",
    "sigconfig.loc['Hematopoietic','Cutoff']=4"
   ]
  },
  {
   "cell_type": "markdown",
   "metadata": {},
   "source": [
    "#### Cluster attribution based on cutoff (all clusters above cutoff will be attributed to a cell type)"
   ]
  },
  {
   "cell_type": "code",
   "execution_count": null,
   "metadata": {},
   "outputs": [],
   "source": [
    "sigscores={}\n",
    "for mysig in list(df.index):\n",
    "    sigscores[mysig]=bc.tl.sig.getset(df,mysig,sigconfig.loc[mysig,'Cutoff']*myc)\n",
    "    #sigscores[mysig]=bc.tl.sig.getset(df,mysig,10)"
   ]
  },
  {
   "cell_type": "markdown",
   "metadata": {},
   "source": [
    "One can inspect the cluster attribution per cell type in the signature list and adjust cutoffs as required. "
   ]
  },
  {
   "cell_type": "code",
   "execution_count": null,
   "metadata": {},
   "outputs": [],
   "source": [
    "sigscores"
   ]
  },
  {
   "cell_type": "code",
   "execution_count": null,
   "metadata": {},
   "outputs": [],
   "source": [
    "### Check to a specific cell type \n",
    "sigscores['Bcell']"
   ]
  },
  {
   "cell_type": "markdown",
   "metadata": {},
   "source": [
    "Now each cluster gets annotated, according to the distinct levels specified in the config file. \n",
    "Note that in case a cluster is positive for multiple identities, only the first one is taken, \n",
    "in the order specified in the \"Order\" column in the config file. "
   ]
  },
  {
   "cell_type": "markdown",
   "metadata": {},
   "source": [
    "To check the given order, per levels, you can inspect levsk, and adjust above as needed"
   ]
  },
  {
   "cell_type": "code",
   "execution_count": null,
   "metadata": {},
   "outputs": [],
   "source": [
    "#levsk"
   ]
  },
  {
   "cell_type": "markdown",
   "metadata": {},
   "source": [
    "#### Cell types that are not expected in the dataset or that are too fine-grained be explicity excluded from the annotation"
   ]
  },
  {
   "cell_type": "code",
   "execution_count": null,
   "metadata": {},
   "outputs": [],
   "source": [
    "### For instance, if no erythrocytes or pancreatic cells are expected, they can be specified here\n",
    "### For instance, if plasma cells should not be subclassified, they can can be specified here\n",
    "toexclude=['Erythrocyte','AlphaPancreatic', 'BetaPancreatic', 'DeltaPancreatic',\n",
    "           'IgGPlasma','IgAPlasma','IgMPlasma','Chondrocyte']\n"
   ]
  },
  {
   "cell_type": "markdown",
   "metadata": {},
   "source": [
    "### Obtain cluster assignment"
   ]
  },
  {
   "cell_type": "code",
   "execution_count": null,
   "metadata": {},
   "outputs": [],
   "source": [
    "cnames=bc.tl.sig.make_anno(df,sigscores,sigconfig,levsk, toexclude=toexclude)"
   ]
  },
  {
   "cell_type": "markdown",
   "metadata": {},
   "source": [
    "We now obtained per each cluster cell type attribution at distinct levels. "
   ]
  },
  {
   "cell_type": "code",
   "execution_count": null,
   "metadata": {},
   "outputs": [],
   "source": [
    "cnames"
   ]
  },
  {
   "cell_type": "markdown",
   "metadata": {},
   "source": [
    "Export the used annotation parameters, for future reference"
   ]
  },
  {
   "cell_type": "code",
   "execution_count": null,
   "metadata": {},
   "outputs": [],
   "source": [
    "bc.tl.sig.export_annotconfig(sigconfig, levsk, results_folder, analysis_name)"
   ]
  },
  {
   "cell_type": "markdown",
   "metadata": {},
   "source": [
    "## Using dblabel convention\n",
    "\n",
    "Only short names were used in the signature naming convention in this case. \n",
    "One can easity tranform this to EFO terms if preferred, a conversion table comes with besca. \n",
    "\n",
    "This nomenclature is quite extended, and the function \n",
    "**obtain_dblabel** can perform the conversion."
   ]
  },
  {
   "cell_type": "code",
   "execution_count": null,
   "metadata": {},
   "outputs": [],
   "source": [
    "### Transform these short forms to dblabel - EFO standard nomenclature\n",
    "cnamesDBlabel = bc.tl.sig.obtain_dblabel(bescapath+'/besca/datasets/nomenclature/CellTypes_v1.tsv', cnames )\n",
    "cnamesDBlabel"
   ]
  },
  {
   "cell_type": "markdown",
   "metadata": {},
   "source": [
    "Finally, one can add the new labels to adata.obs as annotation. "
   ]
  },
  {
   "cell_type": "code",
   "execution_count": null,
   "metadata": {},
   "outputs": [],
   "source": [
    "adata.obs['celltype0']=bc.tl.sig.add_anno(adata,cnamesDBlabel,'celltype0',clusters)\n",
    "adata.obs['celltype1']=bc.tl.sig.add_anno(adata,cnamesDBlabel,'celltype1',clusters)\n",
    "adata.obs['celltype2']=bc.tl.sig.add_anno(adata,cnamesDBlabel,'celltype2',clusters)\n",
    "adata.obs['celltype3']=bc.tl.sig.add_anno(adata,cnamesDBlabel,'celltype3',clusters)"
   ]
  },
  {
   "cell_type": "markdown",
   "metadata": {},
   "source": [
    "Inspect the labels on the umap from lowest to highest resolution"
   ]
  },
  {
   "cell_type": "code",
   "execution_count": null,
   "metadata": {},
   "outputs": [],
   "source": [
    "sc.pl.embedding(adata,color=['celltype1'], basis = umap_basis) "
   ]
  },
  {
   "cell_type": "code",
   "execution_count": null,
   "metadata": {},
   "outputs": [],
   "source": [
    "sc.pl.embedding(adata,color=['celltype2'], basis = umap_basis) "
   ]
  },
  {
   "cell_type": "code",
   "execution_count": null,
   "metadata": {},
   "outputs": [],
   "source": [
    "sc.pl.embedding(adata,color=['celltype3'], basis = umap_basis) "
   ]
  },
  {
   "cell_type": "code",
   "execution_count": null,
   "metadata": {},
   "outputs": [],
   "source": [
    "sc.pl.embedding(adata,color=['leiden'], basis = umap_basis,legend_loc='on data') "
   ]
  },
  {
   "cell_type": "markdown",
   "metadata": {},
   "source": [
    "### Helper functions for additional checks"
   ]
  },
  {
   "cell_type": "code",
   "execution_count": null,
   "metadata": {},
   "outputs": [],
   "source": [
    "### Which classification has cluster 7? \n",
    "bc.tl.sig.match_cluster(adata,'leiden','7','celltype3',0.3)"
   ]
  },
  {
   "cell_type": "code",
   "execution_count": null,
   "metadata": {},
   "outputs": [],
   "source": [
    "### What cluster corresponds to CD1c-positive myeloid dendritic cell? \n",
    "bc.tl.sig.match_cluster(adata,'celltype3','CD1c-positive myeloid dendritic cell','leiden',0.3) ## lowered cutoff"
   ]
  },
  {
   "cell_type": "markdown",
   "metadata": {},
   "source": [
    "## Manual refinement"
   ]
  },
  {
   "cell_type": "markdown",
   "metadata": {},
   "source": [
    "Manual refinement and attribution of resource, fresh effector, better effector and exhausted \n",
    "* resource: TCF1+ (Tcf7) PD1+\n",
    "* fresh effector: TCF1- PD1+ IL18R+ TIM3- (KI67+ GZMB+)\n",
    "* better effector: TCF1- PD1+ IL18R++ TIM3+ (KI67+ GZMB+)\n",
    "* exhausted: TCF1- PD1++ IL18R- TIM3++ CD39+ (KI67+ GZMB+)"
   ]
  },
  {
   "cell_type": "code",
   "execution_count": null,
   "metadata": {},
   "outputs": [],
   "source": [
    "### Example 2: manual attribution to specific cluster\n",
    "adata.obs['celltype1']=adata.obs['celltype1'].cat.add_categories('T-helper 17 cell')\n",
    "adata.obs['celltype2']=adata.obs['celltype2'].cat.add_categories('T-helper 17 cell')\n",
    "adata.obs['celltype3']=adata.obs['celltype3'].cat.add_categories('T-helper 17 cell')\n"
   ]
  },
  {
   "cell_type": "code",
   "execution_count": null,
   "metadata": {},
   "outputs": [],
   "source": [
    "\n",
    "adata.obs.loc[adata.obs[clusters].isin(['22']),'celltype1']='T cell'\n",
    "adata.obs.loc[adata.obs[clusters].isin(['22']),'celltype2']='T-helper 17 cell'\n",
    "adata.obs.loc[adata.obs[clusters].isin(['22']),'celltype3']='T-helper 17 cell'"
   ]
  },
  {
   "cell_type": "code",
   "execution_count": null,
   "metadata": {},
   "outputs": [],
   "source": [
    "adata.obs['celltype1']=adata.obs['celltype1'].cat.add_categories('myeloid T cell doublet')\n",
    "adata.obs['celltype2']=adata.obs['celltype2'].cat.add_categories('myeloid T cell doublet')\n",
    "adata.obs['celltype3']=adata.obs['celltype3'].cat.add_categories('myeloid T cell doublet')\n",
    "\n",
    "adata.obs.loc[adata.obs[clusters].isin(['19','7']),'celltype1']='myeloid T cell doublet'\n",
    "adata.obs.loc[adata.obs[clusters].isin(['19','7']),'celltype2']='myeloid T cell doublet'\n",
    "adata.obs.loc[adata.obs[clusters].isin(['19','7']),'celltype3']='myeloid T cell doublet'"
   ]
  },
  {
   "cell_type": "code",
   "execution_count": null,
   "metadata": {},
   "outputs": [],
   "source": [
    "adata.obs['celltype3']=adata.obs['celltype3'].cat.add_categories('regulatory T cell')\n",
    "adata.obs.loc[adata.obs[clusters].isin(['20']),'celltype3']='regulatory T cell'"
   ]
  },
  {
   "cell_type": "code",
   "execution_count": null,
   "metadata": {},
   "outputs": [],
   "source": [
    "adata.obs.loc[adata.obs[clusters].isin(['1']),'celltype3']='exhausted-like CD8-positive, alpha-beta T cell'"
   ]
  },
  {
   "cell_type": "code",
   "execution_count": null,
   "metadata": {},
   "outputs": [],
   "source": [
    "#### Make sure to remove obsolete categories\n",
    "adata.obs['celltype3']=adata.obs['celltype3'].cat.remove_unused_categories()\n",
    "adata.obs['celltype2']=adata.obs['celltype2'].cat.remove_unused_categories()\n",
    "adata.obs['celltype1']=adata.obs['celltype1'].cat.remove_unused_categories()\n",
    "adata.obs['celltype0']=adata.obs['celltype0'].cat.remove_unused_categories()"
   ]
  },
  {
   "cell_type": "code",
   "execution_count": null,
   "metadata": {},
   "outputs": [],
   "source": [
    "adata.obs['celltype']=adata.obs['celltype3'].copy()"
   ]
  },
  {
   "cell_type": "code",
   "execution_count": null,
   "metadata": {},
   "outputs": [],
   "source": [
    "sc.pl.umap(adata,color='celltype')"
   ]
  },
  {
   "cell_type": "code",
   "execution_count": null,
   "metadata": {},
   "outputs": [],
   "source": [
    "sc.pl.embedding(adata,color=['leiden'], basis = umap_basis,legend_loc='on data') "
   ]
  },
  {
   "cell_type": "code",
   "execution_count": null,
   "metadata": {},
   "outputs": [],
   "source": [
    "adata.obs['celltype']=adata.obs['celltype'].cat.add_categories('IFNa CD8-positive, alpha-beta T cell')\n",
    "adata.obs.loc[adata.obs[clusters].isin(['14']),'celltype']='IFNa CD8-positive, alpha-beta T cell'"
   ]
  },
  {
   "cell_type": "code",
   "execution_count": null,
   "metadata": {},
   "outputs": [],
   "source": [
    "adata.obs['celltype']=adata.obs['celltype'].cat.add_categories('resource CD8-positive, alpha-beta T cell')\n",
    "adata.obs.loc[adata.obs[clusters].isin(['6']),'celltype']='resource CD8-positive, alpha-beta T cell'"
   ]
  },
  {
   "cell_type": "code",
   "execution_count": null,
   "metadata": {},
   "outputs": [],
   "source": [
    "adata.obs['celltype']=adata.obs['celltype'].cat.add_categories('CCL3-positive effector CD8-positive, alpha-beta T cell')\n",
    "adata.obs.loc[adata.obs[clusters].isin(['11']),'celltype']='CCL3-positive effector CD8-positive, alpha-beta T cell'"
   ]
  },
  {
   "cell_type": "code",
   "execution_count": null,
   "metadata": {},
   "outputs": [],
   "source": [
    "adata.obs['celltype']=adata.obs['celltype'].cat.add_categories('fresh effector CD8-positive, alpha-beta T cell')\n",
    "adata.obs.loc[adata.obs[clusters].isin(['0','12', '2']),'celltype']='fresh effector CD8-positive, alpha-beta T cell'"
   ]
  },
  {
   "cell_type": "code",
   "execution_count": null,
   "metadata": {},
   "outputs": [],
   "source": [
    "adata.obs['celltype']=adata.obs['celltype'].cat.add_categories('better T effector CD8-positive, alpha-beta T cell')\n",
    "adata.obs.loc[adata.obs[clusters].isin(['4','3','15']),'celltype']='better T effector CD8-positive, alpha-beta T cell'"
   ]
  },
  {
   "cell_type": "code",
   "execution_count": null,
   "metadata": {},
   "outputs": [],
   "source": [
    "adata.obs['celltype']=adata.obs['celltype'].cat.add_categories('exhausted CD8-positive, alpha-beta T cell')\n",
    "adata.obs.loc[adata.obs[clusters].isin(['8','10']),'celltype']='exhausted CD8-positive, alpha-beta T cell'"
   ]
  },
  {
   "cell_type": "code",
   "execution_count": null,
   "metadata": {},
   "outputs": [],
   "source": [
    "adata.obs['celltype']=adata.obs['celltype'].cat.add_categories('terminally exhausted CD8-positive, alpha-beta T cell')\n",
    "adata.obs.loc[adata.obs[clusters].isin(['1']),'celltype']='terminally exhausted CD8-positive, alpha-beta T cell'"
   ]
  },
  {
   "cell_type": "code",
   "execution_count": null,
   "metadata": {},
   "outputs": [],
   "source": [
    "adata.obs['celltype']=adata.obs['celltype'].cat.add_categories('HSP-positive CD8-positive, alpha-beta T cell')\n",
    "adata.obs.loc[adata.obs[clusters].isin(['17']),'celltype']='HSP-positive CD8-positive, alpha-beta T cell'"
   ]
  },
  {
   "cell_type": "code",
   "execution_count": null,
   "metadata": {},
   "outputs": [],
   "source": [
    "adata.obs['celltype']=adata.obs['celltype'].cat.add_categories('BMP7-positive effector CD8-positive, alpha-beta T cell')\n",
    "adata.obs.loc[adata.obs[clusters].isin(['15']),'celltype']='BMP7-positive effector CD8-positive, alpha-beta T cell'"
   ]
  },
  {
   "cell_type": "code",
   "execution_count": null,
   "metadata": {},
   "outputs": [],
   "source": [
    "adata.obs['celltype']=adata.obs['celltype'].cat.add_categories('GZMs-positive effector CD8-positive, alpha-beta T cell')\n",
    "adata.obs.loc[adata.obs[clusters].isin(['16']),'celltype']='GZMs-positive effector CD8-positive, alpha-beta T cell'"
   ]
  },
  {
   "cell_type": "code",
   "execution_count": null,
   "metadata": {},
   "outputs": [],
   "source": [
    "#### Make sure to remove obsolete categories\n",
    "adata.obs['celltype']=adata.obs['celltype'].cat.remove_unused_categories()\n"
   ]
  },
  {
   "cell_type": "code",
   "execution_count": null,
   "metadata": {},
   "outputs": [],
   "source": [
    "sc.pl.umap(adata,color='celltype')"
   ]
  },
  {
   "cell_type": "code",
   "execution_count": null,
   "metadata": {},
   "outputs": [],
   "source": [
    "set(adata[adata.obs['celltype']=='exhausted-like CD8-positive, alpha-beta T cell'].obs['leiden'])"
   ]
  },
  {
   "cell_type": "code",
   "execution_count": null,
   "metadata": {},
   "outputs": [],
   "source": [
    "sc.tl.dendrogram(adata,groupby='celltype')"
   ]
  },
  {
   "cell_type": "code",
   "execution_count": null,
   "metadata": {},
   "outputs": [],
   "source": [
    "goi=['Ptprc','Trac','Cd3d','Cd8a','Cd44','CD44_Cd44','Cd4','Foxp3','Lrrc32','Il2ra','CD25_Il2ra',\n",
    "     'Il7r','IL7RA_Il7r','Cd28','CD28_Cd28',\n",
    "         'Slamf6','SLAMF6_Slamf6','Sell','CD62L_Sell',\n",
    "                            'Tcf7','Cxcr5','CXCR5_Cxcr5','Cxcr3','CXCR3_Cxcr3','S1pr1','S1pr5','Esm1','Klrg1','Il18r1',\n",
    "     'Pdcd1','PD1_Pdcd1','Havcr2','TIM3_Havcr2','Tnfrsf9','41BB_Tnfrsf9','Lag3','LAG3_Lag3',\n",
    "      'Tigit','TIGIT_Tigit',\n",
    "     'Entpd1','CD39_Entpd1','Tox','Tox2','Greb1','Gzmk',\n",
    "     'Il10','Gzmb','Klrc2','Lncpint','Ifitm1','Ifitm2','Iigp1','Oas3','Klrc3','Ccl1','Ccl3','Crtam','Cd83','Gzme','Gzmd','Gzmf',\n",
    "     'Ifit1','Isg15','Cxcl10','Xaf1',\n",
    "     'Il21r','IL21R_Il21r','Xcl1','Igfbp7','Slc15a1','Bace2','Ltf','Mrc2','Bmp7','Fcrl6',\n",
    "     'Mki67','Stmn1','Rorc',\n",
    "     'Cd163l1','Il17a','Csf1r','Msr1','Apoe','Hspa1a','Dnajb1','Hspb1','Bag3']\n",
    "sc.pl.matrixplot(adata, var_names=goi, groupby='celltype',standard_scale='var',\n",
    "                 dendrogram=True, save='Heatmap-goi-celltype.pdf')"
   ]
  },
  {
   "cell_type": "code",
   "execution_count": null,
   "metadata": {},
   "outputs": [],
   "source": [
    "goi=['Ptprc','Trac','Cd3d','Cd8a','Cd44','CD44_Cd44','Cd4','Foxp3','Lrrc32','Il2ra','CD25_Il2ra',\n",
    "     'Il7r','IL7RA_Il7r','Cd28','CD28_Cd28',\n",
    "         'Slamf6','SLAMF6_Slamf6','Sell','CD62L_Sell',\n",
    "                            'Tcf7','Cxcr5','CXCR5_Cxcr5','Cxcr3','CXCR3_Cxcr3','S1pr1','S1pr5','Esm1','Klrg1','Il18r1',\n",
    "     'Pdcd1','PD1_Pdcd1','Havcr2','TIM3_Havcr2','Tnfrsf9','41BB_Tnfrsf9','Lag3','LAG3_Lag3',\n",
    "      'Tigit','TIGIT_Tigit',\n",
    "     'Entpd1','CD39_Entpd1','Tox','Tox2','Greb1','Gzmk',\n",
    "     'Il10','Gzmb','Klrc2','Lncpint','Ifitm1','Ifitm2','Iigp1','Oas3','Klrc3','Ccl1','Ccl3','Crtam','Cd83','Gzme','Gzmd','Gzmf',\n",
    "     'Ifit1','Isg15','Cxcl10','Xaf1',\n",
    "     'Il21r','IL21R_Il21r','Xcl1','Igfbp7','Slc15a1']\n",
    "sc.pl.matrixplot(adata, var_names=goi, groupby='celltype',\n",
    "                 standard_scale='var',dendrogram=True, save='Heatmap-goi-celltype-red.pdf')"
   ]
  },
  {
   "cell_type": "code",
   "execution_count": null,
   "metadata": {},
   "outputs": [],
   "source": [
    "sc.pl.matrixplot(adata, var_names=list(set(sigs['resourceCD8Tcellext']['UP']).union(set(sigs['resourceCD8Tcellext']['DN']))), \n",
    "                 groupby='celltype',standard_scale='var',dendrogram=True, save='Heatmap-resource-celltype.pdf')\n",
    "\n"
   ]
  },
  {
   "cell_type": "code",
   "execution_count": null,
   "metadata": {},
   "outputs": [],
   "source": [
    "sc.pl.matrixplot(adata, var_names=yost_exh, \n",
    "                 groupby='celltype',standard_scale='var',dendrogram=True, save='Heatmap-yost_exh-celltype.pdf')\n"
   ]
  },
  {
   "cell_type": "code",
   "execution_count": null,
   "metadata": {},
   "outputs": [],
   "source": [
    "sc.pl.matrixplot(adata, var_names=yost_act, \n",
    "                 groupby='celltype',standard_scale='var',dendrogram=True, save='Heatmap-yost_act-celltype.pdf')\n",
    "\n"
   ]
  },
  {
   "cell_type": "code",
   "execution_count": null,
   "metadata": {},
   "outputs": [],
   "source": [
    "subtab=adata.obs.loc[:,['Activation_Yost','Exhaustion_Yost', 'score_ExhCD8Tcell_scanpy','sample_id','treatment_id']].copy()\n",
    "subtabl=adata.obs.loc[:,['Activation_Yost','Exhaustion_Yost', 'score_ExhCD8Tcell_scanpy','score_resourceCD8Tcell_scanpy',\n",
    "                         'score_resourceCD8Tcellext_scanpy','resourceCD8Tcell_UP','resourceCD8Tcell_DOWN',\n",
    "                         'score_NaiCD8Tcell_scanpy','score_Ifna_scanpy','score_Th17_scanpy','score_RegTcell_scanpy',\n",
    "                         'score_ProlifCD8Tcell_scanpy','score_Myeloid_scanpy','sample_id','leiden']].copy()\n",
    "subtabanno=adata.obs.loc[:,['leiden','celltype']].drop_duplicates()"
   ]
  },
  {
   "cell_type": "code",
   "execution_count": null,
   "metadata": {},
   "outputs": [],
   "source": [
    "\n",
    "#adata.obs.loc[:,['leiden','celltype']]\n",
    "\n",
    "subtabMeans=subtab.groupby('sample_id').mean()\n",
    "subtabMeans['Treat']=[x.split(\"_tum\")[0] for x in list(subtabMeans.index)]\n",
    "\n",
    "subtabMeansl=subtabl.groupby(['sample_id', 'leiden']).mean()\n",
    "subtabMeansl['Treat']=[x[0].split(\"_tum\")[0] for x in list(subtabMeansl.index)]\n",
    "subtabMeansl['cluster']=[x[1] for x in list(subtabMeansl.index)]\n"
   ]
  },
  {
   "cell_type": "code",
   "execution_count": null,
   "metadata": {},
   "outputs": [],
   "source": [
    "subtabanno.loc[subtabanno['leiden']==x,'celltype'][0]"
   ]
  },
  {
   "cell_type": "code",
   "execution_count": null,
   "metadata": {},
   "outputs": [],
   "source": [
    "tmp=subtabMeansl.groupby('cluster').mean()\n",
    "tmp.index=[x+ '-' +subtabanno.loc[subtabanno['leiden']==x,:]['celltype'][0] for x in list(tmp.index)]\n",
    "\n",
    "fig=sns.clustermap(tmp, standard_scale=1, col_cluster=False,figsize=(6,10))\n",
    "fig.savefig(figdir+\"Heatmap-signatures-resourceFocus.png\")"
   ]
  },
  {
   "cell_type": "code",
   "execution_count": null,
   "metadata": {},
   "outputs": [],
   "source": [
    "subtabl=adata.obs.loc[:,['Activation_Yost','Exhaustion_Yost', 'score_ExhCD8Tcell_scanpy','score_resourceCD8Tcell_scanpy',\n",
    "                         'score_resourceCD8Tcellext_scanpy','resourceCD8Tcell_UP','resourceCD8Tcell_DOWN',\n",
    "                         'score_NaiCD8Tcell_scanpy','score_Ifna_scanpy','score_Th17_scanpy','score_RegTcell_scanpy',\n",
    "                         'score_ProlifCD8Tcell_scanpy','score_Myeloid_scanpy','sample_id','celltype']].copy()\n",
    "\n",
    "subtabMeansl=subtabl.groupby(['sample_id', 'celltype']).mean()\n",
    "subtabMeansl['Treat']=[x[0].split(\"_tum\")[0] for x in list(subtabMeansl.index)]\n",
    "subtabMeansl['cluster']=[x[1] for x in list(subtabMeansl.index)]\n"
   ]
  },
  {
   "cell_type": "code",
   "execution_count": null,
   "metadata": {},
   "outputs": [],
   "source": [
    "subtabMeansl"
   ]
  },
  {
   "cell_type": "code",
   "execution_count": null,
   "metadata": {},
   "outputs": [],
   "source": [
    "sorted_index_desc = subtabMeansl.groupby('cluster').mean()['Activation_Yost'].sort_values(ascending=False).index\n",
    "\n",
    "sns.set(rc={'figure.figsize':(11.7,8.27)})\n",
    "sns.set_style('ticks')\n",
    "sns.boxplot(x=\"Activation_Yost\",y=\"cluster\",data=subtabMeansl, order=sorted_index_desc, color='lightgray')\n",
    "sns.swarmplot(x=\"Activation_Yost\",y=\"cluster\",hue='Treat',data=subtabMeansl, order=sorted_index_desc)\n"
   ]
  },
  {
   "cell_type": "code",
   "execution_count": null,
   "metadata": {},
   "outputs": [],
   "source": [
    "sns.set(rc={'figure.figsize':(11.7,8.27)})\n",
    "sns.set_style('ticks')\n",
    "sns.boxplot(x=\"Exhaustion_Yost\",y=\"cluster\",data=subtabMeansl, order=sorted_index_desc, color='lightgray')\n",
    "sns.swarmplot(x=\"Exhaustion_Yost\",y=\"cluster\",hue='Treat',data=subtabMeansl, order=sorted_index_desc)\n"
   ]
  },
  {
   "cell_type": "code",
   "execution_count": null,
   "metadata": {},
   "outputs": [],
   "source": [
    "sorted_index_desc = subtabMeansl.groupby('cluster').mean()['Exhaustion_Yost'].sort_values(ascending=False).index\n",
    "\n",
    "sns.set(rc={'figure.figsize':(11.7,8.27)})\n",
    "sns.set_style('ticks')\n",
    "sns.boxplot(x=\"Exhaustion_Yost\",y=\"cluster\",data=subtabMeansl, order=sorted_index_desc, color='lightgray')\n",
    "sns.swarmplot(x=\"Exhaustion_Yost\",y=\"cluster\",hue='Treat',data=subtabMeansl, order=sorted_index_desc)\n"
   ]
  },
  {
   "cell_type": "code",
   "execution_count": null,
   "metadata": {},
   "outputs": [],
   "source": [
    "\n",
    "sns.set(rc={'figure.figsize':(11.7,8.27)})\n",
    "sns.set_style('ticks')\n",
    "sns.boxplot(x=\"score_ExhCD8Tcell_scanpy\",y=\"cluster\",data=subtabMeansl, order=sorted_index_desc, color='lightgray')\n",
    "sns.swarmplot(x=\"score_ExhCD8Tcell_scanpy\",y=\"cluster\",hue='Treat',data=subtabMeansl, order=sorted_index_desc)\n"
   ]
  },
  {
   "cell_type": "code",
   "execution_count": null,
   "metadata": {},
   "outputs": [],
   "source": [
    "\n",
    "sorted_index_desc = subtabMeansl.groupby('cluster').mean()['score_ExhCD8Tcell_scanpy'].sort_values(ascending=False).index\n",
    "\n",
    "sns.set(rc={'figure.figsize':(11.7,8.27)})\n",
    "sns.set_style('ticks')\n",
    "sns.boxplot(x=\"score_ExhCD8Tcell_scanpy\",y=\"cluster\",data=subtabMeansl, order=sorted_index_desc, color='lightgray')\n",
    "sns.swarmplot(x=\"score_ExhCD8Tcell_scanpy\",y=\"cluster\",hue='Treat',data=subtabMeansl, order=sorted_index_desc)"
   ]
  },
  {
   "cell_type": "code",
   "execution_count": null,
   "metadata": {},
   "outputs": [],
   "source": [
    "set(adata[adata.obs['celltype3']=='exhausted-like CD8-positive, alpha-beta T cell'].obs['leiden'])"
   ]
  },
  {
   "cell_type": "code",
   "execution_count": null,
   "metadata": {},
   "outputs": [],
   "source": [
    "set(adata[adata.obs['celltype']=='exhausted CD8-positive, alpha-beta T cell'].obs['leiden'])"
   ]
  },
  {
   "cell_type": "code",
   "execution_count": null,
   "metadata": {},
   "outputs": [],
   "source": [
    "adata.obs['celltype3']=adata.obs['celltype3'].cat.add_categories('CD8-positive, alpha-beta resource T cell')\n",
    "adata.obs.loc[adata.obs[clusters].isin(['6']),'celltype3']='CD8-positive, alpha-beta resource T cell'\n",
    "\n",
    "adata.obs['celltype3']=adata.obs['celltype3'].cat.add_categories('CD8-positive, alpha-beta cytotoxic T cell')\n",
    "adata.obs.loc[adata.obs[clusters].isin(['0','14','15','16','17','2','3','4']),'celltype3']='CD8-positive, alpha-beta cytotoxic T cell'\n",
    "\n",
    "\n"
   ]
  },
  {
   "cell_type": "code",
   "execution_count": null,
   "metadata": {},
   "outputs": [],
   "source": [
    "adata.obs['celltype3']=adata.obs['celltype3'].cat.add_categories('CD8-positive, alpha-beta T cell')\n",
    "adata.obs.loc[adata.obs[clusters].isin(['14']),'celltype3']='CD8-positive, alpha-beta T cell'\n",
    "\n"
   ]
  },
  {
   "cell_type": "code",
   "execution_count": null,
   "metadata": {},
   "outputs": [],
   "source": [
    "sc.pl.umap(adata, color=['celltype3'],ncols=1)"
   ]
  },
  {
   "cell_type": "code",
   "execution_count": null,
   "metadata": {},
   "outputs": [],
   "source": [
    "\n",
    "#### Make sure to remove obsolete categories\n",
    "adata.obs['celltype3']=adata.obs['celltype3'].cat.remove_unused_categories()\n"
   ]
  },
  {
   "cell_type": "markdown",
   "metadata": {},
   "source": [
    "### Save annotation result and export labelling\n",
    "\n",
    "Chosen labels can also be exported as a new folder in labelings/"
   ]
  },
  {
   "cell_type": "code",
   "execution_count": null,
   "metadata": {},
   "outputs": [],
   "source": [
    "### Attribute the cell annotation level of choice (typically the highest resolution one, if estimated to be reliable) to dblabel\n",
    "adata.obs['dblabel']=adata.obs['celltype3']\n",
    "\n",
    "### Export file for future reference\n",
    "adata.write(results_file)\n",
    "#adata=sc.read(results_file)"
   ]
  },
  {
   "cell_type": "code",
   "execution_count": null,
   "metadata": {},
   "outputs": [],
   "source": [
    "#adata.write(results_file)"
   ]
  },
  {
   "cell_type": "code",
   "execution_count": null,
   "metadata": {},
   "outputs": [],
   "source": [
    "adata=sc.read(results_file)"
   ]
  },
  {
   "cell_type": "code",
   "execution_count": null,
   "metadata": {},
   "outputs": [],
   "source": [
    "# From https://www.pnas.org/content/116/28/14113\n",
    "jadhav_mem=['Sell','Il7r','Bcl2','Klrg1','Il2rb']\n",
    "jadhav_eff=['Ifng','Tnf','Il2','Il21','Il6','Gzma','Gzmb','Prf1','Fasl','Tnsf10']\n",
    "jadhav_stem=['Nsg2','P2rx7','Lrig1','Tcf7','Aff3','Crtam','Kbtbd11','Nt5e','Cxcr5','Cxcl10','Cd83','Ccr7','Traf1']\n",
    "jadhav_exh=['Chn2','Lilr4b','Pim1','Slamf1','Prdm1','Gzmb','Fasl','Tmcc3','1700017B05Rik', 'Il10','Lgals3','Ccl3','Ccl4','Cd48']\n",
    "\n",
    "sc.tl.score_genes(adata,gene_list=jadhav_mem,score_name='Memory_j')\n",
    "sc.tl.score_genes(adata,gene_list=jadhav_eff,score_name='Effector_j')\n",
    "sc.tl.score_genes(adata,gene_list=jadhav_stem,score_name='Resource_j')\n",
    "sc.tl.score_genes(adata,gene_list=jadhav_exh,score_name='Exhausted_j')"
   ]
  },
  {
   "cell_type": "code",
   "execution_count": null,
   "metadata": {},
   "outputs": [],
   "source": [
    "gzmessel=['Gzma','Gzmb','Gzmc','Gzmf']\n",
    "gzmesall=['Gzma','Gzmb','Gzmc','Gzme','Gzmd','Gzmf','Gzmk']"
   ]
  },
  {
   "cell_type": "code",
   "execution_count": null,
   "metadata": {},
   "outputs": [],
   "source": [
    "sc.tl.score_genes(adata,gene_list=gzmessel,score_name='Gzms')\n"
   ]
  },
  {
   "cell_type": "markdown",
   "metadata": {},
   "source": [
    "### Simplified annotation & focus on CD8 T cells and specific conditions"
   ]
  },
  {
   "cell_type": "code",
   "execution_count": null,
   "metadata": {},
   "outputs": [],
   "source": [
    "subtabl=adata.obs.loc[:,['Memory_j','Effector_j','Resource_j','Exhausted_j', 'Activation_Yost','Exhaustion_Yost', 'score_ExhCD8Tcell_scanpy','score_CytotoxCD8Tcell_scanpy','score_resourceCD8Tcell_scanpy',\n",
    "                         'score_resourceCD8Tcellext_scanpy','resourceCD8Tcell_UP','resourceCD8Tcell_DOWN','score_CD4_scanpy',\n",
    " 'score_CD8_scanpy','score_EMCD8Tcell_scanpy',\n",
    "                         'score_NaiCD8Tcell_scanpy','score_Ifna_scanpy','score_Th17_scanpy','score_RegTcell_scanpy',\n",
    "                         'score_ProlifCD8Tcell_scanpy','score_Myeloid_scanpy','sample_id','leiden']].copy()\n",
    "\n",
    "subtabMeansl=subtabl.groupby([ 'leiden']).mean()\n"
   ]
  },
  {
   "cell_type": "code",
   "execution_count": null,
   "metadata": {},
   "outputs": [],
   "source": [
    "sc.pl.umap(adata, color=['leiden'],legend_loc='on data')"
   ]
  },
  {
   "cell_type": "code",
   "execution_count": null,
   "metadata": {},
   "outputs": [],
   "source": [
    "cls=['5','6','0','14','12','11','15','10','3','2','4','17','20','16','13','9','8','1','7','22','19','18','21']"
   ]
  },
  {
   "cell_type": "code",
   "execution_count": null,
   "metadata": {},
   "outputs": [],
   "source": [
    "sns.clustermap(subtabMeansl.loc[cls,['Memory_j','Effector_j','Resource_j','Exhausted_j','score_CytotoxCD8Tcell_scanpy','score_EMCD8Tcell_scanpy','score_ExhCD8Tcell_scanpy','score_resourceCD8Tcell_scanpy','score_NaiCD8Tcell_scanpy','score_ProlifCD8Tcell_scanpy',\n",
    "                                   'score_CD4_scanpy','score_CD8_scanpy','score_RegTcell_scanpy','score_Myeloid_scanpy',\n",
    "                                   'score_Ifna_scanpy']],col_cluster=False,row_cluster=False,figsize=(7,12), \n",
    "               vmin=-0.5, vmax=1)"
   ]
  },
  {
   "cell_type": "code",
   "execution_count": null,
   "metadata": {},
   "outputs": [],
   "source": [
    "cls=['5','6','14','12','11','3','2','4','17','16','0','13','9','15','10','8','1']\n",
    "subtabMeansllim=subtabMeansl.loc[cls,:].copy()"
   ]
  },
  {
   "cell_type": "code",
   "execution_count": null,
   "metadata": {},
   "outputs": [],
   "source": [
    "\n",
    "sns.clustermap(subtabMeansllim.loc[cls,['Memory_j','Effector_j','Resource_j','Exhausted_j','score_CytotoxCD8Tcell_scanpy','score_EMCD8Tcell_scanpy','score_ExhCD8Tcell_scanpy','score_resourceCD8Tcell_scanpy','score_NaiCD8Tcell_scanpy','score_ProlifCD8Tcell_scanpy',\n",
    "                                   'score_CD4_scanpy','score_CD8_scanpy',\n",
    "                                   'score_Ifna_scanpy']],col_cluster=False,row_cluster=False,figsize=(5,12), \n",
    "               standard_scale=1)"
   ]
  },
  {
   "cell_type": "code",
   "execution_count": null,
   "metadata": {},
   "outputs": [],
   "source": [
    "goi=['Foxp3','CD25_Il2ra','Cd8a','CD62L_Sell','Lef1','IL7RA_Il7r','CD28_Cd28',\n",
    "         'Tcf7','CXCR5_Cxcr5','SLAMF6_Slamf6','CXCR3_Cxcr3',\n",
    "     'PD1_Pdcd1','41BB_Tnfrsf9','LAG3_Lag3','TIM3_Havcr2','41BB_Tnfrsf9','LAG3_Lag3','TIGIT_Tigit',\n",
    "     'CD39_Entpd1','Tox','Tox2','Gzmk',\n",
    "     'Il10','Gzmb','Gzma','Klrc2','Bmpr2','Igf2r','Sema6d',\n",
    "     'Mki67','Stmn1']\n",
    "sc.pl.matrixplot(adata[adata.obs['leiden'].isin(cls)], categories_order=cls,var_names=goi, \n",
    "                 groupby='leiden',standard_scale='var')"
   ]
  },
  {
   "cell_type": "code",
   "execution_count": null,
   "metadata": {},
   "outputs": [],
   "source": [
    "goifocus=['IL7RA_Il7r','Il7r','Bcl2',\n",
    "         'Tcf7','CXCR5_Cxcr5','S1pr1','Klrg1',\n",
    "     'PD1_Pdcd1','Pdcd1','TIM3_Havcr2','Havcr2',\n",
    "     'Tox','Tox2','Il10','Ccl3','Ccl4','Gzmb','Gzmf','Gzma']"
   ]
  },
  {
   "cell_type": "code",
   "execution_count": null,
   "metadata": {},
   "outputs": [],
   "source": [
    "sc.pl.matrixplot(adata[adata.obs['leiden'].isin(cls)], categories_order=cls,var_names=goifocus, \n",
    "                 groupby='leiden',standard_scale='var')"
   ]
  },
  {
   "cell_type": "code",
   "execution_count": null,
   "metadata": {},
   "outputs": [],
   "source": [
    "goi=['CD62L_Sell','Lef1','IL7RA_Il7r','CD28_Cd28',\n",
    "         'Tcf7','CXCR5_Cxcr5','SLAMF6_Slamf6','CXCR3_Cxcr3',\n",
    "     'PD1_Pdcd1','41BB_Tnfrsf9','LAG3_Lag3','TIM3_Havcr2','TIGIT_Tigit',\n",
    "     'Entpd1','Tox','Tox2','Nr4a2','Gzmk','Gzmb','Gzmf','Gzmc','Gzme','Gzma','Lamp1', 'Prf1']\n",
    "goiext=['Cd3d','Cd3e','Cd8a','Cd4','Cd14','Foxp3','CD62L_Sell','Lef1','Bach2','IL7RA_Il7r','CD28_Cd28',\n",
    "         'Tcf7','CXCR5_Cxcr5','SLAMF6_Slamf6','CXCR3_Cxcr3','Klf2','S1pr1',\n",
    "     'PD1_Pdcd1','41BB_Tnfrsf9','LAG3_Lag3','TIM3_Havcr2','TIGIT_Tigit',\n",
    "     'Entpd1','Tox','Tox2','Gzmk','Gzmb','Gzmf','Gzmc','Gzme','Gzma','Lamp1','Prf1','Stmn1','Mki67']\n",
    "sc.pl.matrixplot(adata[adata.obs['leiden'].isin(cls)], categories_order=cls,var_names=goi, \n",
    "                 groupby='leiden',standard_scale='var', save='-selmarkerexpression-leiden-selclusters.pdf')"
   ]
  },
  {
   "cell_type": "code",
   "execution_count": null,
   "metadata": {},
   "outputs": [],
   "source": [
    "goinewext=['Cd3d','Cd3e','Cd8a','Cd4','Cd14','Foxp3','Il2ra','Il17a','Il23r','Stmn1','Mki67','Klf2','S1pr1','Tcf7',\n",
    "        'CXCR5_Cxcr5','Ifngr1','Bcl2','IL7RA_Il7r', 'Il7r',\n",
    "'Lrig1','PD1_Pdcd1','Pdcd1','Fasl','Gzma','Gzmb','Gzmf','Lamp1','Tbx21','Itga1','Il2rg','Il18r1','Il18rap','Kit','Tnf','Ifng',\n",
    " 'Lag3','Tnfrsf9','TIM3_Havcr2','Havcr2','TIGIT_Tigit','Tox','Tox2','Il10','Ccl3','Ccl4']\n",
    "\n"
   ]
  },
  {
   "cell_type": "code",
   "execution_count": null,
   "metadata": {},
   "outputs": [],
   "source": [
    "#itgae Prdm1 Lamp1"
   ]
  },
  {
   "cell_type": "code",
   "execution_count": null,
   "metadata": {},
   "outputs": [],
   "source": [
    "goiv=['Lamp1','Lamp2','Lamp3', 'Adgrg1']"
   ]
  },
  {
   "cell_type": "code",
   "execution_count": null,
   "metadata": {},
   "outputs": [],
   "source": [
    "sc.pl.matrixplot(adata, \n",
    "                 dendrogram=True,\n",
    "                 var_names=goinewext, \n",
    "                 groupby='leiden',standard_scale='var', save='-selmarkerexpression-leiden-all.pdf')"
   ]
  },
  {
   "cell_type": "code",
   "execution_count": null,
   "metadata": {},
   "outputs": [],
   "source": [
    "sc.pl.matrixplot(adata, \n",
    "                 categories_order=['5','6','14','12','11','3','2','4','17','16','0','13','9','15','10','8','1','20','7','22','19','18','21'],var_names=goiext, \n",
    "                 groupby='leiden',standard_scale='var', save='-selmarkerexpression-leiden-all.pdf')"
   ]
  },
  {
   "cell_type": "code",
   "execution_count": null,
   "metadata": {},
   "outputs": [],
   "source": [
    "clsk=['6','14','12','11','3','2','4','17','16','0','13','9','15','10','8','1']"
   ]
  },
  {
   "cell_type": "code",
   "execution_count": null,
   "metadata": {},
   "outputs": [],
   "source": [
    "adata.obs['celltype_simple']='other'\n",
    "adata.obs['celltype_new']='other'"
   ]
  },
  {
   "cell_type": "code",
   "execution_count": null,
   "metadata": {},
   "outputs": [],
   "source": [
    "#tmp.obs['celltype_simple']=tmp.obs['leiden'].copy()\n",
    "sc.pl.umap(adata,color='celltype_simple')"
   ]
  },
  {
   "cell_type": "code",
   "execution_count": null,
   "metadata": {},
   "outputs": [],
   "source": [
    "sc.pl.umap(adata,color='celltype_new')"
   ]
  },
  {
   "cell_type": "code",
   "execution_count": null,
   "metadata": {},
   "outputs": [],
   "source": [
    "adata.obs['celltype_simple']=adata.obs['celltype_simple'].cat.add_categories('resource')\n",
    "adata.obs['celltype_simple']=adata.obs['celltype_simple'].cat.add_categories('naive')\n",
    "\n",
    "adata.obs['celltype_simple']=adata.obs['celltype_simple'].cat.add_categories('effcytotox')\n",
    "adata.obs['celltype_simple']=adata.obs['celltype_simple'].cat.add_categories('effmem')\n",
    "adata.obs['celltype_simple']=adata.obs['celltype_simple'].cat.add_categories('effexh')\n"
   ]
  },
  {
   "cell_type": "code",
   "execution_count": null,
   "metadata": {},
   "outputs": [],
   "source": []
  },
  {
   "cell_type": "code",
   "execution_count": null,
   "metadata": {},
   "outputs": [],
   "source": [
    "adata.obs.loc[adata.obs[clusters].isin(['5']),'celltype_simple']='naive'\n",
    "adata.obs.loc[adata.obs[clusters].isin(['6']),'celltype_simple']='resource'\n",
    "adata.obs.loc[adata.obs[clusters].isin(['14','12','3','4','17','16','14','12']),'celltype_simple']='effcytotox'\n",
    "\n",
    "adata.obs.loc[adata.obs[clusters].isin(['0','15','10','8','9','13','2']),'celltype_simple']='effmem'\n",
    "adata.obs.loc[adata.obs[clusters].isin(['1','11']),'celltype_simple']='effexh'\n"
   ]
  },
  {
   "cell_type": "code",
   "execution_count": null,
   "metadata": {},
   "outputs": [],
   "source": [
    "#tmp.obs['celltype_simple']=tmp.obs['leiden'].copy()\n",
    "sc.pl.umap(adata[adata.obs['treatment_id'].isin(['PD1','PD1-IL2v','FAP-IL2v_PD1'])] ,color='celltype_simple')"
   ]
  },
  {
   "cell_type": "code",
   "execution_count": null,
   "metadata": {},
   "outputs": [],
   "source": [
    "sc.pl.umap(adata[adata.obs['treatment_id'].isin(['Vehicle'])] ,color='celltype_simple')"
   ]
  },
  {
   "cell_type": "code",
   "execution_count": null,
   "metadata": {},
   "outputs": [],
   "source": [
    "sc.pl.umap(adata[adata.obs['treatment_id'].isin(['PD1'])] ,color='celltype_simple')"
   ]
  },
  {
   "cell_type": "code",
   "execution_count": null,
   "metadata": {},
   "outputs": [],
   "source": [
    "sc.pl.umap(adata[adata.obs['treatment_id'].isin(['FAP-IL2v'])] ,color='celltype_simple')"
   ]
  },
  {
   "cell_type": "code",
   "execution_count": null,
   "metadata": {},
   "outputs": [],
   "source": [
    "sc.pl.umap(adata[adata.obs['treatment_id'].isin(['PD1-IL2v'])] ,color='celltype_simple')"
   ]
  },
  {
   "cell_type": "code",
   "execution_count": null,
   "metadata": {},
   "outputs": [],
   "source": [
    "sc.pl.umap(adata[adata.obs['treatment_id'].isin(['FAP-IL2v_PD1'])] ,color='celltype_simple')"
   ]
  },
  {
   "cell_type": "code",
   "execution_count": null,
   "metadata": {},
   "outputs": [],
   "source": [
    "tmp=adata[adata.obs['leiden'].isin(cls)].copy()"
   ]
  },
  {
   "cell_type": "code",
   "execution_count": null,
   "metadata": {},
   "outputs": [],
   "source": [
    "sc.pl.umap(adata,color='celltype_simple', save='-annotation-celltype_simple-adata.pdf')"
   ]
  },
  {
   "cell_type": "code",
   "execution_count": null,
   "metadata": {},
   "outputs": [],
   "source": [
    "sc.pl.umap(adata,groups='effcytotox',color='celltype_simple', save='-annotation-celltype_simple-adata.svg')"
   ]
  },
  {
   "cell_type": "code",
   "execution_count": null,
   "metadata": {},
   "outputs": [],
   "source": [
    "sc.pl.umap(tmp,color='celltype_simple', save='-annotation-celltype_simple-selclusters.pdf')"
   ]
  },
  {
   "cell_type": "code",
   "execution_count": null,
   "metadata": {},
   "outputs": [],
   "source": [
    "sc.pl.umap(tmp,groups='effcytotox', color='celltype_simple', save='-annotation-celltype_simple-selclusters.svg')"
   ]
  },
  {
   "cell_type": "code",
   "execution_count": null,
   "metadata": {},
   "outputs": [],
   "source": [
    "tmp.obs['celltype_simple']=tmp.obs['celltype_simple'].cat.remove_unused_categories()"
   ]
  },
  {
   "cell_type": "code",
   "execution_count": null,
   "metadata": {},
   "outputs": [],
   "source": [
    "sc.pl.umap(tmp,color='leiden',legend_loc='on data', save='-annotation-leiden-selclusters.pdf')"
   ]
  },
  {
   "cell_type": "code",
   "execution_count": null,
   "metadata": {},
   "outputs": [],
   "source": [
    "coiorder=['naive','resource','effmem','effcytotox','effexh']"
   ]
  },
  {
   "cell_type": "code",
   "execution_count": null,
   "metadata": {},
   "outputs": [],
   "source": [
    "sc.pl.matrixplot(tmp, var_names=goi, categories_order=coiorder,\n",
    "                 groupby='celltype_simple',standard_scale='var', save='-selmarkerexpression-celltype_simple-selclusters.pdf')"
   ]
  },
  {
   "cell_type": "code",
   "execution_count": null,
   "metadata": {},
   "outputs": [],
   "source": [
    "sc.pl.matrixplot(tmp, \n",
    "                 categories_order=coiorder,\n",
    "                 var_names=goiv, \n",
    "                 groupby='celltype_simple',standard_scale='var')"
   ]
  },
  {
   "cell_type": "code",
   "execution_count": null,
   "metadata": {},
   "outputs": [],
   "source": [
    "sc.pl.matrixplot(tmp[tmp.obs['celltype_simple']!='naive'], var_names=goi, categories_order=['resource','effmem','effcytotox','effexh'],\n",
    "                 groupby='celltype_simple',standard_scale='var')"
   ]
  },
  {
   "cell_type": "code",
   "execution_count": null,
   "metadata": {},
   "outputs": [],
   "source": [
    "tmp.obs['celltype_treatment']=tmp.obs['treatment_id'].astype(str)+' | '+tmp.obs['celltype_simple'].astype(str)"
   ]
  },
  {
   "cell_type": "code",
   "execution_count": null,
   "metadata": {},
   "outputs": [],
   "source": [
    "tmp.obs['leiden_treatment']=tmp.obs['treatment_id'].astype(str)+' | '+tmp.obs['leiden'].astype(str)"
   ]
  },
  {
   "cell_type": "code",
   "execution_count": null,
   "metadata": {},
   "outputs": [],
   "source": [
    "sc.pl.matrixplot(tmp, var_names=goiv, dendrogram=True,\n",
    "                 groupby='celltype_treatment',standard_scale='var', vmax=0.8)"
   ]
  },
  {
   "cell_type": "code",
   "execution_count": null,
   "metadata": {},
   "outputs": [],
   "source": [
    "sc.pl.matrixplot(tmp, var_names=goi, dendrogram=True,\n",
    "                 groupby='celltype_treatment',standard_scale='var', vmax=0.8)"
   ]
  },
  {
   "cell_type": "code",
   "execution_count": null,
   "metadata": {},
   "outputs": [],
   "source": [
    "mysub=tmp[tmp.obs['celltype_simple'].isin(['effmem','effcytotox','effexh'])].copy()"
   ]
  },
  {
   "cell_type": "code",
   "execution_count": null,
   "metadata": {},
   "outputs": [],
   "source": [
    "sc.tl.dendrogram(mysub, groupby='celltype_treatment')"
   ]
  },
  {
   "cell_type": "code",
   "execution_count": null,
   "metadata": {},
   "outputs": [],
   "source": [
    "sc.pl.matrixplot(tmp, var_names=goiext,dendrogram=True,\n",
    "                 groupby='celltype_treatment',standard_scale='var')"
   ]
  },
  {
   "cell_type": "code",
   "execution_count": null,
   "metadata": {},
   "outputs": [],
   "source": [
    "sc.pl.matrixplot(tmp, var_names=goiext, dendrogram=True,\n",
    "                 groupby='leiden_treatment',standard_scale='var')"
   ]
  },
  {
   "cell_type": "code",
   "execution_count": null,
   "metadata": {},
   "outputs": [],
   "source": [
    "sc.pl.matrixplot(tmp, var_names=goiext, \n",
    "                 groupby='leiden',standard_scale='var')"
   ]
  },
  {
   "cell_type": "code",
   "execution_count": null,
   "metadata": {},
   "outputs": [],
   "source": [
    "mytreats=list(set(tmp.obs['treatment_id']))\n",
    "for treat in mytreats:\n",
    "    sc.pl.umap(tmp, groups=[treat],\n",
    "               color='treatment_id', save='-treatmentID-'+treat+'.selclusters.pdf')"
   ]
  },
  {
   "cell_type": "code",
   "execution_count": null,
   "metadata": {},
   "outputs": [],
   "source": [
    "sc.pl.umap(tmp, color=goiv)"
   ]
  },
  {
   "cell_type": "code",
   "execution_count": null,
   "metadata": {},
   "outputs": [],
   "source": [
    "sc.pl.dotplot(tmp, var_names=goiv+['Gzmb','Gzma','Gzmk','Gzmc','Gzmd','Gzme','Gzmf'], groupby='celltype_simple')"
   ]
  },
  {
   "cell_type": "code",
   "execution_count": null,
   "metadata": {},
   "outputs": [],
   "source": [
    "sc.pl.umap(tmp, color=['Gzmb','Gzma','Gzmk','Gzmc','Gzmd','Gzme','Gzmf','Tox','Pdcd1', 'PD1_Pdcd1','CXCR5_Cxcr5'], \n",
    "           save='-gzms-individual.selclusters.pdf')"
   ]
  },
  {
   "cell_type": "code",
   "execution_count": null,
   "metadata": {},
   "outputs": [],
   "source": [
    "sc.pl.umap(tmp[tmp.obs['treatment_id'].isin(['PD1',  'FAP-IL2v_PD1', 'PD1-IL2v'])], \n",
    "           color='celltype_simple')"
   ]
  },
  {
   "cell_type": "code",
   "execution_count": null,
   "metadata": {},
   "outputs": [],
   "source": [
    "toplot=tmp[tmp.obs['treatment_id'].isin(['PD1',  'FAP-IL2v_PD1', 'PD1-IL2v'])].copy()"
   ]
  },
  {
   "cell_type": "code",
   "execution_count": null,
   "metadata": {},
   "outputs": [],
   "source": [
    "sc.pl.umap(toplot,groups='effcytotox',color='celltype_simple', save='-annotation-celltype_simple-selclusters-3Tonly.svg')"
   ]
  },
  {
   "cell_type": "code",
   "execution_count": null,
   "metadata": {},
   "outputs": [],
   "source": [
    "jadhav_mem"
   ]
  },
  {
   "cell_type": "code",
   "execution_count": null,
   "metadata": {},
   "outputs": [],
   "source": [
    "jadhav_eff"
   ]
  },
  {
   "cell_type": "code",
   "execution_count": null,
   "metadata": {},
   "outputs": [],
   "source": [
    "jadhav_stem"
   ]
  },
  {
   "cell_type": "code",
   "execution_count": null,
   "metadata": {},
   "outputs": [],
   "source": [
    "DEgenes=bc.tl.dge.get_de(tmp[tmp.obs['treatment_id'].isin(['Vehicle'])],'leiden',demethod='wilcoxon',topnr=5000, logfc=1,padj=0.05)\n"
   ]
  },
  {
   "cell_type": "code",
   "execution_count": null,
   "metadata": {},
   "outputs": [],
   "source": [
    "DEgenes2=bc.tl.dge.get_de(tmp[tmp.obs['treatment_id'].isin(['Vehicle'])],'celltype_simple',demethod='wilcoxon',topnr=5000, logfc=1,padj=0.05)\n"
   ]
  },
  {
   "cell_type": "markdown",
   "metadata": {},
   "source": [
    "#### Create list of genes specific for cluster 6 (stem-like cells).  "
   ]
  },
  {
   "cell_type": "code",
   "execution_count": null,
   "metadata": {},
   "outputs": [],
   "source": [
    "topsa=list(DEgenes['6'].sort_values('Log2FC',ascending=False)['Name'][0:50])\n",
    "topsb=list(DEgenes2['resource'].sort_values('Log2FC',ascending=False)['Name'][0:50])"
   ]
  },
  {
   "cell_type": "code",
   "execution_count": null,
   "metadata": {},
   "outputs": [],
   "source": [
    "n1=list(DEgenes2['effmem'].sort_values('Log2FC',ascending=False)['Name'][0:100])\n",
    "n2=list(DEgenes2['effexh'].sort_values('Log2FC',ascending=False)['Name'][0:100])\n",
    "n3=list(DEgenes2['effcytotox'].sort_values('Log2FC',ascending=False)['Name'][0:100])\n",
    "n4=list(DEgenes2['naive'].sort_values('Log2FC',ascending=False)['Name'][0:50])"
   ]
  },
  {
   "cell_type": "code",
   "execution_count": null,
   "metadata": {},
   "outputs": [],
   "source": [
    "tops=list(set(topsa).intersection(set(topsb))-set(n1)-set(n2)-set(n3)-set(n4))"
   ]
  },
  {
   "cell_type": "code",
   "execution_count": null,
   "metadata": {},
   "outputs": [],
   "source": [
    "tops"
   ]
  },
  {
   "cell_type": "code",
   "execution_count": null,
   "metadata": {},
   "outputs": [],
   "source": [
    "pd.Series(tops).to_csv(figdir+\"res_c6_specific_genes.tsv\", sep='\\t')"
   ]
  },
  {
   "cell_type": "code",
   "execution_count": null,
   "metadata": {},
   "outputs": [],
   "source": [
    "#tops=list(DEgenes['6'].sort_values('Log2FC',ascending=False)['Name'][0:50])\n",
    "sc.pl.dotplot(tmp, var_names=tops,groupby=clusters, dot_max=0.6)"
   ]
  },
  {
   "cell_type": "code",
   "execution_count": null,
   "metadata": {},
   "outputs": [],
   "source": [
    "goinew=['Klf2','S1pr1','Tcf7','CXCR5_Cxcr5','Ifngr1','Bcl2', 'IL7RA_Il7r','Il7r',\n",
    "'Lrig1','PD1_Pdcd1','Pdcd1','Fasl','Gzma','Gzmb','Gzmf','Lamp1','Tbx21','Itga1','Il2rg','Il18r1','Il18rap','Kit','Tnf','Ifng',\n",
    " 'Lag3','Tnfrsf9','TIM3_Havcr2', 'Havcr2','TIGIT_Tigit','Tox','Tox2','Il10','Ccl3','Ccl4']\n",
    "\n"
   ]
  },
  {
   "cell_type": "code",
   "execution_count": null,
   "metadata": {},
   "outputs": [],
   "source": [
    "sc.pl.matrixplot(toplot, var_names=tops, \n",
    "                 categories_order=['naive','resource','effmem','effcytotox','effexh'],\n",
    "                 groupby='celltype_simple',standard_scale='var')"
   ]
  },
  {
   "cell_type": "code",
   "execution_count": null,
   "metadata": {},
   "outputs": [],
   "source": [
    "sc.pl.umap(toplot, color='leiden')"
   ]
  },
  {
   "cell_type": "code",
   "execution_count": null,
   "metadata": {},
   "outputs": [],
   "source": [
    "tst=adata[adata.obs['celltype_simple']!='naive'].copy()\n",
    "tst=tst[tst.obs['celltype_simple']!='other'].copy()"
   ]
  },
  {
   "cell_type": "code",
   "execution_count": null,
   "metadata": {},
   "outputs": [],
   "source": [
    "sc.pl.matrixplot(tst, var_names=goinew, \n",
    "                 groupby='treatment_id',standard_scale='var')"
   ]
  },
  {
   "cell_type": "code",
   "execution_count": null,
   "metadata": {},
   "outputs": [],
   "source": [
    "pd1plus=tst[tst.raw[:,'PD1_Pdcd1'].X>0.5].copy()\n",
    "pd1plus=pd1plus[pd1plus.raw[:,'Pdcd1'].X>0].copy()"
   ]
  },
  {
   "cell_type": "code",
   "execution_count": null,
   "metadata": {},
   "outputs": [],
   "source": [
    "sc.pl.dotplot(pd1plus, var_names=goinew, \n",
    "                 groupby='treatment_id')"
   ]
  },
  {
   "cell_type": "code",
   "execution_count": null,
   "metadata": {},
   "outputs": [],
   "source": [
    "sc.pl.matrixplot(pd1plus, var_names=goinew, \n",
    "                 groupby='treatment_id',standard_scale='var')"
   ]
  },
  {
   "cell_type": "code",
   "execution_count": null,
   "metadata": {},
   "outputs": [],
   "source": [
    "sc.pl.matrixplot(toplot, var_names=goinew, \n",
    "                 categories_order=['naive','resource','effmem','effcytotox','effexh'],\n",
    "                 groupby='celltype_simple',standard_scale='var', \n",
    "                 save='-selmarkerexpression-celltype_simple-selclusters_3Tonly.pdf')"
   ]
  },
  {
   "cell_type": "code",
   "execution_count": null,
   "metadata": {},
   "outputs": [],
   "source": [
    "set(toplot.obs['celltype_treatment'])"
   ]
  },
  {
   "cell_type": "code",
   "execution_count": null,
   "metadata": {},
   "outputs": [],
   "source": [
    "sc.pl.matrixplot(toplot, var_names=goinew, \n",
    "                 categories_order=['PD1-IL2v | naive','FAP-IL2v_PD1 | naive','PD1 | naive','PD1-IL2v | resource',\n",
    "                                   'FAP-IL2v_PD1 | resource', 'PD1 | resource','PD1-IL2v | effmem',\n",
    "                                    'FAP-IL2v_PD1 | effmem','PD1 | effmem', 'PD1-IL2v | effcytotox', 'FAP-IL2v_PD1 | effcytotox',\n",
    "                                    'PD1 | effcytotox','PD1-IL2v | effexh','FAP-IL2v_PD1 | effexh', 'PD1 | effexh'],\n",
    "                 groupby='celltype_treatment',standard_scale='var', \n",
    "                 save='-selmarkerexpression-celltype_treatment-selclusters_3Tonly.pdf')"
   ]
  },
  {
   "cell_type": "code",
   "execution_count": null,
   "metadata": {},
   "outputs": [],
   "source": [
    "inhrec=['Cd160','Lag3','Cd244a','Btla','Pdcd1','Havcr2','Tigit','Cd101'] ## Lowe antiIl2 and anti comb compared to untreated and antiPD1\n",
    "eff=['Gzma','Gzmb','Lamp1'] \n",
    "costim=['Cd28','Cd226','Icos','Cd7','Kit','Tnfrsf9'] # Cd17 is Kit\n",
    "cyto=['Il2ra','Ifngr1','Il7r','Il2rg','Il12rb2','Il18r1','Il18rap','Il1rl1', 'Il2rb','Il6st','Il10ra','Il10','Il12rb1','Il21r','Il21']\n",
    "migration=['Ccr2','Cxcr3','Cxcr4','Cx3cr1','S1pr1','Itga1','Itga4','Itgae','Itgb1','Itgb7','Cd44','Ly6c2','Cxcr5']\n",
    "tf=['Klf2','Lef1','Bach2','Tbx21','Tcf7','Ahr','Batf','Bcl6','Egr1','Egr2',\n",
    "'Eomes','Foxo1','Foxo3','Ikzf2','Irf4','Maf','Nfatc1','Nr4a1','Nr4a2','Nr4a3','Prdm1','Tox','Tox2']\n",
    "res=tops"
   ]
  },
  {
   "cell_type": "code",
   "execution_count": null,
   "metadata": {},
   "outputs": [],
   "source": [
    "pd.Series(mymarkers['ExhCD8Tcell']).to_csv(figdir+\"ExhCD8Tcell_genes.tsv\", sep='\\t')"
   ]
  },
  {
   "cell_type": "code",
   "execution_count": null,
   "metadata": {},
   "outputs": [],
   "source": [
    "pd.Series(inhrec).to_csv(figdir+\"inrec_genes.tsv\", sep='\\t')\n",
    "pd.Series(migration).to_csv(figdir+\"migration_genes.tsv\", sep='\\t')"
   ]
  },
  {
   "cell_type": "code",
   "execution_count": null,
   "metadata": {},
   "outputs": [],
   "source": [
    "adata.obs=adata.obs.drop(columns='res_c6')\n",
    "tmp.obs=tmp.obs.drop(columns='res_c6')"
   ]
  },
  {
   "cell_type": "code",
   "execution_count": null,
   "metadata": {},
   "outputs": [],
   "source": [
    "sc.tl.score_genes(adata,gene_list=inhrec,score_name='inhrec_l')\n",
    "sc.tl.score_genes(adata,gene_list=eff,score_name='eff_l')\n",
    "sc.tl.score_genes(adata,gene_list=costim,score_name='costim_l')\n",
    "sc.tl.score_genes(adata,gene_list=cyto,score_name='cyto_l')\n",
    "sc.tl.score_genes(adata,gene_list=migration,score_name='migration_l')\n",
    "sc.tl.score_genes(adata,gene_list=tf,score_name='tf_l')\n",
    "sc.tl.score_genes(adata,gene_list=res,score_name='res_c6')"
   ]
  },
  {
   "cell_type": "code",
   "execution_count": null,
   "metadata": {},
   "outputs": [],
   "source": [
    "sc.tl.score_genes(tmp,gene_list=inhrec,score_name='inhrec_l')\n",
    "sc.tl.score_genes(tmp,gene_list=eff,score_name='eff_l')\n",
    "sc.tl.score_genes(tmp,gene_list=costim,score_name='costim_l')\n",
    "sc.tl.score_genes(tmp,gene_list=cyto,score_name='cyto_l')\n",
    "sc.tl.score_genes(tmp,gene_list=migration,score_name='migration_l')\n",
    "sc.tl.score_genes(tmp,gene_list=tf,score_name='tf_l')\n",
    "sc.tl.score_genes(tmp,gene_list=res,score_name='res_c6')"
   ]
  },
  {
   "cell_type": "code",
   "execution_count": null,
   "metadata": {},
   "outputs": [],
   "source": [
    "sc.pl.matrixplot(toplot, var_names=inhrec+eff+costim+cyto, \n",
    "                 categories_order=['naive','resource','effmem','effcytotox','effexh'],\n",
    "                 groupby='celltype_simple',standard_scale='var')"
   ]
  },
  {
   "cell_type": "code",
   "execution_count": null,
   "metadata": {},
   "outputs": [],
   "source": [
    "sc.pl.matrixplot(toplot, var_names=migration+tf, \n",
    "                 categories_order=['naive','resource','effmem','effcytotox','effexh'],\n",
    "                 groupby='celltype_simple',standard_scale='var')"
   ]
  },
  {
   "cell_type": "code",
   "execution_count": null,
   "metadata": {},
   "outputs": [],
   "source": [
    "sc.pl.matrixplot(toplot, var_names=tops, \n",
    "                 categories_order=['naive','resource','effmem','effcytotox','effexh'],\n",
    "                 groupby='celltype_simple',standard_scale='var')"
   ]
  },
  {
   "cell_type": "code",
   "execution_count": null,
   "metadata": {},
   "outputs": [],
   "source": [
    "adata.write(results_file)"
   ]
  },
  {
   "cell_type": "code",
   "execution_count": null,
   "metadata": {},
   "outputs": [],
   "source": [
    "pd1plus=tmp[tmp.raw[:,'PD1_Pdcd1'].X>0.5].copy()\n",
    "pd1plus=pd1plus[pd1plus.raw[:,'Pdcd1'].X>0].copy()"
   ]
  },
  {
   "cell_type": "code",
   "execution_count": null,
   "metadata": {},
   "outputs": [],
   "source": [
    "sc.pl.umap(pd1plus,color='celltype_simple')"
   ]
  },
  {
   "cell_type": "code",
   "execution_count": null,
   "metadata": {},
   "outputs": [],
   "source": [
    "sc.pl.dotplot(tmp, var_names=goiext, dendrogram=True, \n",
    "                 groupby='treatment_id')"
   ]
  },
  {
   "cell_type": "code",
   "execution_count": null,
   "metadata": {},
   "outputs": [],
   "source": [
    "sc.pl.dotplot(tmp,var_names=goi,\n",
    "              categories_order=coiorder,dot_max=0.5, groupby='celltype_simple')"
   ]
  },
  {
   "cell_type": "code",
   "execution_count": null,
   "metadata": {},
   "outputs": [],
   "source": [
    "sc.pl.dotplot(tmp,var_names=goi,dot_max=0.6, groupby='celltype_treatment', dendrogram=True)"
   ]
  },
  {
   "cell_type": "code",
   "execution_count": null,
   "metadata": {},
   "outputs": [],
   "source": [
    "sc.pl.dotplot(adata[adata.obs['leiden'].isin(cls)], categories_order=cls,var_names=goi, groupby='leiden')"
   ]
  },
  {
   "cell_type": "code",
   "execution_count": null,
   "metadata": {},
   "outputs": [],
   "source": [
    "\n",
    "\n",
    "sns.clustermap(subtabMeansllim.loc[cls,['score_CytotoxCD8Tcell_scanpy','score_EMCD8Tcell_scanpy','score_ExhCD8Tcell_scanpy','score_resourceCD8Tcell_scanpy','score_NaiCD8Tcell_scanpy','score_ProlifCD8Tcell_scanpy',\n",
    "                                   'score_CD4_scanpy','score_CD8_scanpy',\n",
    "                                   'score_Ifna_scanpy']],col_cluster=False,row_cluster=False,figsize=(5,12), \n",
    "               standard_scale=1,\n",
    "               vmin=-0.5, vmax=1)"
   ]
  },
  {
   "cell_type": "code",
   "execution_count": null,
   "metadata": {},
   "outputs": [],
   "source": [
    "set(tmp.obs['celltype_simple'])"
   ]
  },
  {
   "cell_type": "code",
   "execution_count": null,
   "metadata": {},
   "outputs": [],
   "source": [
    "#toplot=tmp[tmp.obs['treatment_id'].isin(['PD1',\n",
    "# 'PD1-IL2v',\n",
    "# 'FAP-IL2v_PD1'])].copy()\n",
    "toplot=tmp.copy()\n",
    "toplot=toplot[toplot.obs['celltype_simple'].isin(['effexh', 'effcytotox','effmem'])].copy()\n",
    "toplot2=toplot[toplot.obs['treatment_id'].isin(['PD1-IL2v','FAP-IL2v_PD1','PD1'])].copy()"
   ]
  },
  {
   "cell_type": "code",
   "execution_count": null,
   "metadata": {},
   "outputs": [],
   "source": [
    "subtabm=toplot2.obs.loc[:,['res_c6','migration_l','cyto_l','eff_l','inhrec_l','Memory_j','Effector_j','Resource_j','Exhausted_j','Activation_Yost','Exhaustion_Yost', 'score_ExhCD8Tcell_scanpy','score_ProlifCD8Tcell_scanpy','sample_id','celltype_simple']].copy()\n",
    "\n",
    "subtab=toplot.obs.loc[:,['res_c6','migration_l','cyto_l','eff_l','inhrec_l','Memory_j','Effector_j','Resource_j','Exhausted_j','Activation_Yost','Exhaustion_Yost', 'score_ExhCD8Tcell_scanpy','score_ProlifCD8Tcell_scanpy','sample_id','treatment_id']].copy()\n",
    "subtabl=toplot.obs.loc[:,['res_c6','migration_l','cyto_l','eff_l','inhrec_l','Memory_j','Effector_j','Resource_j','Exhausted_j','Activation_Yost','Exhaustion_Yost', 'score_ExhCD8Tcell_scanpy','score_resourceCD8Tcell_scanpy',\n",
    "                         'score_resourceCD8Tcellext_scanpy','resourceCD8Tcell_UP','resourceCD8Tcell_DOWN',\n",
    "                         'score_NaiCD8Tcell_scanpy','score_Ifna_scanpy','score_Th17_scanpy','score_RegTcell_scanpy',\n",
    "                         'score_ProlifCD8Tcell_scanpy','score_Myeloid_scanpy','sample_id','leiden']].copy()\n",
    "\n",
    "#adata.obs.loc[:,['leiden','celltype']]\n",
    "\n",
    "subtabMeans=subtab.groupby('sample_id').mean()\n"
   ]
  },
  {
   "cell_type": "code",
   "execution_count": null,
   "metadata": {},
   "outputs": [],
   "source": [
    "subtabMeans['Treat']=[x.split(\"_tum\")[0] for x in list(subtabMeans.index)]\n",
    "\n",
    "subtabMeansl=subtabl.groupby(['sample_id', 'leiden']).mean()\n",
    "subtabMeansl['Treat']=[x[0].split(\"_tum\")[0] for x in list(subtabMeansl.index)]\n",
    "subtabMeansl['cluster']=[x[1] for x in list(subtabMeansl.index)]\n",
    "\n",
    "subtabMeansM=subtabm.groupby(['sample_id', 'celltype_simple']).mean()\n",
    "subtabMeansM['Treat']=[x[0].split(\"_tum\")[0] for x in list(subtabMeansM.index)]\n",
    "subtabMeansM['celltype']=[x[1] for x in list(subtabMeansM.index)]\n"
   ]
  },
  {
   "cell_type": "code",
   "execution_count": null,
   "metadata": {},
   "outputs": [],
   "source": [
    "treatcol={}\n",
    "treatcol['Vehicle']=list(tmp.uns['treatment_id_colors'])[4]\n",
    "treatcol['PD1']=list(tmp.uns['treatment_id_colors'])[2]\n",
    "treatcol['PD1-IL2v']=list(tmp.uns['treatment_id_colors'])[3]\n",
    "treatcol['FAP-IL2v']=list(tmp.uns['treatment_id_colors'])[0]\n",
    "treatcol['FAP-IL2v_PD1']=list(tmp.uns['treatment_id_colors'])[1]"
   ]
  },
  {
   "cell_type": "code",
   "execution_count": null,
   "metadata": {},
   "outputs": [],
   "source": [
    "treatcol2={}\n",
    "treatcol2['naive']=list(tmp.uns['celltype_simple_colors'])[4]\n",
    "treatcol2['resource']=list(tmp.uns['celltype_simple_colors'])[2]\n",
    "treatcol2['effcytotox']=list(tmp.uns['celltype_simple_colors'])[3]\n",
    "treatcol2['effmem']=list(tmp.uns['celltype_simple_colors'])[0]\n",
    "treatcol2['effexh']=list(tmp.uns['celltype_simple_colors'])[1]"
   ]
  },
  {
   "cell_type": "code",
   "execution_count": null,
   "metadata": {},
   "outputs": [],
   "source": [
    "subtabMeansM.to_csv(figdir+\"Signatures_per_CelltypeAndTreatment_eff.tsv\", sep='\\t')"
   ]
  },
  {
   "cell_type": "code",
   "execution_count": null,
   "metadata": {},
   "outputs": [],
   "source": [
    "subtabMeans.to_csv(figdir+\"Signatures_per_Treatment_eff.tsv\", sep='\\t')"
   ]
  },
  {
   "cell_type": "code",
   "execution_count": null,
   "metadata": {},
   "outputs": [],
   "source": [
    "sns.set(rc={'figure.figsize':(2,1.25)})\n",
    "sns.set_style(\"white\")\n",
    "\n",
    "plt.figure()\n",
    "sns.boxplot(x=\"res_c6\",y=\"celltype\",data=subtabMeansM, palette=treatcol2)\n",
    "#sns.swarmplot(x=\"res_c6\",y=\"celltype\",data=subtabMeansM, hue='Treat')\n",
    "sns.swarmplot(x=\"res_c6\",y=\"celltype\",data=subtabMeansM, color='black')\n",
    "plt.savefig(figdir+\"Boxplot-res_c6_celltypes.pdf\")"
   ]
  },
  {
   "cell_type": "code",
   "execution_count": null,
   "metadata": {},
   "outputs": [],
   "source": [
    "sns.set(rc={'figure.figsize':(3.5,2.5)})\n",
    "sns.set_style(\"white\")\n",
    "\n",
    "plt.figure()\n",
    "sns.boxplot(x=\"res_c6\",y=\"Treat\",data=subtabMeans, palette=treatcol, \n",
    "                order=['Vehicle','FAP-IL2v','PD1-IL2v','FAP-IL2v_PD1','PD1'])\n",
    "sns.swarmplot(x=\"res_c6\",y=\"Treat\",data=subtabMeans,\n",
    "              order=['Vehicle','FAP-IL2v','PD1-IL2v','FAP-IL2v_PD1','PD1'], color='black')\n",
    "plt.savefig(figdir+\"Boxplot-res_c6_effexh_CD8.pdf\")"
   ]
  },
  {
   "cell_type": "code",
   "execution_count": null,
   "metadata": {},
   "outputs": [],
   "source": [
    "sns.set(rc={'figure.figsize':(2,1.25)})\n",
    "sns.set_style(\"white\")\n",
    "\n",
    "plt.figure()\n",
    "sns.boxplot(x=\"res_c6\",y=\"Treat\",data=subtabMeans.loc[subtabMeans['Treat'].isin(['PD1-IL2v','FAP-IL2v_PD1','PD1']),:], palette=treatcol, \n",
    "                order=['PD1-IL2v','FAP-IL2v_PD1','PD1'])\n",
    "sns.swarmplot(x=\"res_c6\",y=\"Treat\",data=subtabMeans.loc[subtabMeans['Treat'].isin(['PD1-IL2v','FAP-IL2v_PD1','PD1']),:],\n",
    "              order=['PD1-IL2v','FAP-IL2v_PD1','PD1'], color='black')\n",
    "plt.savefig(figdir+\"Boxplot-res_c6_3Tonly.pdf\")"
   ]
  },
  {
   "cell_type": "code",
   "execution_count": null,
   "metadata": {},
   "outputs": [],
   "source": [
    "sns.set(rc={'figure.figsize':(2,1.25)})\n",
    "sns.set_style(\"white\")\n",
    "\n",
    "plt.figure()\n",
    "sns.boxplot(x=\"score_ExhCD8Tcell_scanpy\",y=\"celltype\",data=subtabMeansM, palette=treatcol2)\n",
    "sns.swarmplot(x=\"score_ExhCD8Tcell_scanpy\",y=\"celltype\",data=subtabMeansM, color='black')\n",
    "#sns.swarmplot(x=\"score_ExhCD8Tcell_scanpy\",y=\"celltype\",data=subtabMeansM, hue='Treat')\n",
    "plt.savefig(figdir+\"Boxplot-score_ExhCD8Tcell_scanpy_celltypes.pdf\")"
   ]
  },
  {
   "cell_type": "code",
   "execution_count": null,
   "metadata": {},
   "outputs": [],
   "source": [
    "sns.set(rc={'figure.figsize':(3.5,2.5)})\n",
    "sns.set_style(\"white\")\n",
    "\n",
    "plt.figure()\n",
    "sns.boxplot(x=\"score_ExhCD8Tcell_scanpy\",y=\"Treat\",data=subtabMeans, palette=treatcol, \n",
    "                order=['Vehicle','FAP-IL2v','PD1-IL2v','FAP-IL2v_PD1','PD1'])\n",
    "sns.swarmplot(x=\"score_ExhCD8Tcell_scanpy\",y=\"Treat\",data=subtabMeans,\n",
    "              order=['Vehicle','FAP-IL2v','PD1-IL2v','FAP-IL2v_PD1','PD1'], color='black')\n",
    "plt.savefig(figdir+\"Boxplot-score_ExhCD8Tcell_scanpy_effexh_CD8.pdf\")"
   ]
  },
  {
   "cell_type": "code",
   "execution_count": null,
   "metadata": {},
   "outputs": [],
   "source": [
    "sns.set(rc={'figure.figsize':(2,1.25)})\n",
    "sns.set_style(\"white\")\n",
    "\n",
    "plt.figure()\n",
    "sns.boxplot(x=\"score_ExhCD8Tcell_scanpy\",y=\"Treat\",data=subtabMeans.loc[subtabMeans['Treat'].isin(['PD1-IL2v','FAP-IL2v_PD1','PD1']),:], palette=treatcol, \n",
    "                order=['PD1-IL2v','FAP-IL2v_PD1','PD1'])\n",
    "sns.swarmplot(x=\"score_ExhCD8Tcell_scanpy\",y=\"Treat\",data=subtabMeans.loc[subtabMeans['Treat'].isin(['PD1-IL2v','FAP-IL2v_PD1','PD1']),:],\n",
    "              order=['PD1-IL2v','FAP-IL2v_PD1','PD1'], color='black')\n",
    "plt.savefig(figdir+\"Boxplot-score_ExhCD8Tcell_scanpy_3Tonly.pdf\")"
   ]
  },
  {
   "cell_type": "code",
   "execution_count": null,
   "metadata": {},
   "outputs": [],
   "source": [
    "sns.set(rc={'figure.figsize':(3.5,2.5)})\n",
    "sns.set_style(\"white\")\n",
    "\n",
    "plt.figure()\n",
    "sns.boxplot(x=\"Memory_j\",y=\"Treat\",data=subtabMeans, palette=treatcol, \n",
    "                order=['Vehicle','FAP-IL2v','PD1-IL2v','FAP-IL2v_PD1','PD1'])\n",
    "sns.swarmplot(x=\"Memory_j\",y=\"Treat\",data=subtabMeans,\n",
    "              order=['Vehicle','FAP-IL2v','PD1-IL2v','FAP-IL2v_PD1','PD1'], color='black')\n",
    "plt.savefig(figdir+\"Boxplot-Memory_j.pdf\")"
   ]
  },
  {
   "cell_type": "code",
   "execution_count": null,
   "metadata": {},
   "outputs": [],
   "source": [
    "sns.set(rc={'figure.figsize':(3.5,2.5)})\n",
    "sns.set_style(\"white\")\n",
    "\n",
    "plt.figure()\n",
    "sns.boxplot(x=\"migration_l\",y=\"Treat\",data=subtabMeans, palette=treatcol, \n",
    "                order=['Vehicle','FAP-IL2v','PD1-IL2v','FAP-IL2v_PD1','PD1'])\n",
    "sns.swarmplot(x=\"migration_l\",y=\"Treat\",data=subtabMeans,\n",
    "              order=['Vehicle','FAP-IL2v','PD1-IL2v','FAP-IL2v_PD1','PD1'], color='black')\n",
    "plt.savefig(figdir+\"Boxplot-migration_l.pdf\")"
   ]
  },
  {
   "cell_type": "code",
   "execution_count": null,
   "metadata": {},
   "outputs": [],
   "source": [
    "sns.set(rc={'figure.figsize':(2,1.25)})\n",
    "sns.set_style(\"white\")\n",
    "\n",
    "plt.figure()\n",
    "sns.boxplot(x=\"migration_l\",y=\"celltype\",data=subtabMeansM, palette=treatcol2)\n",
    "sns.swarmplot(x=\"migration_l\",y=\"celltype\",data=subtabMeansM, color='black')\n",
    "#sns.swarmplot(x=\"migration_l\",y=\"celltype\",data=subtabMeansM, hue='Treat')\n",
    "plt.savefig(figdir+\"Boxplot-migration_l_celltypes.pdf\")"
   ]
  },
  {
   "cell_type": "code",
   "execution_count": null,
   "metadata": {},
   "outputs": [],
   "source": [
    "sns.set(rc={'figure.figsize':(2,1.25)})\n",
    "sns.set_style(\"white\")\n",
    "\n",
    "plt.figure()\n",
    "sns.boxplot(x=\"migration_l\",y=\"Treat\",data=subtabMeans.loc[subtabMeans['Treat'].isin(['PD1-IL2v','FAP-IL2v_PD1','PD1']),:], palette=treatcol, \n",
    "                order=['PD1-IL2v','FAP-IL2v_PD1','PD1'])\n",
    "sns.swarmplot(x=\"migration_l\",y=\"Treat\",data=subtabMeans.loc[subtabMeans['Treat'].isin(['PD1-IL2v','FAP-IL2v_PD1','PD1']),:],\n",
    "              order=['PD1-IL2v','FAP-IL2v_PD1','PD1'], color='black')\n",
    "plt.savefig(figdir+\"Boxplot-migration_l_3Tonly.pdf\")"
   ]
  },
  {
   "cell_type": "code",
   "execution_count": null,
   "metadata": {},
   "outputs": [],
   "source": [
    "sns.set(rc={'figure.figsize':(3.5,2.5)})\n",
    "sns.set_style(\"white\")\n",
    "\n",
    "plt.figure()\n",
    "sns.boxplot(x=\"inhrec_l\",y=\"Treat\",data=subtabMeans, palette=treatcol, \n",
    "                order=['Vehicle','FAP-IL2v','PD1-IL2v','FAP-IL2v_PD1','PD1'])\n",
    "sns.swarmplot(x=\"inhrec_l\",y=\"Treat\",data=subtabMeans,\n",
    "              order=['Vehicle','FAP-IL2v','PD1-IL2v','FAP-IL2v_PD1','PD1'], color='black')\n",
    "plt.savefig(figdir+\"Boxplot-inhrec_l.pdf\")"
   ]
  },
  {
   "cell_type": "code",
   "execution_count": null,
   "metadata": {},
   "outputs": [],
   "source": [
    "sns.set(rc={'figure.figsize':(2,1.25)})\n",
    "sns.set_style(\"white\")\n",
    "\n",
    "plt.figure()\n",
    "sns.boxplot(x=\"inhrec_l\",y=\"celltype\",data=subtabMeansM, palette=treatcol2)\n",
    "sns.swarmplot(x=\"inhrec_l\",y=\"celltype\",data=subtabMeansM, color='black')\n",
    "#sns.swarmplot(x=\"migration_l\",y=\"celltype\",data=subtabMeansM, hue='Treat')\n",
    "plt.savefig(figdir+\"Boxplot-inhrec_l_celltypes.pdf\")"
   ]
  },
  {
   "cell_type": "code",
   "execution_count": null,
   "metadata": {},
   "outputs": [],
   "source": [
    "sns.set(rc={'figure.figsize':(2,1.25)})\n",
    "sns.set_style(\"white\")\n",
    "\n",
    "plt.figure()\n",
    "sns.boxplot(x=\"inhrec_l\",y=\"Treat\",data=subtabMeans.loc[subtabMeans['Treat'].isin(['PD1-IL2v','FAP-IL2v_PD1','PD1']),:], palette=treatcol, \n",
    "                order=['PD1-IL2v','FAP-IL2v_PD1','PD1'])\n",
    "sns.swarmplot(x=\"inhrec_l\",y=\"Treat\",data=subtabMeans.loc[subtabMeans['Treat'].isin(['PD1-IL2v','FAP-IL2v_PD1','PD1']),:],\n",
    "              order=['PD1-IL2v','FAP-IL2v_PD1','PD1'], color='black')\n",
    "plt.savefig(figdir+\"Boxplot-inhrec_l_3Tonly.pdf\")"
   ]
  },
  {
   "cell_type": "code",
   "execution_count": null,
   "metadata": {},
   "outputs": [],
   "source": [
    "sns.set(rc={'figure.figsize':(3.5,2.5)})\n",
    "sns.set_style(\"white\")\n",
    "\n",
    "plt.figure()\n",
    "sns.boxplot(x=\"eff_l\",y=\"Treat\",data=subtabMeans, palette=treatcol, \n",
    "                order=['Vehicle','FAP-IL2v','PD1-IL2v','FAP-IL2v_PD1','PD1'])\n",
    "sns.swarmplot(x=\"eff_l\",y=\"Treat\",data=subtabMeans,\n",
    "              order=['Vehicle','FAP-IL2v','PD1-IL2v','FAP-IL2v_PD1','PD1'], color='black')\n",
    "plt.savefig(figdir+\"Boxplot-eff_l.pdf\")"
   ]
  },
  {
   "cell_type": "code",
   "execution_count": null,
   "metadata": {},
   "outputs": [],
   "source": [
    "sns.set(rc={'figure.figsize':(3.5,2.5)})\n",
    "sns.set_style(\"white\")\n",
    "\n",
    "plt.figure()\n",
    "sns.boxplot(x=\"cyto_l\",y=\"Treat\",data=subtabMeans, palette=treatcol, \n",
    "                order=['Vehicle','FAP-IL2v','PD1-IL2v','FAP-IL2v_PD1','PD1'])\n",
    "sns.swarmplot(x=\"cyto_l\",y=\"Treat\",data=subtabMeans,\n",
    "              order=['Vehicle','FAP-IL2v','PD1-IL2v','FAP-IL2v_PD1','PD1'], color='black')\n",
    "plt.savefig(figdir+\"Boxplot-cyto_l.pdf\")"
   ]
  },
  {
   "cell_type": "code",
   "execution_count": null,
   "metadata": {},
   "outputs": [],
   "source": [
    "sns.set(rc={'figure.figsize':(2,1.25)})\n",
    "sns.set_style(\"white\")\n",
    "\n",
    "plt.figure()\n",
    "sns.boxplot(x=\"eff_l\",y=\"celltype\",data=subtabMeansM, palette=treatcol2)\n",
    "sns.swarmplot(x=\"eff_l\",y=\"celltype\",data=subtabMeansM, color='black')\n",
    "#sns.swarmplot(x=\"migration_l\",y=\"celltype\",data=subtabMeansM, hue='Treat')\n",
    "plt.savefig(figdir+\"Boxplot-eff_l_celltypes.pdf\")"
   ]
  },
  {
   "cell_type": "code",
   "execution_count": null,
   "metadata": {},
   "outputs": [],
   "source": [
    "sns.set(rc={'figure.figsize':(3.5,2.5)})\n",
    "sns.set_style(\"white\")\n",
    "\n",
    "plt.figure()\n",
    "sns.boxplot(x=\"Exhausted_j\",y=\"Treat\",data=subtabMeans, palette=treatcol, \n",
    "                order=['Vehicle','FAP-IL2v','PD1-IL2v','FAP-IL2v_PD1','PD1'])\n",
    "sns.swarmplot(x=\"Exhausted_j\",y=\"Treat\",data=subtabMeans,\n",
    "              order=['Vehicle','FAP-IL2v','PD1-IL2v','FAP-IL2v_PD1','PD1'], color='black')\n",
    "plt.savefig(figdir+\"Boxplot-Exhausted_j.pdf\")"
   ]
  },
  {
   "cell_type": "code",
   "execution_count": null,
   "metadata": {},
   "outputs": [],
   "source": [
    "sns.boxplot(x=\"score_ProlifCD8Tcell_scanpy\",y=\"Treat\",data=subtabMeans)\n",
    "sns.swarmplot(x=\"score_ProlifCD8Tcell_scanpy\",y=\"Treat\",data=subtabMeans, color='black')"
   ]
  },
  {
   "cell_type": "code",
   "execution_count": null,
   "metadata": {},
   "outputs": [],
   "source": [
    "\n",
    "#figdir\n",
    "\n",
    "\n",
    "fig=sns.clustermap(subtabMeansl.groupby('cluster').mean(), standard_scale=1, col_cluster=False,figsize=(6,10))\n",
    "#fig.savefig(figdir+\"Heatmap-signatures-resourceFocus.png\")"
   ]
  },
  {
   "cell_type": "code",
   "execution_count": null,
   "metadata": {},
   "outputs": [],
   "source": [
    "tosel=['res_c6','migration_l', 'cyto_l', 'eff_l', 'inhrec_l', \n",
    "       'score_ExhCD8Tcell_scanpy', 'score_ProlifCD8Tcell_scanpy', 'Treat']"
   ]
  },
  {
   "cell_type": "code",
   "execution_count": null,
   "metadata": {},
   "outputs": [],
   "source": [
    "fig=sns.clustermap(subtabMeansl.loc[:,tosel].groupby('Treat').mean(), standard_scale=1, col_cluster=False,figsize=(5,4))\n",
    "fig.savefig(figdir+\"Heatmap_signatures_effexh_CD8.pdf\")"
   ]
  },
  {
   "cell_type": "code",
   "execution_count": null,
   "metadata": {},
   "outputs": [],
   "source": [
    "sc.settings.set_figure_params()"
   ]
  },
  {
   "cell_type": "code",
   "execution_count": null,
   "metadata": {},
   "outputs": [],
   "source": [
    "sc.pl.umap(tmp[tmp.obs['treatment_id'].isin(['PD1',  'FAP-IL2v_PD1', 'PD1-IL2v'])], \n",
    "           color=['migration_l', 'inhrec_l'], \n",
    "           color_map='viridis', vmin=-0.5, vmax=1, save='-signatures-selclusters_3Tonly.pdf')"
   ]
  },
  {
   "cell_type": "code",
   "execution_count": null,
   "metadata": {},
   "outputs": [],
   "source": [
    "sc.pl.umap(tmp[tmp.obs['treatment_id'].isin(['PD1',  'FAP-IL2v_PD1', 'PD1-IL2v'])], \n",
    "           color=['Il7r', 'Havcr2','Pdcd1'], \n",
    "           color_map='viridis', save='-Il7r_Havcr2_Pdcd1-selclusters_3Tonly.pdf')"
   ]
  },
  {
   "cell_type": "code",
   "execution_count": null,
   "metadata": {},
   "outputs": [],
   "source": [
    "sc.pl.umap(tmp[tmp.obs['treatment_id'].isin(['PD1',  'FAP-IL2v_PD1', 'PD1-IL2v'])], \n",
    "           color=['Sell', 'CD62L_Sell'], vmin=0,\n",
    "           color_map='viridis', save='-Sell-selclusters_3Tonly.pdf')"
   ]
  },
  {
   "cell_type": "code",
   "execution_count": null,
   "metadata": {},
   "outputs": [],
   "source": [
    "sc.pl.umap(tmp[tmp.obs['treatment_id'].isin(['PD1',  'FAP-IL2v_PD1', 'PD1-IL2v'])], \n",
    "           color=gzmesall, \n",
    "           color_map='viridis', save='-Gzmesall-selclusters_3Tonly.pdf')"
   ]
  },
  {
   "cell_type": "code",
   "execution_count": null,
   "metadata": {},
   "outputs": [],
   "source": [
    "gzmessel"
   ]
  },
  {
   "cell_type": "code",
   "execution_count": null,
   "metadata": {},
   "outputs": [],
   "source": [
    "sc.pl.umap(tmp[tmp.obs['treatment_id'].isin(['PD1',  'FAP-IL2v_PD1', 'PD1-IL2v'])], \n",
    "           color='Gzms', vmax=3,\n",
    "           color_map='viridis', save='-GzmesSig-Gzma-b-c-f-selclusters_3Tonly.pdf')"
   ]
  },
  {
   "cell_type": "code",
   "execution_count": null,
   "metadata": {},
   "outputs": [],
   "source": [
    "sc.pl.umap(adata, color=['celltype1','celltype2','dblabel','celltype'],ncols=1)"
   ]
  },
  {
   "cell_type": "code",
   "execution_count": null,
   "metadata": {},
   "outputs": [],
   "source": [
    "set(adata[adata.obs['celltype'].isin(['fresh effector CD8-positive, alpha-beta T cell'])].obs['leiden'])"
   ]
  },
  {
   "cell_type": "code",
   "execution_count": null,
   "metadata": {},
   "outputs": [],
   "source": [
    "### Save labelling celltype1\n",
    "adata = bc.st.additional_labeling(adata, 'celltype1', 'celltype1', 'Major cell types', annot_author, results_folder)\n",
    "\n",
    "### Save labelling celltype1\n",
    "adata = bc.st.additional_labeling(adata, 'celltype2', 'celltype2', 'Intermediate cell types', annot_author, results_folder)\n",
    "\n",
    "\n",
    "### Save labelling dblabel used as reference\n",
    "adata = bc.st.additional_labeling(adata, 'dblabel', 'dblabel', 'Cell types attributed according to CL nomenclature, based on own annotation (celltype3)', annot_author, results_folder)\n",
    "\n",
    "### Save labelling celltype1\n",
    "adata = bc.st.additional_labeling(adata, 'celltype', 'celltype', 'Manually annotated cell types', annot_author, results_folder)\n",
    "\n"
   ]
  },
  {
   "cell_type": "markdown",
   "metadata": {},
   "source": [
    "### Follow-up analyses for marker generation and inspecting the annotation"
   ]
  },
  {
   "cell_type": "markdown",
   "metadata": {},
   "source": [
    "#### Cell-centered analysis"
   ]
  },
  {
   "cell_type": "code",
   "execution_count": null,
   "metadata": {},
   "outputs": [],
   "source": [
    "### Breakdown of cell types per experiment (sample)\n",
    "bc.pl.celllabel_quant_stackedbar(adata, count_variable='celltype3', subset_variable = 'sample_id');\n"
   ]
  },
  {
   "cell_type": "code",
   "execution_count": null,
   "metadata": {},
   "outputs": [],
   "source": [
    "### Breakdown of cell types per experiment (sample)\n",
    "bc.pl.celllabel_quant_stackedbar(adata, count_variable='celltype', subset_variable = 'sample_id');\n"
   ]
  },
  {
   "cell_type": "code",
   "execution_count": null,
   "metadata": {},
   "outputs": [],
   "source": [
    "### Breakdown of cell types per experiment (sample)\n",
    "bc.pl.celllabel_quant_stackedbar(adata, count_variable='celltype', subset_variable = 'treatment_id');\n"
   ]
  },
  {
   "cell_type": "markdown",
   "metadata": {},
   "source": [
    "In case two annotation versions are present, one can perfom a riverplot to compare"
   ]
  },
  {
   "cell_type": "code",
   "execution_count": null,
   "metadata": {},
   "outputs": [],
   "source": [
    "bc.pl.riverplot_2categories(adata, ['celltype','treatment_id'])"
   ]
  },
  {
   "cell_type": "code",
   "execution_count": null,
   "metadata": {},
   "outputs": [],
   "source": [
    "bc.pl.riverplot_2categories(adata, ['celltype','dblabel'])"
   ]
  },
  {
   "cell_type": "markdown",
   "metadata": {},
   "source": [
    "#### Gene-centered analysis"
   ]
  },
  {
   "cell_type": "markdown",
   "metadata": {},
   "source": [
    "If one is interested in new markers, one can perform DE at the cell type annotation level of choice. Markers can then also be exported to a .gmtx file for subsequent import into GeMS (signatureDB), following specific conventions. "
   ]
  },
  {
   "cell_type": "code",
   "execution_count": null,
   "metadata": {},
   "outputs": [],
   "source": [
    "export_sigs=False\n",
    "if export_sigs:\n",
    "    ### Metadata setup for cell type signatures\n",
    "    User=author\n",
    "    Source='internal scseq'  \n",
    "    Subtype='all' # or healthy, onc, ...\n",
    "    domain='cell marker'\n",
    "    studyID='mongodb-study-id' # replace with your studyID\n",
    "    analysisID=analysis_name\n",
    "    genesetname=studyID+'_dblabel'\n",
    "    suffix='_model_user' # replace with specific info, e.g. _mc38_pcs\n",
    "    signature_dict={}"
   ]
  },
  {
   "cell_type": "code",
   "execution_count": null,
   "metadata": {},
   "outputs": [],
   "source": [
    "### Perform DE cells of each celltype3 vs. all other cells\n",
    "DEgenes=bc.tl.dge.get_de(adata,'celltype',demethod='wilcoxon',topnr=5000, logfc=1,padj=0.05)"
   ]
  },
  {
   "cell_type": "code",
   "execution_count": null,
   "metadata": {},
   "outputs": [],
   "source": [
    "DEgenes.keys()"
   ]
  },
  {
   "cell_type": "markdown",
   "metadata": {},
   "source": [
    "##### Example 1: resource T cells"
   ]
  },
  {
   "cell_type": "code",
   "execution_count": null,
   "metadata": {},
   "outputs": [],
   "source": [
    "### Select only top 15 genes (in order of p-val) for 2 cell types and plot expression per cell type\n",
    "coi='resource CD8-positive, alpha-beta T cell' # full dblabel\n",
    "tops=list(DEgenes[coi].sort_values('Log2FC',ascending=False)['Name'][0:35])\n",
    "sc.pl.dotplot(adata, var_names=tops,groupby='celltype')"
   ]
  },
  {
   "cell_type": "markdown",
   "metadata": {},
   "source": [
    "###### Example 2: fresh effector T cells"
   ]
  },
  {
   "cell_type": "code",
   "execution_count": null,
   "metadata": {},
   "outputs": [],
   "source": [
    "### Select only top 15 genes (in order of p-val) for 2 cell types and plot expression per cell type\n",
    "coi='fresh effector CD8-positive, alpha-beta T cell' # full dblabel\n",
    "tops=list(DEgenes[coi].sort_values('Log2FC',ascending=False)['Name'][0:35])\n",
    "sc.pl.dotplot(adata, var_names=tops,groupby='celltype')"
   ]
  },
  {
   "cell_type": "markdown",
   "metadata": {},
   "source": [
    "##### Further examples"
   ]
  },
  {
   "cell_type": "code",
   "execution_count": null,
   "metadata": {},
   "outputs": [],
   "source": [
    "### Select only top 15 genes (in order of p-val) for 2 cell types and plot expression per cell type\n",
    "coi='better T effector CD8-positive, alpha-beta T cell' # full dblabel\n",
    "tops=list(DEgenes[coi].sort_values('Log2FC',ascending=False)['Name'][0:35])\n",
    "sc.pl.dotplot(adata, var_names=tops,groupby='celltype')"
   ]
  },
  {
   "cell_type": "code",
   "execution_count": null,
   "metadata": {},
   "outputs": [],
   "source": [
    "### Select only top 15 genes (in order of p-val) for 2 cell types and plot expression per cell type\n",
    "coi='terminally exhausted CD8-positive, alpha-beta T cell' # full dblabel\n",
    "tops=list(DEgenes[coi].sort_values('Log2FC',ascending=False)['Name'][0:35])\n",
    "sc.pl.dotplot(adata, var_names=tops,groupby='celltype')"
   ]
  },
  {
   "cell_type": "code",
   "execution_count": null,
   "metadata": {},
   "outputs": [],
   "source": [
    "### Select only top 15 genes (in order of p-val) for 2 cell types and plot expression per cell type\n",
    "coi='CCL3-positive effector CD8-positive, alpha-beta T cell' # full dblabel\n",
    "tops=list(DEgenes[coi].sort_values('Log2FC',ascending=False)['Name'][0:35])\n",
    "sc.pl.dotplot(adata, var_names=tops,groupby='celltype')"
   ]
  },
  {
   "cell_type": "code",
   "execution_count": null,
   "metadata": {},
   "outputs": [],
   "source": [
    "### Export sigs if relevant \n",
    "if export_sigs:\n",
    "    outgmtfile=results_folder+'/Celltypemarkers.gmtx'\n",
    "    bc.tl.sig.write_gmtx_forgems(signature_dict, outgmtfile)"
   ]
  },
  {
   "cell_type": "markdown",
   "metadata": {},
   "source": [
    "If one is interested in additional markers correlated with the marker of interest, \n",
    "one can caculated the spearman correlation. "
   ]
  },
  {
   "cell_type": "code",
   "execution_count": null,
   "metadata": {},
   "outputs": [],
   "source": [
    "import scipy.stats as ss\n",
    "import operator\n",
    "\n",
    "allmarkers=adata.var_names\n",
    "\n",
    "spearcorsAll = {}\n",
    "for i in allmarkers:\n",
    "    spearcorsAll[i]=ss.spearmanr(adata.raw[:, i].X.todense(),adata.raw[:,'CXCR5_Cxcr5'].X.todense())[0]\n",
    "\n",
    "\n",
    "spearcorsAll=sorted(spearcorsAll.items(),key=operator.itemgetter(1))\n",
    "spearcorsAll_ids = [idx for idx, val in spearcorsAll]\n",
    "goiNegAll=spearcorsAll_ids[0:30]\n",
    "goiPosAll=spearcorsAll_ids[(len(spearcorsAll_ids)-30):len(spearcorsAll_ids)]"
   ]
  },
  {
   "cell_type": "code",
   "execution_count": null,
   "metadata": {},
   "outputs": [],
   "source": [
    "goiPosAll=spearcorsAll_ids[(len(spearcorsAll_ids)-30):len(spearcorsAll_ids)]"
   ]
  },
  {
   "cell_type": "code",
   "execution_count": null,
   "metadata": {},
   "outputs": [],
   "source": [
    "sc.pl.dotplot(adata, var_names=goiPosAll,groupby='celltype')"
   ]
  },
  {
   "cell_type": "code",
   "execution_count": null,
   "metadata": {},
   "outputs": [],
   "source": [
    "sc.pl.dotplot(adata, var_names=goiPosAll,groupby='leiden')"
   ]
  },
  {
   "cell_type": "markdown",
   "metadata": {},
   "source": [
    "### Read clonality (analysed with vdj-scirpy-pub) for a quick check"
   ]
  },
  {
   "cell_type": "code",
   "execution_count": null,
   "metadata": {},
   "outputs": [],
   "source": [
    "vdata=sc.read('sw_besca_24_final-vdj.h5ad')"
   ]
  },
  {
   "cell_type": "code",
   "execution_count": null,
   "metadata": {},
   "outputs": [],
   "source": [
    "vdata.obs.columns"
   ]
  },
  {
   "cell_type": "code",
   "execution_count": null,
   "metadata": {},
   "outputs": [],
   "source": [
    "subdata=adata[adata.obs['CELL'][adata.obs['CELL'].isin(vdata.obs['CELL'])]].copy()"
   ]
  },
  {
   "cell_type": "code",
   "execution_count": null,
   "metadata": {},
   "outputs": [],
   "source": [
    "vdata[adata.obs['CELL'][adata.obs['CELL'].isin(vdata.obs['CELL'])].index].obs"
   ]
  },
  {
   "cell_type": "code",
   "execution_count": null,
   "metadata": {},
   "outputs": [],
   "source": [
    "subdata.obs['clonal_expansion']=vdata[adata.obs['CELL'][adata.obs['CELL'].isin(vdata.obs['CELL'])].index].obs['clonal_expansion']\n",
    "subdata.obs['clone_id']=vdata[adata.obs['CELL'][adata.obs['CELL'].isin(vdata.obs['CELL'])].index].obs['clone_id']\n",
    "subdata.obs['chain_pairing']=vdata[adata.obs['CELL'][adata.obs['CELL'].isin(vdata.obs['CELL'])].index].obs['chain_pairing']\n",
    "subdata.obs['clone_id_size']=vdata[adata.obs['CELL'][adata.obs['CELL'].isin(vdata.obs['CELL'])].index].obs['clone_id_size']\n",
    "subdata.obs['alpha_diversity_clone_id']=vdata[adata.obs['CELL'][adata.obs['CELL'].isin(vdata.obs['CELL'])].index].obs['alpha_diversity_clone_id']\n",
    "subdata.obs['alpha_diversity_ind_leiden']=vdata[adata.obs['CELL'][adata.obs['CELL'].isin(vdata.obs['CELL'])].index].obs['alpha_diversity_ind_leiden']\n"
   ]
  },
  {
   "cell_type": "code",
   "execution_count": null,
   "metadata": {},
   "outputs": [],
   "source": [
    "subdata.obs['clone_id_size_log1p']=list(np.log1p(vdata[adata.obs['CELL'][adata.obs['CELL'].isin(vdata.obs['CELL'])].index].obs['clone_id_size']))\n"
   ]
  },
  {
   "cell_type": "code",
   "execution_count": null,
   "metadata": {},
   "outputs": [],
   "source": [
    "metadata=pd.read_csv('raw/metadata.tsv', sep='\\t')\n",
    "metadata.index=list(metadata['CELL'])\n",
    "for x in ['chain_pairing','clone_id_size','clone_id','clone_id_size_log1p','clonal_expansion','alpha_diversity_clone_id','alpha_diversity_ind_leiden']:\n",
    "    metadata[x]=None\n",
    "    tmp=metadata[x].copy()\n",
    "    metadata.loc[subdata.obs.index,:][x]=list(subdata.obs[x])\n",
    "    tmp[subdata.obs.index]=list(subdata.obs[x])\n",
    "    metadata[x]=list(tmp)\n",
    "metadata.to_csv('raw/metadata_ext.tsv',sep='\\t', index=False)\n",
    "    "
   ]
  },
  {
   "cell_type": "code",
   "execution_count": null,
   "metadata": {},
   "outputs": [],
   "source": [
    "metadata=pd.read_csv('citeseq/citeseq/normalized_counts/metadata.tsv', sep='\\t')\n",
    "metadata.index=list(metadata['CELL'])\n",
    "for x in ['chain_pairing','clone_id_size','clone_id','clone_id_size_log1p','clonal_expansion','alpha_diversity_clone_id','alpha_diversity_ind_leiden']:\n",
    "    metadata[x]=None\n",
    "    tmp=metadata[x].copy()\n",
    "    metadata.loc[subdata.obs.index,:][x]=list(subdata.obs[x])\n",
    "    tmp[subdata.obs.index]=list(subdata.obs[x])\n",
    "    metadata[x]=list(tmp)\n",
    "metadata.to_csv('citeseq/citeseq/normalized_counts/metadata_ext.tsv',sep='\\t', index=False)\n"
   ]
  },
  {
   "cell_type": "code",
   "execution_count": null,
   "metadata": {},
   "outputs": [],
   "source": []
  },
  {
   "cell_type": "code",
   "execution_count": null,
   "metadata": {},
   "outputs": [],
   "source": [
    "sc.settings.set_figure_params()\n",
    "sc.pl.umap(subdata, color=[\"chain_pairing\"])"
   ]
  },
  {
   "cell_type": "code",
   "execution_count": null,
   "metadata": {},
   "outputs": [],
   "source": [
    "sc.pl.umap(subdata, color=[\"clone_id_size\"], vmax=5,color_map='viridis')"
   ]
  },
  {
   "cell_type": "code",
   "execution_count": null,
   "metadata": {},
   "outputs": [],
   "source": [
    "sc.pl.umap(subdata, color=[\"clone_id_size\"], vmax=50,color_map='viridis')"
   ]
  },
  {
   "cell_type": "code",
   "execution_count": null,
   "metadata": {},
   "outputs": [],
   "source": [
    "sc.pl.umap(subdata, color=[\"clone_id_size\"], vmax=200,color_map='viridis')"
   ]
  },
  {
   "cell_type": "code",
   "execution_count": null,
   "metadata": {},
   "outputs": [],
   "source": [
    "tmps=subdata[subdata.obs['leiden'].isin(cls)].copy()"
   ]
  },
  {
   "cell_type": "code",
   "execution_count": null,
   "metadata": {},
   "outputs": [],
   "source": [
    "sc.pl.umap(tmps[tmps.obs['treatment_id'].isin(['FAP-IL2v_PD1','PD1','PD1-IL2v'])], \n",
    "           color=[\"clone_id_size_log1p\"],color_map='viridis', save='Clone_id_size_log1p_selclusters_3Tonly.pdf')"
   ]
  },
  {
   "cell_type": "code",
   "execution_count": null,
   "metadata": {},
   "outputs": [],
   "source": [
    "sc.pl.umap(subdata, color=[\"clone_id_size\"],color_map='viridis')"
   ]
  },
  {
   "cell_type": "code",
   "execution_count": null,
   "metadata": {},
   "outputs": [],
   "source": [
    "subtab=subdata.obs.loc[:,['clone_id_size','sample_id','treatment_id','leiden','celltype_simple']].copy()\n"
   ]
  },
  {
   "cell_type": "code",
   "execution_count": null,
   "metadata": {},
   "outputs": [],
   "source": [
    "subtabMeans=subtab.groupby(['sample_id', 'celltype_simple']).mean()\n",
    "subtabMeans['Treat']=[x[0].split(\"_tum\")[0] for x in list(subtabMeans.index)]\n",
    "subtabMeans['cluster']=[x[1] for x in list(subtabMeans.index)]\n",
    "#subtabMeans['sample_id']=[x[0] for x in list(subtabMeans.index)]\n",
    "subtabMeans['clone_id_size_log']=np.log10(subtabMeans['clone_id_size'])"
   ]
  },
  {
   "cell_type": "code",
   "execution_count": null,
   "metadata": {},
   "outputs": [],
   "source": [
    "subtabMeans"
   ]
  },
  {
   "cell_type": "code",
   "execution_count": null,
   "metadata": {},
   "outputs": [],
   "source": [
    "subtabMeans.to_csv(figdir+\"CloneIDSize_per_CelltypeAndTreatment_eff.tsv\", sep='\\t')"
   ]
  },
  {
   "cell_type": "code",
   "execution_count": null,
   "metadata": {},
   "outputs": [],
   "source": [
    "tmp=subtabMeans.groupby('cluster').mean()\n",
    "#tmp.index=[x+ '-' +subtabanno.loc[subtabanno['celltype_simple']==x,:]['celltype'][0] for x in list(tmp.index)]\n"
   ]
  },
  {
   "cell_type": "code",
   "execution_count": null,
   "metadata": {},
   "outputs": [],
   "source": [
    "tmp"
   ]
  },
  {
   "cell_type": "code",
   "execution_count": null,
   "metadata": {},
   "outputs": [],
   "source": []
  },
  {
   "cell_type": "code",
   "execution_count": null,
   "metadata": {},
   "outputs": [],
   "source": [
    "\n",
    "fig=sns.clustermap(tmp['clone_id_size_log'].loc[['naive','resource','effcytotox','effmem','effexh']],\n",
    "                   col_cluster=False,row_cluster=False,\n",
    "                   figsize=(0.75,2.5))\n",
    "fig.savefig(figdir+\"Heatmap-clone_id_size_log.pdf\")"
   ]
  },
  {
   "cell_type": "code",
   "execution_count": null,
   "metadata": {},
   "outputs": [],
   "source": [
    "subtabMeans"
   ]
  },
  {
   "cell_type": "code",
   "execution_count": null,
   "metadata": {},
   "outputs": [],
   "source": [
    "subtabMeans.groupby(['sample_id']).mean().to_csv(figdir+\"CloneIDSize_per_Treatment.tsv\", sep='\\t')"
   ]
  },
  {
   "cell_type": "code",
   "execution_count": null,
   "metadata": {},
   "outputs": [],
   "source": [
    "sorted_index_desc = subtabMeans.groupby('cluster').mean()['clone_id_size_log'].sort_values(ascending=False).index\n"
   ]
  },
  {
   "cell_type": "code",
   "execution_count": null,
   "metadata": {},
   "outputs": [],
   "source": [
    "\n",
    "sns.set(rc={'figure.figsize':(6,6)})\n",
    "sns.set_style('ticks')\n",
    "sns.boxplot(x=\"clone_id_size_log\",y=\"cluster\",data=subtabMeans, order=sorted_index_desc, color='lightgray')\n",
    "sns.swarmplot(x=\"clone_id_size_log\",y=\"cluster\",hue='Treat',data=subtabMeans, order=sorted_index_desc)"
   ]
  },
  {
   "cell_type": "code",
   "execution_count": null,
   "metadata": {},
   "outputs": [],
   "source": [
    "subtabMeans=subtab.groupby(['sample_id']).mean()\n",
    "subtabMeans['Treat']=[x.split(\"_tum\")[0] for x in list(subtabMeans.index)]\n",
    "subtabMeans['clone_id_size_log']=np.log10(subtabMeans['clone_id_size'])"
   ]
  },
  {
   "cell_type": "code",
   "execution_count": null,
   "metadata": {},
   "outputs": [],
   "source": [
    "sns.set(rc={'figure.figsize':(4,3)})\n",
    "sns.set_style('ticks')\n",
    "sns.boxplot(x=\"clone_id_size_log\",y=\"Treat\",data=subtabMeans)\n",
    "sns.swarmplot(x=\"clone_id_size_log\",y=\"Treat\",data=subtabMeans, color='black')\n",
    "plt.savefig(figdir+'CloneID_per_treatment.pdf')"
   ]
  },
  {
   "cell_type": "code",
   "execution_count": null,
   "metadata": {},
   "outputs": [],
   "source": [
    "sns.set(rc={'figure.figsize':(3,2)})\n",
    "sns.set_style('ticks')\n",
    "sns.boxplot(x=\"clone_id_size_log\",y=\"Treat\",data=subtabMeans.loc[subtabMeans['Treat'].isin(['FAP-IL2v_PD1','PD1','PD1-IL2v']),:])\n",
    "sns.swarmplot(x=\"clone_id_size_log\",y=\"Treat\",data=subtabMeans.loc[subtabMeans['Treat'].isin(['FAP-IL2v_PD1','PD1','PD1-IL2v']),:], color='black')\n",
    "plt.savefig(figdir+'CloneID_per_treatment_3Tonly.pdf')"
   ]
  },
  {
   "cell_type": "markdown",
   "metadata": {},
   "source": [
    "### Convert to html"
   ]
  },
  {
   "cell_type": "code",
   "execution_count": null,
   "metadata": {},
   "outputs": [],
   "source": [
    "%%javascript\n",
    "\n",
    "IPython.notebook.kernel.execute('nb_name = \"' + IPython.notebook.notebook_name + '\"')"
   ]
  },
  {
   "cell_type": "code",
   "execution_count": null,
   "metadata": {},
   "outputs": [],
   "source": [
    "nb_name = os.path.join(os.getcwd(), nb_name)"
   ]
  },
  {
   "cell_type": "code",
   "execution_count": null,
   "metadata": {},
   "outputs": [],
   "source": [
    "! jupyter nbconvert --to html {nb_name}"
   ]
  },
  {
   "cell_type": "code",
   "execution_count": null,
   "metadata": {},
   "outputs": [],
   "source": []
  }
 ],
 "metadata": {
  "kernelspec": {
   "display_name": "besca24_dev",
   "language": "python",
   "name": "besca24_dev"
  },
  "language_info": {
   "codemirror_mode": {
    "name": "ipython",
    "version": 3
   },
   "file_extension": ".py",
   "mimetype": "text/x-python",
   "name": "python",
   "nbconvert_exporter": "python",
   "pygments_lexer": "ipython3",
   "version": "3.8.12"
  },
  "toc-autonumbering": false,
  "toc-showcode": false,
  "toc-showmarkdowntxt": false,
  "toc-showtags": false
 },
 "nbformat": 4,
 "nbformat_minor": 4
}
