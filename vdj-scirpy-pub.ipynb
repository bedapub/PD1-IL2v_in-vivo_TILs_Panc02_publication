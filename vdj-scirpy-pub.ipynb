{
 "cells": [
  {
   "cell_type": "markdown",
   "id": "alternative-implementation",
   "metadata": {},
   "source": [
    "# VDJ analysis\n",
    "\n",
    "This workbook examines T cell receptor diversity using [scirpy](https://github.com/icbi-lab/scirpy). It is heavily based on the [scirpy tutorial](https://icbi-lab.github.io/scirpy/latest/tutorials/tutorial_3k_tcr.html). For more information on the used terms, please see scirpy provided [glossary](https://icbi-lab.github.io/scirpy/latest/glossary.html). "
   ]
  },
  {
   "cell_type": "code",
   "execution_count": null,
   "id": "senior-length",
   "metadata": {},
   "outputs": [],
   "source": [
    "%load_ext autoreload\n",
    "%autoreload 2\n",
    "import anndata\n",
    "\n",
    "anndata.logging.anndata_logger.addFilter(\n",
    "    lambda r: not r.getMessage().startswith(\"storing\")\n",
    "    and r.getMessage().endswith(\"as categorical.\")\n",
    ")\n"
   ]
  },
  {
   "cell_type": "code",
   "execution_count": null,
   "id": "toxic-listing",
   "metadata": {},
   "outputs": [],
   "source": [
    "import numpy as np\n",
    "import os\n",
    "import besca as bc\n",
    "import seaborn as sns\n",
    "import matplotlib.pyplot as plt\n",
    "get_ipython().magic(u'matplotlib inline')"
   ]
  },
  {
   "cell_type": "code",
   "execution_count": null,
   "id": "accepting-mainland",
   "metadata": {},
   "outputs": [],
   "source": [
    "import scirpy as ir\n",
    "import scanpy as sc\n",
    "from glob import glob\n",
    "import pandas as pd\n",
    "import tarfile\n",
    "import anndata\n",
    "import warnings\n",
    "\n",
    "sc.set_figure_params(figsize=(4, 4))\n",
    "sc.settings.verbosity = 2  # verbosity: errors (0), warnings (1), info (2), hints (3)\n"
   ]
  },
  {
   "cell_type": "code",
   "execution_count": null,
   "id": "altered-crack",
   "metadata": {},
   "outputs": [],
   "source": [
    "analysis_name='sw_besca_24_final'\n",
    "\n",
    "root_path = os.getcwd()\n",
    "# Load the associated transcriptomics data\n",
    "\n",
    "results_folder = os.path.join(root_path, 'analyzed')\n",
    "results_folder = os.path.join(results_folder, analysis_name, 'citeseq' , 'citeseq')\n",
    "\n",
    "### Create export file and folder names\n",
    "results_file = os.path.join(results_folder, analysis_name + '.annotated.h5ad')\n",
    "results_file = 'analyzed/'+analysis_name+'/'+ analysis_name + '.h5ad'\n",
    "adata=sc.read(results_file)\n",
    "figdir=os.path.join(root_path, 'analyzed', analysis_name+'/figures/')\n",
    "sc.settings.figdir = figdir\n",
    "if not os.path.exists(figdir):\n",
    "    os.makedirs(figdir)"
   ]
  },
  {
   "cell_type": "markdown",
   "id": "simple-agriculture",
   "metadata": {},
   "source": [
    "#### Add the annotation from individual analysis"
   ]
  },
  {
   "cell_type": "code",
   "execution_count": null,
   "id": "excellent-tunnel",
   "metadata": {},
   "outputs": [],
   "source": [
    "results_folder_tu=os.path.join(root_path,'analyzed',analysis_name,'citeseq' , 'citeseq')\n",
    "results_folder_velo=os.path.join(root_path ,'analyzed',analysis_name)\n",
    "\n",
    "results_file_tu = os.path.join(results_folder_tu, analysis_name + '.annotated.h5ad')\n",
    "results_file_tu_paga = os.path.join(results_folder_velo, analysis_name + '.paga.h5ad')\n"
   ]
  },
  {
   "cell_type": "code",
   "execution_count": null,
   "id": "square-boston",
   "metadata": {},
   "outputs": [],
   "source": [
    "tudata=sc.read(results_file_tu)\n"
   ]
  },
  {
   "cell_type": "code",
   "execution_count": null,
   "id": "stopped-aruba",
   "metadata": {},
   "outputs": [],
   "source": [
    "adata=tudata.copy()"
   ]
  },
  {
   "cell_type": "code",
   "execution_count": null,
   "id": "olive-daniel",
   "metadata": {},
   "outputs": [],
   "source": [
    "sc.pl.umap(adata, color=['leiden', 'celltype_simple'], legend_loc='on data')"
   ]
  },
  {
   "cell_type": "code",
   "execution_count": null,
   "id": "intermediate-kernel",
   "metadata": {},
   "outputs": [],
   "source": [
    "x='o25301_1_041-20210628_Sample_1_TCR o25301_1_042-20210628_Sample_2_TCR o25301_1_043-20210628_Sample_3_TCR o25301_1_044-20210628_Sample_4_TCR o25301_1_045-20210628_Sample_5_TCR o25301_1_046-20210628_Sample_6_TCR o25301_1_047-20210628_Sample_7_TCR o25301_1_048-20210628_Sample_8_TCR o25301_1_049-20210628_Sample_9_TCR o25301_1_050-20210628_Sample_10_TCR o25301_1_051-20210628_Sample_11_TCR o25301_1_052-20210628_Sample_12_TCR o25301_1_054-20210628_Sample_14_TCR o25301_1_055-20210628_Sample_15_TCR o25301_1_056-20210628_Sample_16_TCR o25301_1_058-20210628_Sample_18_TCR o25301_1_059-20210628_Sample_19_TCR o25301_1_060-20210628_Sample_20_TCR o25301_1_061-20210628_Sample_21_TCR o25301_1_062-20210628_Sample_22_TCR o25301_1_063-20210628_Sample_23_TCR o25301_1_064-20210628_Sample_24_TCR o25301_1_065-20210628_Sample_25_TCR o25301_1_066-20210628_Sample_26_TCR o25301_1_067-20210628_Sample_27_TCR o25301_1_068-20210628_Sample_28_TCR o25301_1_069-20210628_Sample_29_TCR o25301_1_070-20210628_Sample_30_TCR o25301_1_071-20210628_Sample_31_TCR o25301_1_072-20210628_Sample_32_TCR o25301_1_073-20210628_Sample_33_TCR o25301_1_074-20210628_Sample_34_TCR o25301_1_075-20210628_Sample_35_TCR o25301_1_076-20210628_Sample_36_TCR o25301_1_077-20210628_Sample_37_TCR o25301_1_078-20210628_Sample_38_TCR o25301_1_079-20210628_Sample_39_TCR o25301_1_080-20210628_Sample_40_TCR'\n",
    "\n",
    "mynames=x.split(' ')\n",
    "mynamesa=[y.split('-')[1].split(\"_TCR\")[0] for y in x.split(' ')]"
   ]
  },
  {
   "cell_type": "code",
   "execution_count": null,
   "id": "extended-tourism",
   "metadata": {},
   "outputs": [],
   "source": [
    "tomap=[ 'IR_VJ_1_sequence', 'IR_VJ_2_sequence',\n",
    "       'IR_VDJ_1_sequence', 'IR_VDJ_2_sequence', 'IR_VJ_1_sequence_aa',\n",
    "       'IR_VJ_2_sequence_aa', 'IR_VDJ_1_sequence_aa', 'IR_VDJ_2_sequence_aa']\n",
    "toinc=('productive', 'locus', 'v_call', 'd_call', 'j_call', 'c_call', 'junction', 'junction_aa', 'consensus_count', 'duplicate_count','is_cell', 'sequence','sequence_aa')\n",
    "inpath='cellranger/vdj/'\n",
    "j=0\n",
    "adatas = []\n",
    "for i in mynames:\n",
    "    # Load the TCR data\n",
    "    adata_tcr = ir.io.read_10x_vdj(inpath+i+\"/outs/all_contig_annotations.csv\")\n",
    "    # Read the sequence information as well for later outputting the fasta sequences\n",
    "    sadata_tcr = ir.io.read_airr(inpath+i+\"/outs/airr_rearrangement.tsv\", include_fields=toinc)\n",
    "    for x in tomap:\n",
    "        adata_tcr.obs[x]=sadata_tcr.obs[x].copy()\n",
    "    subdata=adata[adata.obs['readout_id']==mynamesa[j]].copy()\n",
    "    subdata.obs.index=[x.split('.')[1] for x in list(subdata.obs.index)]\n",
    "    ir.pp.merge_with_ir(subdata, adata_tcr)\n",
    "    subdata.obs.index=adata[adata.obs['readout_id']==mynamesa[j]].obs.index\n",
    "    adatas.append(subdata)\n",
    "    j=j+1"
   ]
  },
  {
   "cell_type": "code",
   "execution_count": null,
   "id": "sonic-bracelet",
   "metadata": {},
   "outputs": [],
   "source": [
    "adata = anndata.concat(adatas)"
   ]
  },
  {
   "cell_type": "code",
   "execution_count": null,
   "id": "passing-teach",
   "metadata": {},
   "outputs": [],
   "source": [
    "sc.pl.umap(adata, color=[\"has_ir\"])"
   ]
  },
  {
   "cell_type": "code",
   "execution_count": null,
   "id": "specific-current",
   "metadata": {},
   "outputs": [],
   "source": [
    "ir.tl.chain_qc(adata)"
   ]
  },
  {
   "cell_type": "code",
   "execution_count": null,
   "id": "moving-equivalent",
   "metadata": {},
   "outputs": [],
   "source": [
    "ax = ir.pl.group_abundance(adata, groupby=\"receptor_subtype\", target_col=\"tissue\")"
   ]
  },
  {
   "cell_type": "code",
   "execution_count": null,
   "id": "selective-exception",
   "metadata": {},
   "outputs": [],
   "source": [
    "ax = ir.pl.group_abundance(adata, groupby=\"celltype_simple\", target_col=\"receptor_subtype\",figsize=(14, 5))"
   ]
  },
  {
   "cell_type": "code",
   "execution_count": null,
   "id": "remarkable-bearing",
   "metadata": {},
   "outputs": [],
   "source": [
    "ax = ir.pl.group_abundance(adata, groupby=\"treatment_id\", target_col=\"receptor_subtype\")"
   ]
  },
  {
   "cell_type": "code",
   "execution_count": null,
   "id": "perceived-hamilton",
   "metadata": {},
   "outputs": [],
   "source": [
    "\n",
    "ax = ir.pl.group_abundance(adata, groupby=\"sample_id\", target_col=\"receptor_subtype\",figsize=(14, 5))"
   ]
  },
  {
   "cell_type": "code",
   "execution_count": null,
   "id": "thick-maldives",
   "metadata": {},
   "outputs": [],
   "source": [
    "ax = ir.pl.group_abundance(adata, groupby=\"readout_id\", target_col=\"receptor_subtype\",figsize=(14, 5))"
   ]
  },
  {
   "cell_type": "code",
   "execution_count": null,
   "id": "ancient-response",
   "metadata": {},
   "outputs": [],
   "source": [
    "ax = ir.pl.group_abundance(adata, groupby=\"chain_pairing\", target_col=\"treatment_id\")"
   ]
  },
  {
   "cell_type": "code",
   "execution_count": null,
   "id": "silent-mechanism",
   "metadata": {},
   "outputs": [],
   "source": [
    "print(\n",
    "    \"Fraction of cells with more than one pair of TCRs: {:.2f}\".format(\n",
    "        np.sum(\n",
    "            adata.obs[\"chain_pairing\"].isin(\n",
    "                [\"extra VJ\", \"extra VDJ\", \"two full chains\"]\n",
    "            )\n",
    "        )\n",
    "        / adata.n_obs\n",
    "    )\n",
    ")"
   ]
  },
  {
   "cell_type": "code",
   "execution_count": null,
   "id": "requested-master",
   "metadata": {},
   "outputs": [],
   "source": [
    "sc.pl.umap(adata, color=\"chain_pairing\")"
   ]
  },
  {
   "cell_type": "code",
   "execution_count": null,
   "id": "confirmed-adelaide",
   "metadata": {},
   "outputs": [],
   "source": [
    "alldata=adata.copy()"
   ]
  },
  {
   "cell_type": "code",
   "execution_count": null,
   "id": "happy-youth",
   "metadata": {},
   "outputs": [],
   "source": [
    "#adata = adata[adata.obs[\"chain_pairing\"] != \"multichain\", :].copy()"
   ]
  },
  {
   "cell_type": "code",
   "execution_count": null,
   "id": "indoor-upgrade",
   "metadata": {},
   "outputs": [],
   "source": [
    "adata = adata[~adata.obs[\"chain_pairing\"].isin([\"orphan VDJ\", \"orphan VJ\"]), :].copy()"
   ]
  },
  {
   "cell_type": "code",
   "execution_count": null,
   "id": "golden-velvet",
   "metadata": {},
   "outputs": [],
   "source": [
    "adata = adata[~adata.obs[\"chain_pairing\"].isin([\"no IR\"]), :].copy()"
   ]
  },
  {
   "cell_type": "code",
   "execution_count": null,
   "id": "obvious-terrace",
   "metadata": {},
   "outputs": [],
   "source": [
    "ax = ir.pl.group_abundance(adata, groupby=\"chain_pairing\", target_col=\"treatment_id\")"
   ]
  },
  {
   "cell_type": "markdown",
   "id": "classical-aspect",
   "metadata": {},
   "source": [
    "## Explore clonotypes per treatment and cell population "
   ]
  },
  {
   "cell_type": "markdown",
   "id": "disciplinary-mainland",
   "metadata": {},
   "source": [
    "#### First: clonotypes based on nt-sequence identity (clonotypes aka cells with identical CDR3 sequence)"
   ]
  },
  {
   "cell_type": "code",
   "execution_count": null,
   "id": "canadian-smooth",
   "metadata": {},
   "outputs": [],
   "source": [
    "# using default parameters, `ir_dist` will compute nucleotide sequence identity\n",
    "ir.pp.ir_dist(adata)\n",
    "ir.tl.define_clonotypes(adata, receptor_arms=\"all\", dual_ir=\"primary_only\")"
   ]
  },
  {
   "cell_type": "code",
   "execution_count": null,
   "id": "desirable-marijuana",
   "metadata": {},
   "outputs": [],
   "source": [
    "ir.tl.clonotype_network(adata, min_cells=10) ### change min_cells parameter for more stringent/lenient results"
   ]
  },
  {
   "cell_type": "code",
   "execution_count": null,
   "id": "becoming-summit",
   "metadata": {},
   "outputs": [],
   "source": [
    "il2vdata=adata[adata.obs['treatment_id']=='FAP-IL2v'].copy()\n",
    "pd1data=adata[adata.obs['treatment_id']=='PD1'].copy()\n",
    "pd1fapil2vdata=adata[adata.obs['treatment_id']=='FAP-IL2v_PD1'].copy()\n",
    "pd1il2vdata=adata[adata.obs['treatment_id']=='PD1-IL2v'].copy()\n",
    "vehdata=adata[adata.obs['treatment_id']=='Vehicle'].copy()"
   ]
  },
  {
   "cell_type": "code",
   "execution_count": null,
   "id": "agreed-theorem",
   "metadata": {},
   "outputs": [],
   "source": [
    "tu=adata.copy()"
   ]
  },
  {
   "cell_type": "code",
   "execution_count": null,
   "id": "backed-holiday",
   "metadata": {},
   "outputs": [],
   "source": [
    "nai=adata[adata.obs['celltype_simple']=='naive'].copy()\n",
    "res=adata[adata.obs['celltype_simple']=='resource'].copy()\n",
    "effcytotox=adata[adata.obs['celltype_simple']=='effcytotox'].copy()\n",
    "effmem=adata[adata.obs['celltype_simple']=='effmem'].copy()\n",
    "effexh=adata[adata.obs['celltype_simple']=='effexh'].copy()\n",
    "eff=adata[adata.obs['celltype_simple'].isin(['effmem','effcytotox','effexh'])].copy()"
   ]
  },
  {
   "cell_type": "code",
   "execution_count": null,
   "id": "laden-darkness",
   "metadata": {},
   "outputs": [],
   "source": []
  },
  {
   "cell_type": "markdown",
   "id": "broad-tension",
   "metadata": {},
   "source": [
    "In these plots, each dot represents cells with identical receptor configurations (CDR3)"
   ]
  },
  {
   "cell_type": "code",
   "execution_count": null,
   "id": "fossil-plaintiff",
   "metadata": {},
   "outputs": [],
   "source": [
    "ir.pl.clonotype_network(\n",
    "    nai, color=\"treatment_id\", base_size=7, label_fontsize=7, panel_size=(12, 12)\n",
    ")"
   ]
  },
  {
   "cell_type": "code",
   "execution_count": null,
   "id": "eastern-arrival",
   "metadata": {},
   "outputs": [],
   "source": [
    "ir.pl.clonotype_network(\n",
    "    res, color=\"treatment_id\", base_size=7, label_fontsize=7, panel_size=(12, 12)\n",
    ")"
   ]
  },
  {
   "cell_type": "code",
   "execution_count": null,
   "id": "based-blink",
   "metadata": {},
   "outputs": [],
   "source": [
    "ir.pl.clonotype_network(\n",
    "    effcytotox, color=\"treatment_id\", base_size=7, label_fontsize=7, panel_size=(12, 12)\n",
    ")"
   ]
  },
  {
   "cell_type": "code",
   "execution_count": null,
   "id": "economic-hebrew",
   "metadata": {},
   "outputs": [],
   "source": [
    "ir.pl.clonotype_network(\n",
    "    effmem, color=\"treatment_id\", base_size=7, label_fontsize=7, panel_size=(12, 12)\n",
    ")"
   ]
  },
  {
   "cell_type": "code",
   "execution_count": null,
   "id": "numeric-eugene",
   "metadata": {},
   "outputs": [],
   "source": [
    "ir.pl.clonotype_network(\n",
    "    effexh, color=\"treatment_id\", base_size=7, label_fontsize=7, panel_size=(12, 12)\n",
    ")"
   ]
  },
  {
   "cell_type": "code",
   "execution_count": null,
   "id": "virgin-banking",
   "metadata": {},
   "outputs": [],
   "source": [
    "ir.pl.clonotype_network(\n",
    "    eff, color=\"treatment_id\", base_size=7, label_fontsize=7, panel_size=(12, 12)\n",
    ")"
   ]
  },
  {
   "cell_type": "code",
   "execution_count": null,
   "id": "sacred-plastic",
   "metadata": {},
   "outputs": [],
   "source": [
    "ir.pl.clonotype_network(\n",
    "    adata, color=\"celltype_simple\", base_size=7, label_fontsize=6, panel_size=(12, 12)\n",
    ")"
   ]
  },
  {
   "cell_type": "markdown",
   "id": "catholic-giant",
   "metadata": {},
   "source": [
    "#### Plot where clones most likely originate from "
   ]
  },
  {
   "cell_type": "markdown",
   "id": "particular-bryan",
   "metadata": {},
   "source": [
    "* If we select better T effector clones, what % of them do we also find in other clusters, Per treatments? \n",
    "* Loop across clusters and find % present; LN and Tumor"
   ]
  },
  {
   "cell_type": "code",
   "execution_count": null,
   "id": "composed-above",
   "metadata": {},
   "outputs": [],
   "source": [
    "alldata=alldata[alldata.obs['celltype_simple'].isin(['naive','resource','effcytotox','effmem','effexh'])].copy()"
   ]
  },
  {
   "cell_type": "code",
   "execution_count": null,
   "id": "mental-malaysia",
   "metadata": {},
   "outputs": [],
   "source": [
    "padata=adata[adata.obs['celltype_simple'].isin(['naive','resource','effcytotox','effmem','effexh'])].copy()\n",
    "initialsubset='Tcells'"
   ]
  },
  {
   "cell_type": "code",
   "execution_count": null,
   "id": "stuffed-moisture",
   "metadata": {},
   "outputs": [],
   "source": [
    "from matplotlib_venn import venn2, venn2_circles, venn2_unweighted\n",
    "from matplotlib_venn import venn3, venn3_circles\n",
    "from matplotlib import pyplot as plt"
   ]
  },
  {
   "cell_type": "code",
   "execution_count": null,
   "id": "instant-render",
   "metadata": {},
   "outputs": [],
   "source": [
    "list(set(padata.obs['celltype_simple']))"
   ]
  },
  {
   "cell_type": "code",
   "execution_count": null,
   "id": "invalid-cradle",
   "metadata": {},
   "outputs": [],
   "source": [
    "sc.set_figure_params(figsize=(4, 4))"
   ]
  },
  {
   "cell_type": "code",
   "execution_count": null,
   "id": "soviet-spine",
   "metadata": {},
   "outputs": [],
   "source": [
    "sc.pl.umap(tstdata, color='celltype_simple')"
   ]
  },
  {
   "cell_type": "code",
   "execution_count": null,
   "id": "systematic-sampling",
   "metadata": {},
   "outputs": [],
   "source": [
    "sc.pl.umap(alldata[((alldata.obs['treatment_id']==treat))], color='celltype_simple')"
   ]
  },
  {
   "cell_type": "code",
   "execution_count": null,
   "id": "statewide-culture",
   "metadata": {},
   "outputs": [],
   "source": [
    "cella='effcytotox'\n",
    "cellaname='effcytotox'\n",
    "mlorigin={}\n",
    "myfract={}\n",
    "myfract10={}\n",
    "mydiv={}\n",
    "nmydiv={}\n",
    "meanclones={}\n",
    "medianclones={}\n",
    "mytot={}\n",
    "for treat in ['Vehicle','PD1','PD1-IL2v', 'FAP-IL2v','FAP-IL2v_PD1']:\n",
    "#for treat in ['Vehicle']:    \n",
    "    \n",
    "    tstdata=padata[padata.obs['treatment_id']==treat].copy()\n",
    "    #sdata=sc.pp.subsample(padata[padata.obs['treatment_id']==treat].copy(), n_obs=3500, random_state=0, copy=True)\n",
    "    tmpdata=padata.obs.loc[padata.obs['treatment_id']==treat,['celltype_simple','clone_id','clone_id_size']].copy()\n",
    "    myids=list(set(tmpdata.loc[tmpdata['celltype_simple']==cella,'clone_id']))\n",
    "    #tmpdata=tmpdata.loc[tmpdata['tissue']=='pancreas',:]\n",
    "    pertype={}\n",
    "    for x in myids:\n",
    "        pertype[x]=tmpdata.loc[tmpdata['clone_id']==x,:].value_counts('celltype_simple')\n",
    "    pertype=pd.DataFrame(pertype)\n",
    "    mlorigin[treat]=pd.Series(pertype.gt(0).sum(axis=1)/pertype.gt(0).sum(axis=1)[cella])\n",
    "        \n",
    "    nai=set(padata[((padata.obs['celltype_simple']=='naive')&(padata.obs['treatment_id']==treat))].obs['clone_id'])\n",
    "\n",
    "    #### Plot venn overlaps \n",
    "    effcytotox=set(padata[((padata.obs['celltype_simple']=='effcytotox')&(padata.obs['treatment_id']==treat))].obs['clone_id'])\n",
    "    re=set(padata[((padata.obs['celltype_simple']=='resource')&(padata.obs['treatment_id']==treat))].obs['clone_id'])\n",
    "    effexh=set(padata[((padata.obs['celltype_simple']=='effexh')&(padata.obs['treatment_id']==treat))].obs['clone_id'])\n",
    "    effmem=set(padata[((padata.obs['celltype_simple']=='effmem')&(padata.obs['treatment_id']==treat))].obs['clone_id'])\n",
    "    eff=set(padata[((padata.obs['celltype_simple'].isin(['effcytotox','effmem','effexh']))&(padata.obs['treatment_id']==treat))].obs['clone_id'])\n",
    " \n",
    "    venn3([re,effcytotox,effexh], set_labels = ('Resource', 'Eff/Cytotox', 'Eff/Exh'), alpha = 0.5,\n",
    "          set_colors=('slategrey', 'skyblue','purple'));\n",
    "    plt.title(treat)\n",
    "    plt.savefig(figdir+'TCRoverlaps_Res_EffcytotoxEffexh_'+treat+'_celltype_simple.pdf')\n",
    "    plt.show()\n",
    " \n",
    "    venn3([re,effcytotox,effmem], set_labels = ('Resource', 'Eff/Cytotox', 'Eff/Mem'), alpha = 0.5,\n",
    "          set_colors=('slategrey', 'skyblue','purple'));\n",
    "    plt.title(treat)\n",
    "    plt.savefig(figdir+'TCRoverlaps_Res_EffcytotoxEffmem_'+treat+'_celltype_simple.pdf')\n",
    "    plt.show()\n",
    "\n",
    "    venn3([re,effmem,effexh], set_labels = ('Resource', 'Eff/Mem', 'Eff/Exh'), alpha = 0.5,\n",
    "          set_colors=('slategrey', 'skyblue','purple'));\n",
    "    plt.title(treat)\n",
    "    plt.savefig(figdir+'TCRoverlaps_Res_EffmemEffexh_'+treat+'_celltype_simple.pdf')\n",
    "    plt.show()\n",
    "\n",
    "    venn2([re,eff], set_labels = ('Resource', 'Effector'), alpha = 0.5,\n",
    "          set_colors=('slategrey', 'skyblue'));\n",
    "    plt.title(treat)\n",
    "    plt.savefig(figdir+'TCRoverlaps_Res_Eff_'+treat+'_celltype_simple.pdf')\n",
    "    plt.show()\n",
    "\n",
    "    venn2([nai,eff], set_labels = ('Naive', 'Effector'), alpha = 0.5,\n",
    "          set_colors=('slategrey', 'skyblue'));\n",
    "    plt.title(treat)\n",
    "    plt.savefig(figdir+'TCRoverlaps_Nai_Eff_'+treat+'_celltype_simple.pdf')\n",
    "    plt.show()\n",
    "\n",
    "    resonly=re-eff\n",
    "    all=re.intersection(effcytotox).intersection(effmem).intersection(effexh)\n",
    "    a=re.intersection(effcytotox)-all\n",
    "    b=re.intersection(effmem)-all\n",
    "    c=re.intersection(effexh)-all\n",
    "    ab=a.intersection(b)\n",
    "    ac=a.intersection(c)\n",
    "    bc=b.intersection(c)\n",
    "    a=a-ab-ac\n",
    "    b=b-ab-bc\n",
    "    c=c-ac-bc\n",
    "\n",
    "    data=[len(resonly),len(a)+len(ab),len(b),len(c)+len(bc),len(ac),len(all)]\n",
    "    labels = ['noeff', 'cytotox|cytotox&mem', 'mem only', 'exh|exh & mem',  'cytotoxexh', 'alleff']\n",
    "\n",
    "    #define data\n",
    "\n",
    "    #define Seaborn color palette to use\n",
    "    colors = sns.color_palette('pastel')[0:7]\n",
    "\n",
    "    #create pie chart\n",
    "    plt.title(treat)\n",
    "    plt.pie(data, labels = labels, autopct='%.0f%%')\n",
    "    plt.savefig(figdir+'Pie_TCRoverlaps_'+treat+'_celltype_simple.pdf')\n",
    "    plt.show()\n",
    "\n",
    "    #create pie chart\n",
    "    plt.title(treat)\n",
    "    plt.pie(data[1:7], labels = labels[1:7], autopct='%.0f%%')\n",
    "    plt.savefig(figdir+'Pie_TCRoverlaps_shared_'+treat+'_celltype_simple.pdf')\n",
    "    plt.show()\n",
    "\n",
    "    oi=list(re.intersection(eff))\n",
    "    noi=list(eff-re)\n",
    "    \n",
    "    ntstdata=tstdata[tstdata.obs['clone_id'].isin(noi)].copy()\n",
    "    ntstdata=ntstdata[ntstdata.obs['celltype_simple'].isin(['effmem','effexh','effcytotox'])].copy()\n",
    "    \n",
    "    tstdata=tstdata[tstdata.obs['clone_id'].isin(oi)].copy()\n",
    "    tstdata=tstdata[tstdata.obs['celltype_simple'].isin(['effmem','effexh','effcytotox'])].copy()\n",
    "  \n",
    "\n",
    "    clonalitygen=tmpdata.value_counts('clone_id')\n",
    "    clonality=tmpdata.loc[(tmpdata['clone_id'].isin(oi)&tmpdata['celltype_simple'].isin(['effmem','effexh','effcytotox'])),:].value_counts('clone_id')\n",
    "    clonality=clonality[oi]\n",
    "    plt.title(treat)\n",
    "    np.log1p(clonality).hist(bins=15, density=True)\n",
    "    plt.xlabel(\"log1p(clonality)\")\n",
    "    plt.savefig(figdir+'Hist_TCRclonality_shared_'+treat+'_celltype_simple.pdf')\n",
    "    plt.show()\n",
    "    \n",
    "    reclonal=re.intersection(clonalitygen[clonalitygen>10].index)\n",
    "    renonclonal=re.intersection(clonalitygen[clonalitygen<=10].index)\n",
    "    effclonal=eff.intersection(clonalitygen[clonalitygen>10].index)\n",
    "    effnonclonal=eff.intersection(clonalitygen[clonalitygen<=10].index)\n",
    "\n",
    "    venn2([reclonal,effclonal], set_labels = ('Resource', 'Effector'), alpha = 0.5,\n",
    "          set_colors=('slategrey', 'skyblue'));\n",
    "    plt.title(treat)\n",
    "    plt.savefig(figdir+'TCRoverlaps_Res_Eff_'+treat+'_celltype_simple_clonalOnly.pdf')\n",
    "    plt.show()\n",
    "    \n",
    "    effc=len(padata[((padata.obs['celltype_simple'].isin(['effmem','effexh','effcytotox']))&(padata.obs['treatment_id']==treat)&(padata.obs['clone_id'].isin(effclonal-reclonal)))])\n",
    "    rec=len(padata[((padata.obs['celltype_simple'].isin(['resource']))&(padata.obs['treatment_id']==treat)&(padata.obs['clone_id'].isin(reclonal-effclonal)))])\n",
    "    receffc=len(padata[((padata.obs['celltype_simple'].isin(['resource']))&(padata.obs['treatment_id']==treat)&(padata.obs['clone_id'].isin(reclonal.intersection(effclonal))))])\n",
    "    \n",
    "    lenclonal=len(padata[((padata.obs['celltype_simple'].isin(['effmem','effexh','effcytotox']))&(padata.obs['treatment_id']==treat)&(padata.obs['clone_id'].isin(effclonal)))])\n",
    "    lennonclonal=len(padata[((padata.obs['celltype_simple'].isin(['effmem','effexh','effcytotox']))&(padata.obs['treatment_id']==treat)&(padata.obs['clone_id'].isin(effnonclonal)))])\n",
    "\n",
    "    lenreclonal=len(padata[((padata.obs['celltype_simple'].isin(['resource']))&(padata.obs['treatment_id']==treat)&(padata.obs['clone_id'].isin(reclonal)))])\n",
    "    lenrenonclonal=len(padata[((padata.obs['celltype_simple'].isin(['resource']))&(padata.obs['treatment_id']==treat)&(padata.obs['clone_id'].isin(renonclonal)))])\n",
    "\n",
    "    tota={}\n",
    "    tota['Total_interest']=len(padata[((padata.obs['celltype_simple'].isin(['effcytotox','effmem','effexh','resource']))&(padata.obs['treatment_id']==treat))].obs['clone_id'])\n",
    "    tota['Total_all']=len(padata[((padata.obs['treatment_id']==treat))].obs['clone_id'])\n",
    "    tota['Total_adata']=len(alldata[((alldata.obs['treatment_id']==treat))].obs['celltype_simple'])\n",
    "    tota['Total_tcrs']=len(set(padata[((padata.obs['treatment_id']==treat))].obs['clone_id']))\n",
    "    tota['ClonalReNorm']=int(rec/tota['Total_adata']*10000)\n",
    "    tota['ClonalReEffNorm']=int(receffc/tota['Total_adata']*10000)\n",
    "    tota['ClonalEffNorm']=int(effc/tota['Total_adata']*10000)\n",
    "    tota['FractionClonalEff']=lenclonal/(lenclonal+lennonclonal)\n",
    "    tota['FractionClonalRes']=lenreclonal/(lenreclonal+lenrenonclonal)\n",
    "    mytot[treat]=tota\n",
    "    \n",
    "    venn2(subsets=(int(len(re-eff)/tota['Total_adata']*10000),int(len(eff-re)/tota['Total_adata']*10000),int(len(eff.intersection(re))/tota['Total_adata']*10000)), set_labels = ('Resource', 'Effector'))\n",
    "    plt.title(treat)\n",
    "    plt.savefig(figdir+'TCRoverlaps_Res_Eff_'+treat+'_celltype_simple_relativeTo1k.pdf')\n",
    "    plt.show()\n",
    "    \n",
    "    \n",
    "    venn2(subsets=(int(len(reclonal-effclonal)/tota['Total_adata']*10000),int(len(effclonal-reclonal)/tota['Total_adata']*10000),int(len(effclonal.intersection(reclonal))/tota['Total_adata']*10000)), set_labels = ('Resource', 'Effector'))\n",
    "    plt.title(treat)\n",
    "    plt.savefig(figdir+'TCRoverlaps_Res_Eff_'+treat+'_celltype_simple_clonalOnly_relativeTo1k.pdf')\n",
    "    plt.show()\n",
    "    \n",
    "    venn2(subsets = (tota['ClonalReNorm'],  tota['ClonalEffNorm'],tota['ClonalReEffNorm']), set_labels = ('Resource', 'Effector'))\n",
    "    plt.title(treat)\n",
    "    plt.savefig(figdir+'TCRoverlaps_Res_Eff_'+treat+'_celltype_simple_cellnrs_clonalOnly_relativeTo1k.pdf')\n",
    "    plt.show()\n",
    "    ### correct for total cell nrs. \n",
    "    #clonality=clonality*5000/len(tst)\n",
    "    \n",
    "    #len(clonality[clonality==1])\n",
    "    data=[len(clonality[clonality<=2]),len(clonality[(clonality>2)&(clonality<10)]),\n",
    "    len(clonality[(clonality>=10)&(clonality<100)]),len(clonality[(clonality>=100)])]\n",
    "    labels=['1','2-9','10-100','>100']\n",
    "    #define Seaborn color palette to use\n",
    "    colors = sns.color_palette('pastel')[0:7]\n",
    "\n",
    "    ir.tl.alpha_diversity(ntstdata, groupby='sample_id', key_added='alpha_diversity_ind')\n",
    "\n",
    "    ir.tl.alpha_diversity(tstdata, groupby='sample_id', key_added='alpha_diversity_ind')\n",
    "    \n",
    "    #create pie chart\n",
    "    plt.title(treat)\n",
    "    plt.pie(data, labels = labels, autopct='%.0f%%', colors=colors)\n",
    "    #plt.savefig(figdir+'Pie_TCRoverlaps_'+treat+'_celltype_simple.pdf')\n",
    "    plt.show()\n",
    "    plt.savefig(figdir+'Pie_TCRclonality_shared_'+treat+'_celltype_simple.pdf')\n",
    "\n",
    "    eff10=set(list(clonality[clonality>=10].index))\n",
    "    \n",
    "    myfract[treat]=len(list(re.intersection(eff)))/len(list(re))\n",
    "    myfract10[treat]=len(list(re.intersection(eff10)))/len(list(re))\n",
    "    mydiv[treat]=tstdata.obs.loc[:,['alpha_diversity_ind','individual_id', 'treatment_id']].drop_duplicates()\n",
    "    nmydiv[treat]=ntstdata.obs.loc[:,['alpha_diversity_ind','individual_id', 'treatment_id']].drop_duplicates()\n",
    "    meanclones[treat]=pd.DataFrame(np.log1p(tstdata.obs.value_counts(['clone_id','individual_id'])).groupby('individual_id').mean())\n",
    "    meanclones[treat]['treatment_id']=treat\n",
    "    medianclones[treat]=pd.DataFrame(np.log1p(tstdata.obs.value_counts(['clone_id','individual_id'])).groupby('individual_id').median())\n",
    "    medianclones[treat]['treatment_id']=treat\n",
    "    print(treat+': '+str(myfract))"
   ]
  },
  {
   "cell_type": "code",
   "execution_count": null,
   "id": "reflected-attribute",
   "metadata": {},
   "outputs": [],
   "source": [
    "set(adata.obs['sample_id'])"
   ]
  },
  {
   "cell_type": "code",
   "execution_count": null,
   "id": "changed-genealogy",
   "metadata": {},
   "outputs": [],
   "source": [
    "pd.DataFrame(mytot)"
   ]
  },
  {
   "cell_type": "code",
   "execution_count": null,
   "id": "governmental-celtic",
   "metadata": {},
   "outputs": [],
   "source": [
    "effclonal=eff.intersection(clonalitygen[clonalitygen>1].index)\n",
    "effnonclonal=eff.intersection(clonalitygen[clonalitygen<=1].index)"
   ]
  },
  {
   "cell_type": "code",
   "execution_count": null,
   "id": "functional-degree",
   "metadata": {},
   "outputs": [],
   "source": [
    "efft=len(padata[((padata.obs['celltype_simple'].isin(['effmem','effexh','effcytotox']))&(padata.obs['treatment_id']==treat))])"
   ]
  },
  {
   "cell_type": "code",
   "execution_count": null,
   "id": "skilled-seating",
   "metadata": {},
   "outputs": [],
   "source": [
    "ret=len(padata[((padata.obs['celltype_simple'].isin(['resource']))&(padata.obs['treatment_id']==treat))])"
   ]
  },
  {
   "cell_type": "code",
   "execution_count": null,
   "id": "internal-command",
   "metadata": {},
   "outputs": [],
   "source": [
    "pd.Series([324,67,476])/9482*10000"
   ]
  },
  {
   "cell_type": "code",
   "execution_count": null,
   "id": "detailed-reading",
   "metadata": {},
   "outputs": [],
   "source": [
    "pd.Series([307,87,403])/6433*10000"
   ]
  },
  {
   "cell_type": "code",
   "execution_count": null,
   "id": "enclosed-constant",
   "metadata": {},
   "outputs": [],
   "source": [
    "meanclones=pd.concat(meanclones)\n",
    "meanclones.columns=['log_clone_nr','treatment_id']"
   ]
  },
  {
   "cell_type": "code",
   "execution_count": null,
   "id": "suitable-filter",
   "metadata": {},
   "outputs": [],
   "source": [
    "medianclones=pd.concat(medianclones)\n",
    "medianclones.columns=['log_clone_nr','treatment_id']"
   ]
  },
  {
   "cell_type": "code",
   "execution_count": null,
   "id": "collectible-parker",
   "metadata": {},
   "outputs": [],
   "source": [
    "medianclones.to_csv(figdir+'ResourceEffshared_MedianClones_perTreatment.tsv')"
   ]
  },
  {
   "cell_type": "code",
   "execution_count": null,
   "id": "pleased-array",
   "metadata": {},
   "outputs": [],
   "source": [
    "sns.set(rc={'figure.figsize':(5,3)})\n",
    "sns.set_style('ticks')\n",
    "sns.boxplot(x='log_clone_nr',y='treatment_id', data=medianclones)\n",
    "sns.swarmplot(x='log_clone_nr',y='treatment_id', data=medianclones, color='black')\n",
    "plt.legend(bbox_to_anchor=(1.05, 1), loc=2, borderaxespad=0.)\n",
    "plt.savefig(figdir+'ResourceEffshared_MedianClones_perTreatment.pdf')"
   ]
  },
  {
   "cell_type": "code",
   "execution_count": null,
   "id": "insured-condition",
   "metadata": {},
   "outputs": [],
   "source": [
    "meanclones.to_csv(figdir+'ResourceEffshared_MeanClones_perTreatment.tsv')"
   ]
  },
  {
   "cell_type": "code",
   "execution_count": null,
   "id": "listed-april",
   "metadata": {},
   "outputs": [],
   "source": [
    "sns.set(rc={'figure.figsize':(5,3)})\n",
    "sns.set_style('ticks')\n",
    "sns.boxplot(x='log_clone_nr',y='treatment_id', data=meanclones)\n",
    "sns.swarmplot(x='log_clone_nr',y='treatment_id', data=meanclones, color='black')\n",
    "plt.legend(bbox_to_anchor=(1.05, 1), loc=2, borderaxespad=0.)\n",
    "plt.savefig(figdir+'ResourceEffshared_MeanClones_perTreatment.pdf')"
   ]
  },
  {
   "cell_type": "code",
   "execution_count": null,
   "id": "moral-earth",
   "metadata": {},
   "outputs": [],
   "source": [
    "sns.set(rc={'figure.figsize':(2.5,1.5)})\n",
    "sns.set_style('ticks')\n",
    "sns.boxplot(x='log_clone_nr',y='treatment_id', data=medianclones.loc[medianclones['treatment_id'].isin(['PD1','PD1-IL2v','FAP-IL2v_PD1'])], order=['PD1-IL2v','FAP-IL2v_PD1','PD1'],)\n",
    "sns.swarmplot(x='log_clone_nr',y='treatment_id', data=medianclones.loc[medianclones['treatment_id'].isin(['PD1','PD1-IL2v','FAP-IL2v_PD1'])], color='black', order=['PD1-IL2v','FAP-IL2v_PD1','PD1'],)\n",
    "plt.legend(bbox_to_anchor=(1.05, 1), loc=2, borderaxespad=0.)\n",
    "plt.savefig(figdir+'ResourceEffshared_MedianClones_perTreatment_3Tonly.pdf')"
   ]
  },
  {
   "cell_type": "code",
   "execution_count": null,
   "id": "little-remedy",
   "metadata": {},
   "outputs": [],
   "source": [
    "sns.set(rc={'figure.figsize':(5,3)})\n",
    "sns.set_style('ticks')\n",
    "sns.boxplot(x='alpha_diversity_ind',y='treatment_id', data=pd.concat(mydiv))\n",
    "sns.swarmplot(x='alpha_diversity_ind',y='treatment_id', data=pd.concat(mydiv), color='black')\n",
    "plt.legend(bbox_to_anchor=(1.05, 1), loc=2, borderaxespad=0.)\n",
    "plt.savefig(figdir+'ResourceEffshared_Alphadiveristy_perTreatment.pdf')"
   ]
  },
  {
   "cell_type": "code",
   "execution_count": null,
   "id": "neither-explosion",
   "metadata": {},
   "outputs": [],
   "source": []
  },
  {
   "cell_type": "code",
   "execution_count": null,
   "id": "australian-coordination",
   "metadata": {},
   "outputs": [],
   "source": [
    "pd.concat(mydiv).to_csv(figdir+'ResourceEffshared_Alphadiveristy_perTreatment.tsv', sep='\\t')"
   ]
  },
  {
   "cell_type": "code",
   "execution_count": null,
   "id": "elder-priority",
   "metadata": {},
   "outputs": [],
   "source": [
    "sns.set(rc={'figure.figsize':(3,2)})\n",
    "sns.set_style('ticks')\n",
    "sns.boxplot(x='alpha_diversity_ind',y='treatment_id', order=['PD1-IL2v','FAP-IL2v_PD1','PD1'],\n",
    "            data=pd.concat(mydiv).loc[pd.concat(mydiv)['treatment_id'].isin(['PD1','PD1-IL2v','FAP-IL2v_PD1'])])\n",
    "sns.swarmplot(x='alpha_diversity_ind',y='treatment_id', order=['PD1-IL2v','FAP-IL2v_PD1','PD1'],\n",
    "              data=pd.concat(mydiv).loc[pd.concat(mydiv)['treatment_id'].isin(['PD1','PD1-IL2v','FAP-IL2v_PD1'])], color='black')\n",
    "plt.legend(bbox_to_anchor=(1.05, 1), loc=2, borderaxespad=0.)\n",
    "#plt.xlim(0.5, 1)\n",
    "plt.savefig(figdir+'ResourceEffshared_Alphadiveristy_perTreatment_3Tonly.pdf')"
   ]
  },
  {
   "cell_type": "code",
   "execution_count": null,
   "id": "combined-today",
   "metadata": {},
   "outputs": [],
   "source": [
    "sns.set(rc={'figure.figsize':(3,2)})\n",
    "sns.set_style('ticks')\n",
    "sns.boxplot(x='alpha_diversity_ind',y='treatment_id', order=['PD1-IL2v','FAP-IL2v_PD1','PD1'],\n",
    "            data=pd.concat(nmydiv).loc[pd.concat(nmydiv)['treatment_id'].isin(['PD1','PD1-IL2v','FAP-IL2v_PD1'])])\n",
    "sns.swarmplot(x='alpha_diversity_ind',y='treatment_id', order=['PD1-IL2v','FAP-IL2v_PD1','PD1'],\n",
    "              data=pd.concat(nmydiv).loc[pd.concat(nmydiv)['treatment_id'].isin(['PD1','PD1-IL2v','FAP-IL2v_PD1'])], color='black')\n",
    "plt.legend(bbox_to_anchor=(1.05, 1), loc=2, borderaxespad=0.)\n",
    "plt.xlim(0.5, 1)\n",
    "plt.savefig(figdir+'Effspec_Alphadiveristy_perTreatment_3Tonly.pdf')"
   ]
  },
  {
   "cell_type": "code",
   "execution_count": null,
   "id": "sonic-latvia",
   "metadata": {},
   "outputs": [],
   "source": [
    "\n",
    "myfract=pd.DataFrame([myfract,myfract,myfract10]).transpose()\n",
    "myfract10=pd.DataFrame([myfract10,myfract10]).transpose()"
   ]
  },
  {
   "cell_type": "code",
   "execution_count": null,
   "id": "martial-husband",
   "metadata": {},
   "outputs": [],
   "source": [
    "myfract.columns=['res only','shared <10','shared >=10']\n",
    "myfract['res only']=1-myfract['res only']\n",
    "myfract['shared <10']=myfract['shared <10']-myfract['shared >=10']\n",
    "\n",
    "myfract10.columns=['res','shared']\n",
    "myfract10['res']=1-myfract10['res']"
   ]
  },
  {
   "cell_type": "code",
   "execution_count": null,
   "id": "suburban-appliance",
   "metadata": {},
   "outputs": [],
   "source": [
    "myfract=myfract.loc[['PD1-IL2v','PD1','FAP-IL2v_PD1','Vehicle','FAP-IL2v'],:]\n",
    "myfract10=myfract10.loc[['PD1-IL2v','PD1','FAP-IL2v_PD1','Vehicle','FAP-IL2v'],:]"
   ]
  },
  {
   "cell_type": "code",
   "execution_count": null,
   "id": "going-thompson",
   "metadata": {},
   "outputs": [],
   "source": [
    "myfract.plot.barh(stacked=True, color={'res only': 'gray', 'shared <10': 'orange', 'shared >=10': 'red'})\n",
    "plt.savefig(figdir+'Resource_TCRclonality_shared_with_resource_celltype_simple.pdf')"
   ]
  },
  {
   "cell_type": "code",
   "execution_count": null,
   "id": "approved-connection",
   "metadata": {},
   "outputs": [],
   "source": [
    "myfract.to_csv(figdir+'Resource_TCRclonality_shared_with_resource_celltype_simple.tsv', sep='\\t')"
   ]
  },
  {
   "cell_type": "code",
   "execution_count": null,
   "id": "varied-produce",
   "metadata": {},
   "outputs": [],
   "source": [
    "ir.tl.alpha_diversity(adata, groupby='IND_lei', key_added='alpha_diversity_ind_leiden')"
   ]
  },
  {
   "cell_type": "code",
   "execution_count": null,
   "id": "coordinate-necklace",
   "metadata": {},
   "outputs": [],
   "source": [
    "#cella='better T effector CD8-positive, alpha-beta T cell'\n",
    "cella='effcytotox'\n",
    "cellb='resource'\n",
    "binaries={}\n",
    "for treat in ['Vehicle','PD1','PD1-IL2v', 'FAP-IL2v','FAP-IL2v_PD1']:\n",
    "    tmpdata=padata.obs.loc[padata.obs['treatment_id']==treat,['celltype_simple','clone_id','clone_id_size']].copy()\n",
    "    tmpdata=tmpdata.loc[tmpdata['celltype_simple'].isin([cella,cellb]),:]\n",
    "    tmpplot=pd.DataFrame(tmpdata.value_counts(['clone_id','celltype_simple']))\n",
    "    tmpplot.reset_index(inplace=True)\n",
    "    tmpplot.index=list(tmpplot['clone_id'])\n",
    "    tmpplot=tmpplot.drop(columns='clone_id')\n",
    "    tmpplot.columns=['celltype_simple','nr_cells']\n",
    "    allvals={}\n",
    "    for x in list(tmpplot.index):\n",
    "        sub=tmpplot.loc[x,:].copy()\n",
    "        if len(sub['celltype_simple'])==2:\n",
    "            sub=sub.reset_index().drop(columns='index')\n",
    "            a=sub.loc[sub['celltype_simple']==cella,'nr_cells']\n",
    "            b=sub.loc[sub['celltype_simple']==cellb,'nr_cells']\n",
    "            myvals=list(a)+list(b)\n",
    "        else:\n",
    "            if (sub['celltype_simple']==cellb):\n",
    "                b=[sub['nr_cells']]\n",
    "                myvals=[0]+b\n",
    "            else:\n",
    "                a=[sub['nr_cells']]\n",
    "                myvals=a+[0]\n",
    "        allvals[x]=myvals\n",
    "    allvals=np.log1p(pd.DataFrame(allvals).transpose())\n",
    "    allvals.columns=[cella,cellb]\n",
    "    allvals['color']='shared'\n",
    "    allvals.loc[(allvals[cella]==0),'color']='uniquea'\n",
    "    allvals.loc[(allvals[cellb]==0),'color']='uniqueb'\n",
    "    binaries[treat]=allvals.copy()"
   ]
  },
  {
   "cell_type": "code",
   "execution_count": null,
   "id": "affected-director",
   "metadata": {},
   "outputs": [],
   "source": [
    "for key in binaries.keys():\n",
    "#    g=np.log1p(binaries[key]).plot(cella, cellb, kind='scatter')\n",
    "#    plt.title(key)\n",
    "#    plt.xlim([-0.5, 7])\n",
    "#    plt.ylim([-0.5, 7])\n",
    "#    plt.savefig(figdir+cellaname+'_TCRscattterplots_TermExh_Resource'+key+'.pdf')\n",
    "#plt.savefig(figdir+cellaname+'_TCRscattterplots_BetterTeff_Resource.pdf')\n",
    "    plt.figure()\n",
    "    sns.set(style='white')\n",
    "    sns.set_context(\"paper\", font_scale=1.2) \n",
    "    sns.scatterplot(x=cella,y=cellb,hue='color',palette='deep',data=binaries[key])\n",
    "\n",
    "    plt.legend([],[], frameon=False)\n",
    "    plt.title(key)\n",
    "    plt.xlim([-0.5, 7])\n",
    "    plt.ylim([-0.5, 7])\n",
    "    plt.savefig(figdir+cellaname+'_TCRscattterplots_EffCytotox_Resource'+key+'.pdf')"
   ]
  },
  {
   "cell_type": "code",
   "execution_count": null,
   "id": "supposed-management",
   "metadata": {},
   "outputs": [],
   "source": [
    "for key in binaries.keys():\n",
    "    Axes=pd.plotting.scatter_matrix(binaries[key], alpha=0.1,diagonal='kde')\n",
    "    plt.title(key)\n",
    "    [plt.setp(item.yaxis.get_label(), 'size', 6) for item in Axes.ravel()]\n",
    "    [plt.setp(item.xaxis.get_label(), 'size', 6) for item in Axes.ravel()]\n",
    "    #plt.savefig(figdir+cellaname+'_TCRscattterplots_BetterTeff_Resource.pdf')\n",
    "    plt.savefig(figdir+cellaname+'_TCRscattterplots_EffCytotox_Resource_kde_'+key+'.pdf')\n",
    "\n"
   ]
  },
  {
   "cell_type": "code",
   "execution_count": null,
   "id": "southern-venue",
   "metadata": {},
   "outputs": [],
   "source": [
    "adata.write('analyzed/sw_besca_24_final/sw_besca_24_final-vdj.h5ad')"
   ]
  },
  {
   "cell_type": "markdown",
   "id": "following-honduras",
   "metadata": {},
   "source": [
    "#### Clonotype network analysis"
   ]
  },
  {
   "cell_type": "code",
   "execution_count": null,
   "id": "loose-damages",
   "metadata": {},
   "outputs": [],
   "source": [
    "### Perform only on a subset of data\n",
    "#subdata=adata[adata.obs['leiden_sep'].isin(['Tu6','Tu13','Tu5','Tu4','Tu1','Tu2','Tu3','Tu0','Tu9','Tu11', 'Tu11','Tu8','Tu15'])].copy()\n",
    "subdata=subdata[subdata.obs['treatment_id'].isin(['Vehicle','PD1','PD1-IL2v', 'FAP-IL2v','FAP-IL2v_PD1'])].copy()"
   ]
  },
  {
   "cell_type": "code",
   "execution_count": null,
   "id": "beginning-stewart",
   "metadata": {},
   "outputs": [],
   "source": [
    "subdata=tu.copy()"
   ]
  },
  {
   "cell_type": "code",
   "execution_count": null,
   "id": "deadly-elder",
   "metadata": {},
   "outputs": [],
   "source": [
    "ir.pp.ir_dist(\n",
    "    subdata,\n",
    "    metric=\"alignment\",\n",
    "    sequence=\"aa\",\n",
    "    cutoff=15,\n",
    ")"
   ]
  },
  {
   "cell_type": "code",
   "execution_count": null,
   "id": "comfortable-alarm",
   "metadata": {},
   "outputs": [],
   "source": [
    "ir.tl.define_clonotype_clusters(\n",
    "    subdata, sequence=\"aa\", metric=\"alignment\", receptor_arms=\"all\", dual_ir=\"any\"\n",
    ")"
   ]
  },
  {
   "cell_type": "code",
   "execution_count": null,
   "id": "established-litigation",
   "metadata": {},
   "outputs": [],
   "source": [
    "ir.tl.clonotype_network(subdata, min_cells=10, sequence=\"aa\", metric=\"alignment\")"
   ]
  },
  {
   "cell_type": "code",
   "execution_count": null,
   "id": "ignored-auckland",
   "metadata": {},
   "outputs": [],
   "source": [
    "subdata.write('analyzed/sw_besca_24_final/sw_besca_24_final-subdata-vdj.h5ad')"
   ]
  },
  {
   "cell_type": "code",
   "execution_count": null,
   "id": "finite-garbage",
   "metadata": {},
   "outputs": [],
   "source": [
    "ir.tl.define_clonotype_clusters(\n",
    "    subdata,\n",
    "    sequence=\"aa\",\n",
    "    metric=\"alignment\",\n",
    "    receptor_arms=\"all\",\n",
    "    dual_ir=\"primary_only\",\n",
    "    same_v_gene=True,\n",
    "    key_added=\"cc_aa_alignment_same_v\",\n",
    ")"
   ]
  },
  {
   "cell_type": "code",
   "execution_count": null,
   "id": "eastern-terry",
   "metadata": {},
   "outputs": [],
   "source": [
    "# find clonotypes with more than one `clonotype_same_v`\n",
    "ct_different_v = subdata.obs.groupby(\"cc_aa_alignment\").apply(\n",
    "    lambda x: x[\"cc_aa_alignment_same_v\"].nunique() > 1\n",
    ")\n",
    "ct_different_v = ct_different_v[ct_different_v].index.values.tolist()\n",
    "len(ct_different_v)"
   ]
  },
  {
   "cell_type": "code",
   "execution_count": null,
   "id": "communist-sixth",
   "metadata": {},
   "outputs": [],
   "source": [
    "subdata.obs.loc[\n",
    "    subdata.obs[\"cc_aa_alignment\"].isin(ct_different_v),\n",
    "    [\n",
    "        \"cc_aa_alignment\",\n",
    "        \"cc_aa_alignment_same_v\",\n",
    "        \"IR_VJ_1_v_call\",\n",
    "        \"IR_VDJ_1_v_call\",\n",
    "    ],\n",
    "].sort_values(\"cc_aa_alignment\").drop_duplicates().reset_index(drop=True)"
   ]
  },
  {
   "cell_type": "code",
   "execution_count": null,
   "id": "threaded-knitting",
   "metadata": {},
   "outputs": [],
   "source": [
    "spadata=subdata[subdata.obs['celltype_simple'].isin(['naive','resource','effcytotox','effmem','effexh'])].copy()\n",
    "initialsubset='Tcells'"
   ]
  },
  {
   "cell_type": "code",
   "execution_count": null,
   "id": "outer-speaker",
   "metadata": {},
   "outputs": [],
   "source": [
    "treats=['Vehicle','PD1','PD1-IL2v', 'FAP-IL2v','FAP-IL2v_PD1']"
   ]
  },
  {
   "cell_type": "code",
   "execution_count": null,
   "id": "floating-anxiety",
   "metadata": {},
   "outputs": [],
   "source": [
    "tmpdata=spadata.obs.loc[spadata.obs['treatment_id']==treat,['treatment_id','clone_id','clone_id_size']].copy()"
   ]
  },
  {
   "cell_type": "code",
   "execution_count": null,
   "id": "female-officer",
   "metadata": {},
   "outputs": [],
   "source": [
    "binaries={}\n",
    "for i in range(0,len(treats)):\n",
    "    for j in range(i+1, len(treats)):\n",
    "        if treats[i]!=treats[j]:\n",
    "            #cella='better T effector CD8-positive, alpha-beta T cell'\n",
    "            cella=treats[i]\n",
    "            cellb=treats[j]\n",
    "            #for treat in ['Vehicle','PD1','PD1-IL2v', 'FAP-IL2v','FAP-IL2v_PD1']:\n",
    "            tmpdata=spadata.obs.loc[:,['treatment_id','clone_id','clone_id_size']].copy()\n",
    "            tmpdata=tmpdata.loc[tmpdata['treatment_id'].isin([cella,cellb]),:]\n",
    "            tmpplot=pd.DataFrame(tmpdata.value_counts(['clone_id','treatment_id']))\n",
    "            tmpplot.reset_index(inplace=True)\n",
    "            tmpplot.index=list(tmpplot['clone_id'])\n",
    "            tmpplot=tmpplot.drop(columns='clone_id')\n",
    "            tmpplot.columns=['treatment_id','nr_cells']\n",
    "            allvals={}\n",
    "            for x in list(tmpplot.index):\n",
    "                sub=tmpplot.loc[x,:].copy()\n",
    "                if len(sub['treatment_id'])==2:\n",
    "                    sub=sub.reset_index().drop(columns='index')\n",
    "                    a=sub.loc[sub['treatment_id']==cella,'nr_cells']\n",
    "                    b=sub.loc[sub['treatment_id']==cellb,'nr_cells']\n",
    "                    myvals=list(a)+list(b)\n",
    "                else:\n",
    "                    if (sub['treatment_id']==cellb):\n",
    "                        b=[sub['nr_cells']]\n",
    "                        myvals=[0]+b\n",
    "                    else:\n",
    "                        a=[sub['nr_cells']]\n",
    "                        myvals=a+[0]\n",
    "                allvals[x]=myvals\n",
    "            allvals=np.log1p(pd.DataFrame(allvals).transpose())\n",
    "            allvals.columns=[cella,cellb]\n",
    "            allvals['color']='shared'\n",
    "            allvals.loc[(allvals[cella]==0),'color']='uniquea'\n",
    "            allvals.loc[(allvals[cellb]==0),'color']='uniqueb'\n",
    "            binaries[cella+'-vs-'+cellb]=allvals"
   ]
  },
  {
   "cell_type": "code",
   "execution_count": null,
   "id": "economic-independence",
   "metadata": {},
   "outputs": [],
   "source": [
    "compsums={}\n",
    "for key in binaries.keys():\n",
    "    plt.figure()\n",
    "    sns.set(style='white')\n",
    "    sns.set_context(\"paper\", font_scale=1.2) \n",
    "    sns.scatterplot(x=key.split('-vs-')[0],y=key.split('-vs-')[1],\n",
    "                    hue='color',palette='deep',data=binaries[key])\n",
    "\n",
    "    plt.legend([],[], frameon=False)\n",
    "    plt.title(key)\n",
    "    plt.xlim([-0.5, 7])\n",
    "    plt.ylim([-0.5, 7])\n",
    "    plt.savefig(figdir+'AllTcells_TCRscattterplots_Treatments_TuOnly_'+key+'.pdf')\n",
    "    \n",
    "    nonzero=binaries[key].loc[(binaries[key][key.split('-vs-')[0]]>0)&(binaries[key][key.split('-vs-')[1]]>0),:]\n",
    "    print(nonzero)\n",
    "    compsums[key]=len(nonzero)/len(binaries[key])\n"
   ]
  },
  {
   "cell_type": "code",
   "execution_count": null,
   "id": "indonesian-strike",
   "metadata": {},
   "outputs": [],
   "source": [
    "pd.Series(compsums).sort_values(ascending=False).plot(kind='bar')\n",
    "plt.ylabel(\"Fraction overlapping clones\")\n",
    "plt.savefig(figdir+'AllTcells_TCRscattterplots_subdata_'+key+'.pdf')"
   ]
  },
  {
   "cell_type": "markdown",
   "id": "accessible-analysis",
   "metadata": {},
   "source": [
    "#### Now based on aa similarity "
   ]
  },
  {
   "cell_type": "code",
   "execution_count": null,
   "id": "colored-companion",
   "metadata": {},
   "outputs": [],
   "source": [
    "tmpdata=spadata.obs.loc[spadata.obs['treatment_id']==treat,['treatment_id','cc_aa_alignment','cc_aa_alignment_size']].copy()\n",
    "\n",
    "binaries={}\n",
    "for i in range(0,len(treats)):\n",
    "    for j in range(i+1, len(treats)):\n",
    "        if treats[i]!=treats[j]:\n",
    "            #cella='better T effector CD8-positive, alpha-beta T cell'\n",
    "            cella=treats[i]\n",
    "            cellb=treats[j]\n",
    "            #for treat in ['Vehicle','PD1','PD1-IL2v', 'FAP-IL2v','FAP-IL2v_PD1']:\n",
    "            tmpdata=spadata.obs.loc[:,['treatment_id','cc_aa_alignment','cc_aa_alignment_size']].copy()\n",
    "            tmpdata=tmpdata.loc[tmpdata['treatment_id'].isin([cella,cellb]),:]\n",
    "            tmpplot=pd.DataFrame(tmpdata.value_counts(['cc_aa_alignment','treatment_id']))\n",
    "            tmpplot.reset_index(inplace=True)\n",
    "            tmpplot.index=list(tmpplot['cc_aa_alignment'])\n",
    "            tmpplot=tmpplot.drop(columns='cc_aa_alignment')\n",
    "            tmpplot.columns=['treatment_id','nr_cells']\n",
    "            allvals={}\n",
    "            for x in list(tmpplot.index):\n",
    "                sub=tmpplot.loc[x,:].copy()\n",
    "                if len(sub['treatment_id'])==2:\n",
    "                    sub=sub.reset_index().drop(columns='index')\n",
    "                    a=sub.loc[sub['treatment_id']==cella,'nr_cells']\n",
    "                    b=sub.loc[sub['treatment_id']==cellb,'nr_cells']\n",
    "                    myvals=list(a)+list(b)\n",
    "                else:\n",
    "                    if (sub['treatment_id']==cellb):\n",
    "                        b=[sub['nr_cells']]\n",
    "                        myvals=[0]+b\n",
    "                    else:\n",
    "                        a=[sub['nr_cells']]\n",
    "                        myvals=a+[0]\n",
    "                allvals[x]=myvals\n",
    "            allvals=np.log1p(pd.DataFrame(allvals).transpose())\n",
    "            allvals.columns=[cella,cellb]\n",
    "            allvals['color']='shared'\n",
    "            allvals.loc[(allvals[cella]==0),'color']='uniquea'\n",
    "            allvals.loc[(allvals[cellb]==0),'color']='uniqueb'\n",
    "            binaries[cella+'-vs-'+cellb]=allvals\n",
    "\n"
   ]
  },
  {
   "cell_type": "code",
   "execution_count": null,
   "id": "forward-vocabulary",
   "metadata": {},
   "outputs": [],
   "source": [
    "compsums={}\n",
    "for key in binaries.keys():\n",
    "    plt.figure()\n",
    "    sns.set(style='white')\n",
    "    sns.set_context(\"paper\", font_scale=1.2) \n",
    "    sns.scatterplot(x=key.split('-vs-')[0],y=key.split('-vs-')[1],\n",
    "                    hue='color',palette='deep',data=binaries[key])\n",
    "\n",
    "    plt.legend([],[], frameon=False)\n",
    "    plt.title(key)\n",
    "    plt.xlim([-0.5, 7])\n",
    "    plt.ylim([-0.5, 7])\n",
    "    plt.savefig(figdir+'AllTcells_TCRscattterplots_Treatments_TuOnly_AAsimilarity'+key+'.pdf')\n",
    "    \n",
    "    nonzero=binaries[key].loc[(binaries[key][key.split('-vs-')[0]]>0)&(binaries[key][key.split('-vs-')[1]]>0),:]\n",
    "    print(nonzero)\n",
    "    compsums[key]=len(nonzero)/len(binaries[key])\n"
   ]
  },
  {
   "cell_type": "code",
   "execution_count": null,
   "id": "furnished-liberty",
   "metadata": {},
   "outputs": [],
   "source": [
    "pd.Series(compsums).sort_values(ascending=False).plot(kind='bar')\n",
    "plt.ylabel(\"Fraction overlapping clones\")\n",
    "plt.savefig(figdir+'AllTcells_TCRscattterplots_subdata_AAsimilarity'+key+'.pdf')"
   ]
  },
  {
   "cell_type": "markdown",
   "id": "necessary-essay",
   "metadata": {},
   "source": [
    "#### Clonal expansion "
   ]
  },
  {
   "cell_type": "code",
   "execution_count": null,
   "id": "spectacular-memory",
   "metadata": {},
   "outputs": [],
   "source": [
    "ir.tl.clonal_expansion(adata)"
   ]
  },
  {
   "cell_type": "code",
   "execution_count": null,
   "id": "prescription-defense",
   "metadata": {},
   "outputs": [],
   "source": [
    "sc.set_figure_params(figsize=(4, 4))"
   ]
  },
  {
   "cell_type": "code",
   "execution_count": null,
   "id": "first-hypothesis",
   "metadata": {},
   "outputs": [],
   "source": [
    "sc.pl.umap(adata, color=[\"clonal_expansion\", \"clone_id_size\"])"
   ]
  },
  {
   "cell_type": "code",
   "execution_count": null,
   "id": "worth-zealand",
   "metadata": {},
   "outputs": [],
   "source": []
  },
  {
   "cell_type": "code",
   "execution_count": null,
   "id": "republican-scene",
   "metadata": {},
   "outputs": [],
   "source": [
    "adata.obs[\"clone_id_size_log1p\"]=list(np.log1p(adata.obs[\"clone_id_size\"]))"
   ]
  },
  {
   "cell_type": "code",
   "execution_count": null,
   "id": "incorporated-symphony",
   "metadata": {},
   "outputs": [],
   "source": [
    "sc.pl.umap(adata, color=[\"clonal_expansion\", \"clone_id_size\",\"clone_id_size_log1p\"],ncols=1,\n",
    "           save='Clonal_expansion_alldata.pdf')"
   ]
  },
  {
   "cell_type": "code",
   "execution_count": null,
   "id": "tested-winning",
   "metadata": {},
   "outputs": [],
   "source": [
    "subtudata=tudata[tudata.obs.index.isin(adata.obs.index)].copy()\n",
    "subtudata=subtudata[subtudata.obs['celltype_simple'].isin(['naive','resource','effcytotox','effmem','effexh'])].copy()\n",
    "initialsubset='Tcells'"
   ]
  },
  {
   "cell_type": "code",
   "execution_count": null,
   "id": "arbitrary-cartridge",
   "metadata": {},
   "outputs": [],
   "source": [
    "sc.pl.umap(subtudata,color='celltype_simple')"
   ]
  },
  {
   "cell_type": "code",
   "execution_count": null,
   "id": "adult-slovenia",
   "metadata": {},
   "outputs": [],
   "source": [
    "subtudata.obs['clone_id_size']=list(adata[subtudata.obs.index].obs['clone_id_size'])\n",
    "subtudata.obs['clone_id_size_log1p']=list(adata[subtudata.obs.index].obs['clone_id_size_log1p'])\n",
    "subtudata.obs['clonal_expansion']=list(adata[subtudata.obs.index].obs['clonal_expansion'])"
   ]
  },
  {
   "cell_type": "code",
   "execution_count": null,
   "id": "charming-sally",
   "metadata": {},
   "outputs": [],
   "source": [
    "sc.pl.umap(subtudata, color=[\"clonal_expansion\", \"clone_id_size\",\"clone_id_size_log1p\"],\n",
    "           ncols=1,save='Clonal_expansion_tudata.pdf', color_map='viridis')"
   ]
  },
  {
   "cell_type": "code",
   "execution_count": null,
   "id": "tribal-certification",
   "metadata": {},
   "outputs": [],
   "source": [
    "subtudata.obs.loc[:,['leiden','celltype','clone_id_size_log1p']]"
   ]
  },
  {
   "cell_type": "code",
   "execution_count": null,
   "id": "banner-annual",
   "metadata": {},
   "outputs": [],
   "source": [
    "sc.pl.umap(adata, color=[\"clonal_expansion\", \"clone_id_size\"])"
   ]
  },
  {
   "cell_type": "code",
   "execution_count": null,
   "id": "increasing-queue",
   "metadata": {},
   "outputs": [],
   "source": [
    "ir.pl.clonal_expansion(adata, groupby=\"CONDITION\", clip_at=20, normalize=True,figsize=(8, 5))"
   ]
  },
  {
   "cell_type": "code",
   "execution_count": null,
   "id": "offshore-appreciation",
   "metadata": {},
   "outputs": [],
   "source": [
    "ir.pl.clonal_expansion(tu, groupby=\"CONDITION\", clip_at=20, normalize=True,figsize=(5, 5))"
   ]
  },
  {
   "cell_type": "code",
   "execution_count": null,
   "id": "concrete-battlefield",
   "metadata": {},
   "outputs": [],
   "source": [
    "ir.pl.clonal_expansion(tu, groupby=\"sample_id\", clip_at=20, normalize=True,figsize=(14, 5))"
   ]
  },
  {
   "cell_type": "code",
   "execution_count": null,
   "id": "competitive-composer",
   "metadata": {},
   "outputs": [],
   "source": [
    "ir.pl.clonal_expansion(adata, groupby=\"leiden\", clip_at=10, normalize=True,figsize=(14, 5))"
   ]
  },
  {
   "cell_type": "code",
   "execution_count": null,
   "id": "collect-allah",
   "metadata": {},
   "outputs": [],
   "source": [
    "ir.pl.clonal_expansion(tu[tu.obs['celltype_simple']!='other'], groupby=\"celltype_simple\", clip_at=20, \n",
    "                       normalize=True,figsize=(5, 5))\n",
    "plt.savefig(figdir+'ClonalExpansion_celltype_simple.pdf')"
   ]
  },
  {
   "cell_type": "code",
   "execution_count": null,
   "id": "lesbian-aging",
   "metadata": {},
   "outputs": [],
   "source": [
    "adata.write('analyzed/sw_besca_24_final/sw_besca_24_final-vdj.h5ad')"
   ]
  },
  {
   "cell_type": "code",
   "execution_count": null,
   "id": "limited-globe",
   "metadata": {},
   "outputs": [],
   "source": [
    "il2vdata=adata[adata.obs['treatment_id']=='FAP-IL2v'].copy()\n",
    "pd1data=adata[adata.obs['treatment_id']=='PD1'].copy()\n",
    "pd1fapil2vdata=adata[adata.obs['treatment_id']=='FAP_IL2v_PD1'].copy()\n",
    "pd1il2vdata=adata[adata.obs['treatment_id']=='PD1-IL2v'].copy()\n",
    "vehdata=adata[adata.obs['treatment_id']=='Vehicle'].copy()\n",
    "tu=adata[adata.obs['tissue']=='pancreas'].copy()\n",
    "nai=adata[adata.obs['celltype_simple']=='naive'].copy()\n",
    "res=adata[adata.obs['celltype_simple']=='resource'].copy()\n",
    "effcytotox=adata[adata.obs['celltype_simple']=='effcytotox'].copy()\n",
    "effmem=adata[adata.obs['celltype_simple']=='effmem'].copy()\n",
    "effexh=adata[adata.obs['celltype_simple']=='effexh'].copy()\n",
    "eff=adata[adata.obs['celltype_simple'].isin(['effmem','effcytotox','effexh'])].copy()"
   ]
  },
  {
   "cell_type": "code",
   "execution_count": null,
   "id": "timely-controversy",
   "metadata": {},
   "outputs": [],
   "source": [
    "sc.pl.umap(adata, color='leiden', legend_loc='on data')"
   ]
  },
  {
   "cell_type": "code",
   "execution_count": null,
   "id": "different-ceramic",
   "metadata": {},
   "outputs": [],
   "source": [
    "ir.pl.clonal_expansion(adata, \"CONDITION\", clip_at=10)"
   ]
  },
  {
   "cell_type": "code",
   "execution_count": null,
   "id": "micro-present",
   "metadata": {},
   "outputs": [],
   "source": [
    "ir.pl.clonal_expansion(tu, \"treatment_id\", clip_at=10)"
   ]
  },
  {
   "cell_type": "code",
   "execution_count": null,
   "id": "impaired-folks",
   "metadata": {},
   "outputs": [],
   "source": [
    "ax = ir.pl.alpha_diversity(adata, groupby=\"leiden\",figsize=(14, 5))\n",
    "plt.savefig(figdir+'Alpha_diversity_leiden_adata.pdf')"
   ]
  },
  {
   "cell_type": "code",
   "execution_count": null,
   "id": "official-exploration",
   "metadata": {},
   "outputs": [],
   "source": [
    "ax = ir.pl.alpha_diversity(adata, groupby=\"treatment_id\",figsize=(3, 3))\n",
    "plt.savefig(figdir+'Alpha_diversity_treatmen_id_adata.pdf')"
   ]
  },
  {
   "cell_type": "code",
   "execution_count": null,
   "id": "unnecessary-wiring",
   "metadata": {},
   "outputs": [],
   "source": [
    "ax = ir.pl.alpha_diversity(tu[tu.obs['celltype_simple'].isin(['effmem','effcytotox','effexh'])], groupby=\"treatment_id\",figsize=(3, 3))\n",
    "plt.savefig(figdir+'Alpha_diversity_treatmen_id_matureCD8T.pdf')"
   ]
  },
  {
   "cell_type": "code",
   "execution_count": null,
   "id": "imported-traveler",
   "metadata": {},
   "outputs": [],
   "source": [
    "ax = ir.pl.alpha_diversity(tu[tu.obs['celltype_simple'].isin(['effmem','effcytotox','effexh','naive','resource'])], groupby=\"celltype_simple\",figsize=(3, 3))\n",
    "plt.savefig(figdir+'Alpha_diversity_celltype_simple_matureCD8T.pdf')"
   ]
  },
  {
   "cell_type": "code",
   "execution_count": null,
   "id": "neither-commander",
   "metadata": {},
   "outputs": [],
   "source": [
    "adata.obs['IND_cell']=list(adata.obs['sample_id'].astype(str)+\"_\"+adata.obs['celltype_simple'].astype(str))"
   ]
  },
  {
   "cell_type": "code",
   "execution_count": null,
   "id": "posted-merit",
   "metadata": {},
   "outputs": [],
   "source": [
    "adata.obs['IND_lei']=list(adata.obs['sample_id'].astype(str)+\"_\"+adata.obs['leiden'].astype(str))"
   ]
  },
  {
   "cell_type": "code",
   "execution_count": null,
   "id": "brave-pacific",
   "metadata": {},
   "outputs": [],
   "source": [
    "ir.tl.alpha_diversity(adata, groupby='IND_cell')"
   ]
  },
  {
   "cell_type": "code",
   "execution_count": null,
   "id": "constant-camera",
   "metadata": {},
   "outputs": [],
   "source": [
    "ir.tl.alpha_diversity(adata, groupby='IND_lei', key_added='alpha_diversity_ind_leiden')"
   ]
  },
  {
   "cell_type": "code",
   "execution_count": null,
   "id": "cardiac-honor",
   "metadata": {},
   "outputs": [],
   "source": [
    "adata.write('analyzed/sw_besca_24_final/sw_besca_24_final-vdj.h5ad')"
   ]
  },
  {
   "cell_type": "code",
   "execution_count": null,
   "id": "dense-cream",
   "metadata": {},
   "outputs": [],
   "source": [
    "#sc.read('analyzed/sw_besca_24_final/sw_besca_24_final-vdj.h5ad')"
   ]
  },
  {
   "cell_type": "code",
   "execution_count": null,
   "id": "advanced-commissioner",
   "metadata": {},
   "outputs": [],
   "source": [
    "import seaborn as sns\n",
    "import matplotlib.pyplot as plt"
   ]
  },
  {
   "cell_type": "code",
   "execution_count": null,
   "id": "ancient-folks",
   "metadata": {},
   "outputs": [],
   "source": [
    "tmp=adata[adata.obs['tissue']=='pancreas'].obs.loc[:,['clone_id_size','alpha_diversity_clone_id','treatment_id','celltype_simple','sample_id']].copy()"
   ]
  },
  {
   "cell_type": "code",
   "execution_count": null,
   "id": "cutting-scope",
   "metadata": {},
   "outputs": [],
   "source": [
    "cellorder=['naive','resource','effmem','effcytotox','effexh']"
   ]
  },
  {
   "cell_type": "code",
   "execution_count": null,
   "id": "surprising-salvation",
   "metadata": {},
   "outputs": [],
   "source": [
    "cellorder2=['resource','effmem','effcytotox','effexh']"
   ]
  },
  {
   "cell_type": "code",
   "execution_count": null,
   "id": "honest-effect",
   "metadata": {},
   "outputs": [],
   "source": [
    "sub=tmp.loc[tmp['celltype_simple'].isin(cellorder),['alpha_diversity_clone_id','treatment_id','celltype_simple']].copy()\n",
    "sub['celltype_sep']=sub['celltype_simple'].cat.remove_unused_categories()\n",
    "sub=sub.drop_duplicates()"
   ]
  },
  {
   "cell_type": "code",
   "execution_count": null,
   "id": "recognized-regulation",
   "metadata": {},
   "outputs": [],
   "source": [
    "sub2=tmp.loc[tmp['celltype_simple'].isin(cellorder2),['alpha_diversity_clone_id','treatment_id','celltype_simple']].copy()\n",
    "sub2['celltype_simple']=sub2['celltype_simple'].cat.remove_unused_categories()\n",
    "sub2=sub2.drop_duplicates()"
   ]
  },
  {
   "cell_type": "code",
   "execution_count": null,
   "id": "enormous-bandwidth",
   "metadata": {},
   "outputs": [],
   "source": [
    "#sub2=np.log2(tmp.loc[tmp['celltype_sep'].isin(cellorder),:].groupby(['sample_id','celltype_sep']).mean('alpha_diversity_clone_id')).drop_duplicates()"
   ]
  },
  {
   "cell_type": "code",
   "execution_count": null,
   "id": "assured-keyboard",
   "metadata": {},
   "outputs": [],
   "source": [
    "sns.set(rc={'figure.figsize':(6,14)})\n",
    "sns.set_style('ticks')\n",
    "sns.boxplot(x='alpha_diversity_clone_id',y='celltype_simple',hue='treatment_id', orient='h',data=sub, order=cellorder)\n",
    "sns.swarmplot(x='alpha_diversity_clone_id',y='celltype_simple',\n",
    "              hue='treatment_id', orient='h',data=sub, color=\".25\",dodge=True, order=cellorder)\n",
    "plt.legend(bbox_to_anchor=(1.05, 1), loc=2, borderaxespad=0.)"
   ]
  },
  {
   "cell_type": "code",
   "execution_count": null,
   "id": "guided-mississippi",
   "metadata": {},
   "outputs": [],
   "source": [
    "sns.set(rc={'figure.figsize':(5,6)})\n",
    "sns.set_style('ticks')\n",
    "sns.boxplot(x='alpha_diversity_clone_id',y='celltype_simple', data=sub, order=cellorder)\n",
    "sns.swarmplot(x='alpha_diversity_clone_id',y='celltype_simple', data=sub, color=\".25\", order=cellorder)"
   ]
  },
  {
   "cell_type": "code",
   "execution_count": null,
   "id": "interpreted-producer",
   "metadata": {},
   "outputs": [],
   "source": [
    "sns.set(rc={'figure.figsize':(5,6)})\n",
    "sns.set_style('ticks')\n",
    "sns.boxplot(x='alpha_diversity_clone_id',y='treatment_id', data=sub, color='lightgray')\n",
    "sns.swarmplot(x='alpha_diversity_clone_id',y='treatment_id', data=sub,  hue='celltype_simple')\n",
    "plt.legend(bbox_to_anchor=(1.05, 1), loc=2, borderaxespad=0.)"
   ]
  },
  {
   "cell_type": "code",
   "execution_count": null,
   "id": "rotary-ecology",
   "metadata": {},
   "outputs": [],
   "source": [
    "sns.set(rc={'figure.figsize':(5,3)})\n",
    "sns.set_style('ticks')\n",
    "sns.boxplot(x='alpha_diversity_clone_id',y='treatment_id', data=sub2, color='lightgray')\n",
    "sns.swarmplot(x='alpha_diversity_clone_id',y='treatment_id', hue='celltype_simple',data=sub2)\n",
    "plt.legend(bbox_to_anchor=(1.05, 1), loc=2, borderaxespad=0.)\n",
    "plt.savefig(figdir+'AlphaDiversity_per_treatment_celltype_simple.pdf')"
   ]
  },
  {
   "cell_type": "code",
   "execution_count": null,
   "id": "canadian-vessel",
   "metadata": {},
   "outputs": [],
   "source": [
    "sns.set(rc={'figure.figsize':(5,3)})\n",
    "sns.set_style('ticks')\n",
    "sns.boxplot(x='alpha_diversity_clone_id',y='treatment_id', data=sub2.loc[sub2['treatment_id'].isin(['FAP-IL2v_PD1','PD1','PD1-IL2v']),:], color='lightgray')\n",
    "sns.swarmplot(x='alpha_diversity_clone_id',y='treatment_id', hue='celltype_simple',data=sub2.loc[sub2['treatment_id'].isin(['FAP-IL2v_PD1','PD1','PD1-IL2v']),:])\n",
    "plt.legend(bbox_to_anchor=(1.05, 1), loc=2, borderaxespad=0.)\n",
    "plt.savefig(figdir+'AlphaDiversity_per_treatment_celltype_simple_3Tonly.pdf')"
   ]
  },
  {
   "cell_type": "code",
   "execution_count": null,
   "id": "joined-garage",
   "metadata": {},
   "outputs": [],
   "source": [
    "sub2"
   ]
  },
  {
   "cell_type": "markdown",
   "id": "adequate-america",
   "metadata": {},
   "source": [
    "### Convert to html\n"
   ]
  },
  {
   "cell_type": "code",
   "execution_count": null,
   "id": "finished-sydney",
   "metadata": {},
   "outputs": [],
   "source": [
    "\n",
    "%%javascript\n",
    "IPython.notebook.kernel.execute('nb_name = \"' + IPython.notebook.notebook_name + '\"')\n",
    "\n",
    "\n"
   ]
  },
  {
   "cell_type": "code",
   "execution_count": null,
   "id": "awful-report",
   "metadata": {},
   "outputs": [],
   "source": [
    "nb_name = os.path.join(os.getcwd(), nb_name)\n",
    "\n",
    "! jupyter nbconvert --to html {nb_name}"
   ]
  },
  {
   "cell_type": "code",
   "execution_count": null,
   "id": "rolled-enemy",
   "metadata": {},
   "outputs": [],
   "source": []
  }
 ],
 "metadata": {
  "kernelspec": {
   "display_name": "besca24_dev",
   "language": "python",
   "name": "besca24_dev"
  },
  "language_info": {
   "codemirror_mode": {
    "name": "ipython",
    "version": 3
   },
   "file_extension": ".py",
   "mimetype": "text/x-python",
   "name": "python",
   "nbconvert_exporter": "python",
   "pygments_lexer": "ipython3",
   "version": "3.8.12"
  }
 },
 "nbformat": 4,
 "nbformat_minor": 5
}
